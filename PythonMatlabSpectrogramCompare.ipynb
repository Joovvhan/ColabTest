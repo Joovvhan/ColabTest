{
  "nbformat": 4,
  "nbformat_minor": 0,
  "metadata": {
    "colab": {
      "name": "PythonMatlabSpectrogramCompare.ipynb",
      "version": "0.3.2",
      "provenance": [],
      "include_colab_link": true
    },
    "kernelspec": {
      "name": "python3",
      "display_name": "Python 3"
    }
  },
  "cells": [
    {
      "cell_type": "markdown",
      "metadata": {
        "id": "view-in-github",
        "colab_type": "text"
      },
      "source": [
        "[View in Colaboratory](https://colab.research.google.com/github/Joovvhan/ColabTest/blob/master/PythonMatlabSpectrogramCompare.ipynb)"
      ]
    },
    {
      "metadata": {
        "id": "fb53xzl1zd3j",
        "colab_type": "code",
        "colab": {}
      },
      "cell_type": "code",
      "source": [
        "from scipy import signal\n",
        "import matplotlib.pyplot as plt\n",
        "import numpy as np\n",
        "\n",
        "fs = 10e3\n",
        "N = 1e5\n",
        "amp = 2 * np.sqrt(2)\n",
        "noise_power = 0.01 * fs / 2\n",
        "time = np.arange(N) / float(fs)\n",
        "mod = 500*np.cos(2*np.pi*0.25*time)\n",
        "carrier = amp * np.sin(2*np.pi*3e3*time + mod)\n",
        "noise = np.random.normal(scale=np.sqrt(noise_power), size=time.shape)\n",
        "noise *= np.exp(-time/5)\n",
        "x = carrier + noise\n",
        "nsc = 256\n",
        "nov = nsc/2\n",
        "nff = nsc\n"
      ],
      "execution_count": 0,
      "outputs": []
    },
    {
      "metadata": {
        "id": "hmB5EidDq-UE",
        "colab_type": "code",
        "colab": {}
      },
      "cell_type": "code",
      "source": [
        "\n",
        "\n",
        "\n",
        "f, t, Sxx = signal.spectrogram(x, fs, window=signal.get_window('hamming', nsc), noverlap=nov, nfft=nff, mode='psd')\n",
        "\n",
        "plt.pcolormesh(t, f, Sxx, cmap='viridis')\n",
        "plt.ylabel('Frequency [Hz]')\n",
        "plt.xlabel('Time [sec]')\n",
        "plt.colorbar()\n",
        "\n",
        "plt.show()"
      ],
      "execution_count": 0,
      "outputs": []
    },
    {
      "metadata": {
        "id": "OiufuH2-vpkX",
        "colab_type": "code",
        "colab": {}
      },
      "cell_type": "code",
      "source": [
        "import matplotlib.pyplot as plt\n",
        "import numpy as np\n",
        "\n",
        "\n",
        "t = time\n",
        "NFFT = nsc\n",
        "Fs = fs\n",
        "\n",
        "fig, (ax1, ax2) = plt.subplots(nrows=2)\n",
        "ax1.plot(t, x)\n",
        "Pxx, freqs, bins, im = ax2.specgram(x, NFFT=NFFT, Fs=Fs, noverlap=nov, window=np.hamming(nsc))\n",
        "# The `specgram` method returns 4 objects. They are:\n",
        "# - Pxx: the periodogram\n",
        "# - freqs: the frequency vector\n",
        "# - bins: the centers of the time bins\n",
        "# - im: the matplotlib.image.AxesImage instance representing the data in the plot\n",
        "plt.show()"
      ],
      "execution_count": 0,
      "outputs": []
    },
    {
      "metadata": {
        "id": "T3d1pbGswc8c",
        "colab_type": "code",
        "colab": {
          "base_uri": "https://localhost:8080/",
          "height": 53
        },
        "outputId": "f0562f7e-568a-4f78-aad9-5635e9d3914f"
      },
      "cell_type": "code",
      "source": [
        "print('Sxx:', Sxx.shape)\n",
        "print('Pxx:', Pxx.shape)"
      ],
      "execution_count": 0,
      "outputs": [
        {
          "output_type": "stream",
          "text": [
            "Sxx: (129, 780)\n",
            "Pxx: (129, 780)\n"
          ],
          "name": "stdout"
        }
      ]
    },
    {
      "metadata": {
        "id": "jtntIKvd3Vma",
        "colab_type": "code",
        "colab": {
          "base_uri": "https://localhost:8080/",
          "height": 127
        },
        "outputId": "f9e317b0-0251-4740-de80-797e299b5b9a"
      },
      "cell_type": "code",
      "source": [
        "from google.colab import drive\n",
        "drive.mount('/content/gdrive')"
      ],
      "execution_count": 0,
      "outputs": [
        {
          "output_type": "stream",
          "text": [
            "Go to this URL in a browser: https://accounts.google.com/o/oauth2/auth?client_id=947318989803-6bn6qk8qdgf4n4g3pfee6491hc0brc4i.apps.googleusercontent.com&redirect_uri=urn%3Aietf%3Awg%3Aoauth%3A2.0%3Aoob&scope=email%20https%3A%2F%2Fwww.googleapis.com%2Fauth%2Fdocs.test%20https%3A%2F%2Fwww.googleapis.com%2Fauth%2Fdrive%20https%3A%2F%2Fwww.googleapis.com%2Fauth%2Fdrive.photos.readonly%20https%3A%2F%2Fwww.googleapis.com%2Fauth%2Fpeopleapi.readonly&response_type=code\n",
            "\n",
            "Enter your authorization code:\n",
            "··········\n",
            "Mounted at /content/gdrive\n"
          ],
          "name": "stdout"
        }
      ]
    },
    {
      "metadata": {
        "id": "XZR77Z5P39td",
        "colab_type": "code",
        "colab": {}
      },
      "cell_type": "code",
      "source": [
        "import os\n",
        "os.listdir()\n",
        "os.chdir('gdrive')\n"
      ],
      "execution_count": 0,
      "outputs": []
    },
    {
      "metadata": {
        "id": "fLVCwvf04ZD6",
        "colab_type": "code",
        "colab": {
          "base_uri": "https://localhost:8080/",
          "height": 35
        },
        "outputId": "cb7ac91e-eb78-4d5c-b437-0fec4485c752"
      },
      "cell_type": "code",
      "source": [
        "os.listdir()"
      ],
      "execution_count": 0,
      "outputs": [
        {
          "output_type": "execute_result",
          "data": {
            "text/plain": [
              "['My Drive']"
            ]
          },
          "metadata": {
            "tags": []
          },
          "execution_count": 14
        }
      ]
    },
    {
      "metadata": {
        "id": "--PpYvX4tJIr",
        "colab_type": "code",
        "colab": {}
      },
      "cell_type": "code",
      "source": [
        "np.savetxt('My Drive/x.csv', x, delimiter=\",\")"
      ],
      "execution_count": 0,
      "outputs": []
    }
  ]
}