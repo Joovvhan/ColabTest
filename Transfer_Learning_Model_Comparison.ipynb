{
  "nbformat": 4,
  "nbformat_minor": 0,
  "metadata": {
    "colab": {
      "name": "Transfer Learning Model Comparison.ipynb",
      "version": "0.3.2",
      "provenance": [],
      "include_colab_link": true
    },
    "kernelspec": {
      "name": "python3",
      "display_name": "Python 3"
    }
  },
  "cells": [
    {
      "cell_type": "markdown",
      "metadata": {
        "id": "view-in-github",
        "colab_type": "text"
      },
      "source": [
        "[View in Colaboratory](https://colab.research.google.com/github/Joovvhan/ColabTest/blob/master/Transfer_Learning_Model_Comparison.ipynb)"
      ]
    },
    {
      "metadata": {
        "id": "nxSASpgF7unA",
        "colab_type": "code",
        "colab": {
          "base_uri": "https://localhost:8080/",
          "height": 35
        },
        "outputId": "17c280ce-c849-49af-a5a6-432feb6ca013"
      },
      "cell_type": "code",
      "source": [
        "from google.colab import drive\n",
        "drive.mount('/content/gdrive')"
      ],
      "execution_count": 2,
      "outputs": [
        {
          "output_type": "stream",
          "text": [
            "Mounted at /content/gdrive\n"
          ],
          "name": "stdout"
        }
      ]
    },
    {
      "metadata": {
        "id": "dTd14pQF8sbC",
        "colab_type": "code",
        "colab": {}
      },
      "cell_type": "code",
      "source": [
        "import os\n",
        "import matplotlib.pyplot as plt\n",
        "import numpy as np\n",
        "import scipy.io.wavfile as wf"
      ],
      "execution_count": 0,
      "outputs": []
    },
    {
      "metadata": {
        "id": "YA4w0qgn86O9",
        "colab_type": "code",
        "colab": {
          "base_uri": "https://localhost:8080/",
          "height": 35
        },
        "outputId": "3b0ebc4c-c1e8-46cd-f71a-663698097ac8"
      },
      "cell_type": "code",
      "source": [
        "os.listdir('gdrive/My Drive/Colab/Data')"
      ],
      "execution_count": 11,
      "outputs": [
        {
          "output_type": "execute_result",
          "data": {
            "text/plain": [
              "['A3F1P3', 'A3F5P3', 'A3F3P1', 'A3F3P5', 'A5F3P3', 'A1F3P3']"
            ]
          },
          "metadata": {
            "tags": []
          },
          "execution_count": 11
        }
      ]
    },
    {
      "metadata": {
        "id": "StFo8tBm8-4s",
        "colab_type": "code",
        "colab": {}
      },
      "cell_type": "code",
      "source": [
        "dataPath = 'gdrive/My Drive/Colab/Data'\n",
        "\n",
        "\"\"\"\n",
        "folders = os.listdir(dataPath)\n",
        "\n",
        "for folder in folders:\n",
        "  files = os.listdir(dataPath + '/' + folder)\n",
        "  print(len(files))\n",
        "  print(files[-1])\n",
        "\"\"\"\n",
        "\n",
        "folderF1 = dataPath + '/' + 'A3F1P3'  \n",
        "folderF5 = dataPath + '/' + 'A3F5P3'\n",
        "filesF1 = os.listdir(folderF1)\n",
        "filesF5 = os.listdir(folderF5)\n",
        "\n",
        "folderA5 = dataPath + '/' + 'A5F3P3'\n",
        "filesA5 = os.listdir(folderA5)"
      ],
      "execution_count": 0,
      "outputs": []
    },
    {
      "metadata": {
        "id": "WqSDKWm5WE2f",
        "colab_type": "code",
        "colab": {
          "base_uri": "https://localhost:8080/",
          "height": 35
        },
        "outputId": "b9e8f51f-c6af-4fec-811c-e916ca349ec0"
      },
      "cell_type": "code",
      "source": [
        "filesF1[0]"
      ],
      "execution_count": 13,
      "outputs": [
        {
          "output_type": "execute_result",
          "data": {
            "text/plain": [
              "'A3.490879_F0.139398_P2.076554_H360.426598.wav'"
            ]
          },
          "metadata": {
            "tags": []
          },
          "execution_count": 13
        }
      ]
    },
    {
      "metadata": {
        "id": "hVwdMUwTWnbp",
        "colab_type": "code",
        "colab": {}
      },
      "cell_type": "code",
      "source": [
        "fs, dataInt16 = wf.read(folderF1 + '/' + filesF1[0])\n",
        "dataFloat = dataInt16 / (2 ** 15)\n",
        "\n",
        "fs, dataInt16 = wf.read(folderF5 + '/' + filesF5[0])\n",
        "dataFloat = dataInt16 / (2 ** 15)"
      ],
      "execution_count": 0,
      "outputs": []
    },
    {
      "metadata": {
        "id": "AZQiR1afrToE",
        "colab_type": "code",
        "colab": {}
      },
      "cell_type": "code",
      "source": [
        "nsc = 1470\n",
        "nov = nsc/2\n",
        "nff = nsc \n",
        "\n",
        "Pxx, freqs, bins, _ = plt.specgram(dataFloat, NFFT=nff, Fs=fs, noverlap=nov, \\\n",
        "                                   window=np.hamming(nsc), cmap='viridis')\n",
        "plt.close()\n",
        "img = Pxx[0:224, :]\n",
        "\n",
        "plt.imshow(10*np.log10(img), cmap='viridis')\n",
        "plt.close()"
      ],
      "execution_count": 0,
      "outputs": []
    },
    {
      "metadata": {
        "id": "LwVFaqAjV_a9",
        "colab_type": "code",
        "colab": {}
      },
      "cell_type": "code",
      "source": [
        "import time"
      ],
      "execution_count": 0,
      "outputs": []
    },
    {
      "metadata": {
        "id": "tKdtQNWYAYpa",
        "colab_type": "code",
        "colab": {}
      },
      "cell_type": "code",
      "source": [
        "from tqdm import tqdm, trange"
      ],
      "execution_count": 0,
      "outputs": []
    },
    {
      "metadata": {
        "id": "5AskF2qFT2xr",
        "colab_type": "code",
        "colab": {
          "base_uri": "https://localhost:8080/",
          "height": 1817
        },
        "outputId": "44a6f24f-b108-4d29-97d1-600afb70fd47"
      },
      "cell_type": "code",
      "source": [
        "imgSize = 224\n",
        "imgsF1 = np.zeros([len(filesF1), imgSize, imgSize])\n",
        "\n",
        "t0 = time.time()\n",
        "\n",
        "for i in trange(len(filesF1)):\n",
        "    fs, dataInt16 = wf.read(folderF1 + '/' + filesF1[0])\n",
        "    dataFloat = dataInt16 / (2 ** 15)\n",
        "    Pxx, _, _, _ = plt.specgram(dataFloat, NFFT=nff, Fs=fs, noverlap=nov, \\\n",
        "                                       window=np.hamming(nsc), cmap='viridis')\n",
        "    plt.close()\n",
        "    imgsF1[i, :, :] = 10 * np.log10(Pxx[0:224, :])\n",
        "    \n",
        "    currentTime = time.time()\n",
        "    \n",
        "    if (i % 10 == 0):\n",
        "        print('Current: {:6.4f}s \\t Estimated: {:6.4f}s'.format(currentTime - t0, (currentTime - t0) * (len(filesF1) - i) / (i + 1)))\n",
        "    \n",
        "               "
      ],
      "execution_count": 36,
      "outputs": [
        {
          "output_type": "stream",
          "text": [
            "Current: 0.0564s \t Estimated: 56.4432s\n",
            "Current: 0.6282s \t Estimated: 56.5354s\n",
            "Current: 1.1870s \t Estimated: 55.3944s\n",
            "Current: 1.7478s \t Estimated: 54.6905s\n",
            "Current: 2.3145s \t Estimated: 54.1923s\n",
            "Current: 2.8773s \t Estimated: 53.5974s\n",
            "Current: 3.4393s \t Estimated: 52.9994s\n",
            "Current: 3.9994s \t Estimated: 52.3867s\n",
            "Current: 4.5597s \t Estimated: 51.7891s\n",
            "Current: 6.9061s \t Estimated: 69.0613s\n",
            "Current: 7.4607s \t Estimated: 66.4811s\n",
            "Current: 8.0111s \t Estimated: 64.2331s\n",
            "Current: 8.5653s \t Estimated: 62.2931s\n",
            "Current: 9.2903s \t Estimated: 61.6989s\n",
            "Current: 9.8370s \t Estimated: 59.9989s\n",
            "Current: 10.3780s \t Estimated: 58.4194s\n",
            "Current: 10.9279s \t Estimated: 57.0154s\n",
            "Current: 11.4804s \t Estimated: 55.7234s\n",
            "Current: 12.0437s \t Estimated: 54.5627s\n",
            "Current: 12.8320s \t Estimated: 54.4185s\n",
            "Current: 13.3995s \t Estimated: 53.3312s\n",
            "Current: 13.9622s \t Estimated: 52.2755s\n",
            "Current: 14.5326s \t Estimated: 51.2916s\n",
            "Current: 15.1057s \t Estimated: 50.3523s\n",
            "Current: 15.6673s \t Estimated: 49.4074s\n",
            "Current: 16.2336s \t Estimated: 48.5069s\n",
            "Current: 16.7971s \t Estimated: 47.6240s\n",
            "Current: 17.6531s \t Estimated: 47.5526s\n",
            "Current: 18.2153s \t Estimated: 46.6727s\n",
            "Current: 18.7792s \t Estimated: 45.8187s\n",
            "Current: 19.3428s \t Estimated: 44.9831s\n",
            "Current: 19.9057s \t Estimated: 44.1637s\n",
            "Current: 20.4682s \t Estimated: 43.3595s\n",
            "Current: 21.0283s \t Estimated: 42.5649s\n",
            "Current: 21.6001s \t Estimated: 41.8067s\n",
            "Current: 22.1610s \t Estimated: 41.0389s\n",
            "Current: 23.1019s \t Estimated: 40.9564s\n",
            "Current: 23.6615s \t Estimated: 40.1798s\n",
            "Current: 24.2243s \t Estimated: 39.4202s\n",
            "Current: 24.7920s \t Estimated: 38.6780s\n",
            "Current: 25.3504s \t Estimated: 37.9308s\n",
            "Current: 25.9131s \t Estimated: 37.1989s\n",
            "Current: 26.4763s \t Estimated: 36.4757s\n",
            "Current: 27.0396s \t Estimated: 35.7601s\n",
            "Current: 27.6014s \t Estimated: 35.0494s\n",
            "Current: 28.1638s \t Estimated: 34.3460s\n",
            "Current: 28.7263s \t Estimated: 33.6490s\n",
            "Current: 29.7539s \t Estimated: 33.4811s\n",
            "Current: 30.3407s \t Estimated: 32.8008s\n",
            "Current: 30.9185s \t Estimated: 32.1149s\n",
            "Current: 31.4930s \t Estimated: 31.4302s\n",
            "Current: 32.0600s \t Estimated: 30.7424s\n",
            "Current: 32.6362s \t Estimated: 30.0679s\n",
            "Current: 33.2068s \t Estimated: 29.3921s\n",
            "Current: 33.7762s \t Estimated: 28.7191s\n",
            "Current: 34.3454s \t Estimated: 28.0497s\n",
            "Current: 34.9077s \t Estimated: 27.3786s\n",
            "Current: 35.4740s \t Estimated: 26.7142s\n",
            "Current: 36.0360s \t Estimated: 26.0501s\n",
            "Current: 36.6067s \t Estimated: 25.3955s\n",
            "Current: 37.1668s \t Estimated: 24.7366s\n",
            "Current: 37.7249s \t Estimated: 24.0797s\n",
            "Current: 38.9001s \t Estimated: 23.8036s\n",
            "Current: 39.4571s \t Estimated: 23.1365s\n",
            "Current: 40.0216s \t Estimated: 22.4770s\n",
            "Current: 40.5828s \t Estimated: 21.8187s\n",
            "Current: 41.1448s \t Estimated: 21.1638s\n",
            "Current: 41.7104s \t Estimated: 20.5133s\n",
            "Current: 42.2666s \t Estimated: 19.8610s\n",
            "Current: 42.8360s \t Estimated: 19.2173s\n",
            "Current: 43.3978s \t Estimated: 18.5725s\n",
            "Current: 43.9566s \t Estimated: 17.9289s\n",
            "Current: 44.5121s \t Estimated: 17.2862s\n",
            "Current: 45.0715s \t Estimated: 16.6475s\n",
            "Current: 45.6354s \t Estimated: 16.0124s\n",
            "Current: 46.1925s \t Estimated: 15.3770s\n",
            "Current: 46.7539s \t Estimated: 14.7450s\n",
            "Current: 47.3102s \t Estimated: 14.1133s\n",
            "Current: 47.8742s \t Estimated: 13.4857s\n",
            "Current: 48.4405s \t Estimated: 12.8603s\n",
            "Current: 49.7500s \t Estimated: 12.4220s\n",
            "Current: 50.3088s \t Estimated: 11.7863s\n",
            "Current: 50.8729s \t Estimated: 11.1536s\n",
            "Current: 51.4309s \t Estimated: 10.5214s\n",
            "Current: 51.9916s \t Estimated: 9.8914s\n",
            "Current: 52.5538s \t Estimated: 9.2633s\n",
            "Current: 53.1170s \t Estimated: 8.6369s\n",
            "Current: 53.6763s \t Estimated: 8.0114s\n",
            "Current: 54.2370s \t Estimated: 7.3876s\n",
            "Current: 54.8016s \t Estimated: 6.7656s\n",
            "Current: 55.3678s \t Estimated: 6.1451s\n",
            "Current: 55.9313s \t Estimated: 5.5256s\n",
            "Current: 56.4920s \t Estimated: 4.9070s\n",
            "Current: 57.0543s \t Estimated: 4.2898s\n",
            "Current: 57.6142s \t Estimated: 3.6736s\n",
            "Current: 58.1741s \t Estimated: 3.0586s\n",
            "Current: 58.7336s \t Estimated: 2.4447s\n",
            "Current: 59.3014s \t Estimated: 1.8322s\n",
            "Current: 59.8636s \t Estimated: 1.2205s\n",
            "Current: 60.4383s \t Estimated: 0.6099s\n"
          ],
          "name": "stdout"
        }
      ]
    },
    {
      "metadata": {
        "id": "VEDNxMjPT34S",
        "colab_type": "code",
        "colab": {}
      },
      "cell_type": "code",
      "source": [
        ""
      ],
      "execution_count": 0,
      "outputs": []
    }
  ]
}