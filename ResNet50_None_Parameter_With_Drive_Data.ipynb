{
  "nbformat": 4,
  "nbformat_minor": 0,
  "metadata": {
    "colab": {
      "name": "ResNet50_None_Parameter_With_Drive_Data.ipynb",
      "version": "0.3.2",
      "provenance": [],
      "collapsed_sections": [],
      "include_colab_link": true
    },
    "kernelspec": {
      "name": "python3",
      "display_name": "Python 3"
    },
    "accelerator": "GPU"
  },
  "cells": [
    {
      "cell_type": "markdown",
      "metadata": {
        "id": "view-in-github",
        "colab_type": "text"
      },
      "source": [
        "[View in Colaboratory](https://colab.research.google.com/github/Joovvhan/ColabTest/blob/master/ResNet50_None_Parameter_With_Drive_Data.ipynb)"
      ]
    },
    {
      "metadata": {
        "id": "9tFBGZA3qJs_",
        "colab_type": "code",
        "colab": {
          "base_uri": "https://localhost:8080/",
          "height": 145
        },
        "outputId": "9b95dfe6-8c75-46c9-f77f-7d2a1e791a2c"
      },
      "cell_type": "code",
      "source": [
        "import numpy as np\n",
        "import scipy.ndimage\n",
        "import matplotlib.pyplot as plt\n",
        "plt.rcParams['figure.figsize'] = (7,7) # Make the figures a bit bigger\n",
        "\n",
        "from keras.datasets import mnist\n",
        "from keras.models import Sequential\n",
        "from keras.layers.core import Dense, Dropout, Activation\n",
        "from keras.utils import np_utils\n",
        "from keras.layers import Input\n",
        "from keras.applications.resnet50 import ResNet50\n",
        "from keras.preprocessing import image\n",
        "from keras.applications.resnet50 import preprocess_input, decode_predictions\n",
        "from keras.layers import Flatten\n",
        "from keras.models import Model\n",
        "from keras.layers import Dense, GlobalAveragePooling2D\n",
        "from keras.callbacks import ModelCheckpoint\n",
        "import random\n",
        "\n",
        "import os\n",
        "import glob\n",
        "from scipy.io import wavfile\n",
        "import math\n",
        "import datetime\n",
        "from time import strftime\n",
        "from keras import optimizers, Model, applications\n",
        "from keras.callbacks import ReduceLROnPlateau, EarlyStopping, CSVLogger\n",
        "from keras.models import model_from_json, Sequential\n",
        "from keras.applications import VGG16\n",
        "import matplotlib.pyplot as plt\n",
        "from sklearn.metrics import confusion_matrix\n",
        "import itertools\n",
        "import shutil\n",
        "\n",
        "\n",
        "from google.colab import drive\n",
        "drive.mount('/content/gdrive')"
      ],
      "execution_count": 1,
      "outputs": [
        {
          "output_type": "stream",
          "text": [
            "Using TensorFlow backend.\n"
          ],
          "name": "stderr"
        },
        {
          "output_type": "stream",
          "text": [
            "Go to this URL in a browser: https://accounts.google.com/o/oauth2/auth?client_id=947318989803-6bn6qk8qdgf4n4g3pfee6491hc0brc4i.apps.googleusercontent.com&redirect_uri=urn%3Aietf%3Awg%3Aoauth%3A2.0%3Aoob&scope=email%20https%3A%2F%2Fwww.googleapis.com%2Fauth%2Fdocs.test%20https%3A%2F%2Fwww.googleapis.com%2Fauth%2Fdrive%20https%3A%2F%2Fwww.googleapis.com%2Fauth%2Fdrive.photos.readonly%20https%3A%2F%2Fwww.googleapis.com%2Fauth%2Fpeopleapi.readonly&response_type=code\n",
            "\n",
            "Enter your authorization code:\n",
            "··········\n",
            "Mounted at /content/gdrive\n"
          ],
          "name": "stdout"
        }
      ]
    },
    {
      "metadata": {
        "id": "uTiTuLTnqT8g",
        "colab_type": "code",
        "colab": {}
      },
      "cell_type": "code",
      "source": [
        "def ConvertDateIdx2Idx(files, dates):\n",
        "    idx = list()\n",
        "    \n",
        "    for date in dates:\n",
        "        for i in range(len(files)):\n",
        "            if date in files[i]:\n",
        "                idx.append(i)\n",
        "    \n",
        "    idx = list(set(idx))\n",
        "    idx.sort()\n",
        "    \n",
        "    return idx"
      ],
      "execution_count": 0,
      "outputs": []
    },
    {
      "metadata": {
        "id": "pSyPjvVAqb2L",
        "colab_type": "code",
        "colab": {}
      },
      "cell_type": "code",
      "source": [
        "def ConvertFile2Image(files):\n",
        "    \n",
        "    image = np.zeros([len(files), 224, 224])\n",
        "    \n",
        "    for i in range(len(files)):\n",
        "        curWave = wavfile.read(files[i])\n",
        "        fs = curWave[0]\n",
        "        yInt16 = curWave[1]\n",
        "\n",
        "        nscValue = 1470\n",
        "\n",
        "        if len(yInt16.shape) == 2 :\n",
        "            yInt16 = yInt16[:, 0]\n",
        "\n",
        "        y = yInt16.astype(float)/32768\n",
        "\n",
        "        nsc = nscValue\n",
        "        nov = nsc * 0.5\n",
        "        nff = nsc\n",
        "\n",
        "        f, t, yImg = spectrogram_matlab(y, nsc, nov, nff, fs)\n",
        "        \n",
        "        image[i, :, :] = yImg[0:224, 0:224]           \n",
        "        \n",
        "    return image"
      ],
      "execution_count": 0,
      "outputs": []
    },
    {
      "metadata": {
        "id": "f2sNviygqpTL",
        "colab_type": "code",
        "colab": {}
      },
      "cell_type": "code",
      "source": [
        "def MemoryEfficientMean(image):\n",
        "    \n",
        "    meanValue = 0\n",
        "    count = 1\n",
        "    for i in range(image.shape[0]):\n",
        "        for j in range(image.shape[1]):\n",
        "            for k in range(image.shape[2]):\n",
        "                meanValue = ((count - 1) * meanValue + image[i, j, k])/ count\n",
        "                count = count + 1\n",
        "                \n",
        "    return meanValue"
      ],
      "execution_count": 0,
      "outputs": []
    },
    {
      "metadata": {
        "id": "17f2fUD1qrIT",
        "colab_type": "code",
        "colab": {}
      },
      "cell_type": "code",
      "source": [
        "def MemoryEfficientSTD(image, meanValue):\n",
        "    \n",
        "    varValue = 0\n",
        "    count = 1\n",
        "    for i in range(image.shape[0]):\n",
        "        for j in range(image.shape[1]):\n",
        "            for k in range(image.shape[2]):\n",
        "                newVar = (image[i, j, k] - meanValue) ** 2\n",
        "                varValue = ((count - 1) * varValue + newVar)/ count\n",
        "                count = count + 1\n",
        "    \n",
        "    stdValue = math.sqrt(varValue)\n",
        "    \n",
        "    return stdValue"
      ],
      "execution_count": 0,
      "outputs": []
    },
    {
      "metadata": {
        "id": "a0ElAllFqtfW",
        "colab_type": "code",
        "colab": {}
      },
      "cell_type": "code",
      "source": [
        "def stft_matlab(x, wlen, hop, nfft, fs):\n",
        "    xlen = len(x)\n",
        "\n",
        "    win = np.hamming(wlen + 1)[0:-1]\n",
        "\n",
        "    rown = np.int(np.ceil((1 + nfft)/2))\n",
        "    coln = np.int(1 + np.fix((xlen - wlen)/hop))\n",
        "    stft = np.zeros([rown, coln])\n",
        "\n",
        "    idx = 0\n",
        "\n",
        "    for col in range(0, coln):\n",
        "        xx = x[idx:idx + wlen]\n",
        "        xw = np.asarray([xx[i] * win[i] for i in range(wlen)])\n",
        "        xw = xw.reshape(-1)\n",
        "        X = np.fft.fft(xw, nfft)\n",
        "        stft[:, col] = X[0:rown]\n",
        "        idx = idx + hop\n",
        "\n",
        "    t = np.arange(wlen/2, wlen + (coln - 1)*hop, hop) / fs\n",
        "    f = np.arange(rown) * fs / nfft\n",
        "\n",
        "    return [stft, f, t]"
      ],
      "execution_count": 0,
      "outputs": []
    },
    {
      "metadata": {
        "id": "nyr1ktqkqwFs",
        "colab_type": "code",
        "colab": {}
      },
      "cell_type": "code",
      "source": [
        "def spectrogram_matlab(y, nsc, nov, nff, fs):\n",
        "    nsc = int(nsc)\n",
        "    nov = int(nov)\n",
        "    nff = int(nff)\n",
        "    fs = int(fs)\n",
        "    stft, f, t = stft_matlab(y, nsc, nsc - nov, nff, fs)\n",
        "    fbin = f[1] - f[0]\n",
        "    nS = (1 / (2 * (nff / 2 + 1))) * stft\n",
        "    cFactor = 0.3974 * 0.621608634748729\n",
        "    Pxx_ = 2 * (1 / fbin) * (1 / cFactor) * np.multiply(nS, np.conjugate(nS))\n",
        "    Pxx_[0, :] = (1 / fbin) * (1 / cFactor) * np.multiply(nS[0, :], np.conjugate(nS[0, :]))\n",
        "    Pxx = abs(Pxx_)\n",
        "    stftLog = 10 * np.log10(Pxx + 1e-50)\n",
        "    stftLog = stftLog[1:, :]\n",
        "    return [f, t, stftLog]"
      ],
      "execution_count": 0,
      "outputs": []
    },
    {
      "metadata": {
        "id": "SvUskpilqyQy",
        "colab_type": "code",
        "colab": {}
      },
      "cell_type": "code",
      "source": [
        "def flip_images(X_imgs):\n",
        "    X_flip = []\n",
        "\n",
        "    for img in range(X_imgs.shape[0]):\n",
        "        flipped_imgs = np.fliplr(X_imgs[i, :, :])\n",
        "        X_flip.append(flipped_imgs)\n",
        "        \n",
        "    X_flip = np.array(X_flip, dtype = np.float32)\n",
        "\n",
        "    return X_flip.reshape([X_imgs.shape[0], 256, 64])"
      ],
      "execution_count": 0,
      "outputs": []
    },
    {
      "metadata": {
        "id": "anM9i44tq0Vm",
        "colab_type": "code",
        "colab": {}
      },
      "cell_type": "code",
      "source": [
        "import matplotlib.pyplot as plt\n",
        "\n",
        "def plot_confusion_matrix(cm, classes,\n",
        "                          normalize=False,\n",
        "                          title='Confusion matrix',\n",
        "                          cmap=plt.cm.Blues):\n",
        "    \"\"\"\n",
        "    This function prints and plots the confusion matrix.\n",
        "    Normalization can be applied by setting `normalize=True`.\n",
        "    \"\"\"\n",
        "    if normalize:\n",
        "        cm = cm.astype('float') / cm.sum(axis=1)[:, np.newaxis]\n",
        "        print(\"Normalized confusion matrix\")\n",
        "    else:\n",
        "        print('Confusion matrix, without normalization')\n",
        "\n",
        "    print(cm)\n",
        "\n",
        "    plt.imshow(cm, interpolation='nearest', cmap=cmap)\n",
        "    plt.title(title)\n",
        "    plt.colorbar()\n",
        "    tick_marks = np.arange(len(classes))\n",
        "    plt.xticks(tick_marks, classes, rotation=45)\n",
        "    plt.yticks(tick_marks, classes)\n",
        "\n",
        "    fmt = '.2f' if normalize else 'd'\n",
        "    thresh = cm.max() / 2.\n",
        "    for i, j in itertools.product(range(cm.shape[0]), range(cm.shape[1])):\n",
        "        plt.text(j, i, format(cm[i, j], fmt),\n",
        "                 horizontalalignment=\"center\",\n",
        "                 color=\"white\" if cm[i, j] > thresh else \"black\")\n",
        "\n",
        "    plt.tight_layout()\n",
        "    plt.ylabel('True label')\n",
        "    plt.xlabel('Predicted label')"
      ],
      "execution_count": 0,
      "outputs": []
    },
    {
      "metadata": {
        "id": "P1x8akFXq8mY",
        "colab_type": "code",
        "colab": {
          "base_uri": "https://localhost:8080/",
          "height": 730
        },
        "outputId": "06163934-863f-4314-c767-1a648d1d918c"
      },
      "cell_type": "code",
      "source": [
        "import os\n",
        "import glob\n",
        "\n",
        "os.chdir(\"/content/gdrive/My Drive/Colab/Data/RandomModulationFreq\")\n",
        "\n",
        "trainRate = 0.8\n",
        "\n",
        "files = glob.glob(\"*.wav\")\n",
        "\n",
        "images = ConvertFile2Image(files)"
      ],
      "execution_count": 10,
      "outputs": [
        {
          "output_type": "stream",
          "text": [
            "/usr/local/lib/python3.6/dist-packages/ipykernel_launcher.py:17: ComplexWarning: Casting complex values to real discards the imaginary part\n"
          ],
          "name": "stderr"
        },
        {
          "output_type": "error",
          "ename": "KeyboardInterrupt",
          "evalue": "ignored",
          "traceback": [
            "\u001b[0;31m---------------------------------------------------------------------------\u001b[0m",
            "\u001b[0;31mKeyboardInterrupt\u001b[0m                         Traceback (most recent call last)",
            "\u001b[0;32m<ipython-input-10-f4b2aee5092d>\u001b[0m in \u001b[0;36m<module>\u001b[0;34m()\u001b[0m\n\u001b[1;32m      8\u001b[0m \u001b[0mfiles\u001b[0m \u001b[0;34m=\u001b[0m \u001b[0mglob\u001b[0m\u001b[0;34m.\u001b[0m\u001b[0mglob\u001b[0m\u001b[0;34m(\u001b[0m\u001b[0;34m\"*.wav\"\u001b[0m\u001b[0;34m)\u001b[0m\u001b[0;34m\u001b[0m\u001b[0m\n\u001b[1;32m      9\u001b[0m \u001b[0;34m\u001b[0m\u001b[0m\n\u001b[0;32m---> 10\u001b[0;31m \u001b[0mimages\u001b[0m \u001b[0;34m=\u001b[0m \u001b[0mConvertFile2Image\u001b[0m\u001b[0;34m(\u001b[0m\u001b[0mfiles\u001b[0m\u001b[0;34m)\u001b[0m\u001b[0;34m\u001b[0m\u001b[0m\n\u001b[0m",
            "\u001b[0;32m<ipython-input-3-ab640c39df50>\u001b[0m in \u001b[0;36mConvertFile2Image\u001b[0;34m(files)\u001b[0m\n\u001b[1;32m     19\u001b[0m         \u001b[0mnff\u001b[0m \u001b[0;34m=\u001b[0m \u001b[0mnsc\u001b[0m\u001b[0;34m\u001b[0m\u001b[0m\n\u001b[1;32m     20\u001b[0m \u001b[0;34m\u001b[0m\u001b[0m\n\u001b[0;32m---> 21\u001b[0;31m         \u001b[0mf\u001b[0m\u001b[0;34m,\u001b[0m \u001b[0mt\u001b[0m\u001b[0;34m,\u001b[0m \u001b[0myImg\u001b[0m \u001b[0;34m=\u001b[0m \u001b[0mspectrogram_matlab\u001b[0m\u001b[0;34m(\u001b[0m\u001b[0my\u001b[0m\u001b[0;34m,\u001b[0m \u001b[0mnsc\u001b[0m\u001b[0;34m,\u001b[0m \u001b[0mnov\u001b[0m\u001b[0;34m,\u001b[0m \u001b[0mnff\u001b[0m\u001b[0;34m,\u001b[0m \u001b[0mfs\u001b[0m\u001b[0;34m)\u001b[0m\u001b[0;34m\u001b[0m\u001b[0m\n\u001b[0m\u001b[1;32m     22\u001b[0m \u001b[0;34m\u001b[0m\u001b[0m\n\u001b[1;32m     23\u001b[0m         \u001b[0mimage\u001b[0m\u001b[0;34m[\u001b[0m\u001b[0mi\u001b[0m\u001b[0;34m,\u001b[0m \u001b[0;34m:\u001b[0m\u001b[0;34m,\u001b[0m \u001b[0;34m:\u001b[0m\u001b[0;34m]\u001b[0m \u001b[0;34m=\u001b[0m \u001b[0myImg\u001b[0m\u001b[0;34m[\u001b[0m\u001b[0;36m0\u001b[0m\u001b[0;34m:\u001b[0m\u001b[0;36m224\u001b[0m\u001b[0;34m,\u001b[0m \u001b[0;36m0\u001b[0m\u001b[0;34m:\u001b[0m\u001b[0;36m224\u001b[0m\u001b[0;34m]\u001b[0m\u001b[0;34m\u001b[0m\u001b[0m\n",
            "\u001b[0;32m<ipython-input-7-b5ef4fc57312>\u001b[0m in \u001b[0;36mspectrogram_matlab\u001b[0;34m(y, nsc, nov, nff, fs)\u001b[0m\n\u001b[1;32m      4\u001b[0m     \u001b[0mnff\u001b[0m \u001b[0;34m=\u001b[0m \u001b[0mint\u001b[0m\u001b[0;34m(\u001b[0m\u001b[0mnff\u001b[0m\u001b[0;34m)\u001b[0m\u001b[0;34m\u001b[0m\u001b[0m\n\u001b[1;32m      5\u001b[0m     \u001b[0mfs\u001b[0m \u001b[0;34m=\u001b[0m \u001b[0mint\u001b[0m\u001b[0;34m(\u001b[0m\u001b[0mfs\u001b[0m\u001b[0;34m)\u001b[0m\u001b[0;34m\u001b[0m\u001b[0m\n\u001b[0;32m----> 6\u001b[0;31m     \u001b[0mstft\u001b[0m\u001b[0;34m,\u001b[0m \u001b[0mf\u001b[0m\u001b[0;34m,\u001b[0m \u001b[0mt\u001b[0m \u001b[0;34m=\u001b[0m \u001b[0mstft_matlab\u001b[0m\u001b[0;34m(\u001b[0m\u001b[0my\u001b[0m\u001b[0;34m,\u001b[0m \u001b[0mnsc\u001b[0m\u001b[0;34m,\u001b[0m \u001b[0mnsc\u001b[0m \u001b[0;34m-\u001b[0m \u001b[0mnov\u001b[0m\u001b[0;34m,\u001b[0m \u001b[0mnff\u001b[0m\u001b[0;34m,\u001b[0m \u001b[0mfs\u001b[0m\u001b[0;34m)\u001b[0m\u001b[0;34m\u001b[0m\u001b[0m\n\u001b[0m\u001b[1;32m      7\u001b[0m     \u001b[0mfbin\u001b[0m \u001b[0;34m=\u001b[0m \u001b[0mf\u001b[0m\u001b[0;34m[\u001b[0m\u001b[0;36m1\u001b[0m\u001b[0;34m]\u001b[0m \u001b[0;34m-\u001b[0m \u001b[0mf\u001b[0m\u001b[0;34m[\u001b[0m\u001b[0;36m0\u001b[0m\u001b[0;34m]\u001b[0m\u001b[0;34m\u001b[0m\u001b[0m\n\u001b[1;32m      8\u001b[0m     \u001b[0mnS\u001b[0m \u001b[0;34m=\u001b[0m \u001b[0;34m(\u001b[0m\u001b[0;36m1\u001b[0m \u001b[0;34m/\u001b[0m \u001b[0;34m(\u001b[0m\u001b[0;36m2\u001b[0m \u001b[0;34m*\u001b[0m \u001b[0;34m(\u001b[0m\u001b[0mnff\u001b[0m \u001b[0;34m/\u001b[0m \u001b[0;36m2\u001b[0m \u001b[0;34m+\u001b[0m \u001b[0;36m1\u001b[0m\u001b[0;34m)\u001b[0m\u001b[0;34m)\u001b[0m\u001b[0;34m)\u001b[0m \u001b[0;34m*\u001b[0m \u001b[0mstft\u001b[0m\u001b[0;34m\u001b[0m\u001b[0m\n",
            "\u001b[0;32m<ipython-input-6-1451efc656ee>\u001b[0m in \u001b[0;36mstft_matlab\u001b[0;34m(x, wlen, hop, nfft, fs)\u001b[0m\n\u001b[1;32m     12\u001b[0m     \u001b[0;32mfor\u001b[0m \u001b[0mcol\u001b[0m \u001b[0;32min\u001b[0m \u001b[0mrange\u001b[0m\u001b[0;34m(\u001b[0m\u001b[0;36m0\u001b[0m\u001b[0;34m,\u001b[0m \u001b[0mcoln\u001b[0m\u001b[0;34m)\u001b[0m\u001b[0;34m:\u001b[0m\u001b[0;34m\u001b[0m\u001b[0m\n\u001b[1;32m     13\u001b[0m         \u001b[0mxx\u001b[0m \u001b[0;34m=\u001b[0m \u001b[0mx\u001b[0m\u001b[0;34m[\u001b[0m\u001b[0midx\u001b[0m\u001b[0;34m:\u001b[0m\u001b[0midx\u001b[0m \u001b[0;34m+\u001b[0m \u001b[0mwlen\u001b[0m\u001b[0;34m]\u001b[0m\u001b[0;34m\u001b[0m\u001b[0m\n\u001b[0;32m---> 14\u001b[0;31m         \u001b[0mxw\u001b[0m \u001b[0;34m=\u001b[0m \u001b[0mnp\u001b[0m\u001b[0;34m.\u001b[0m\u001b[0masarray\u001b[0m\u001b[0;34m(\u001b[0m\u001b[0;34m[\u001b[0m\u001b[0mxx\u001b[0m\u001b[0;34m[\u001b[0m\u001b[0mi\u001b[0m\u001b[0;34m]\u001b[0m \u001b[0;34m*\u001b[0m \u001b[0mwin\u001b[0m\u001b[0;34m[\u001b[0m\u001b[0mi\u001b[0m\u001b[0;34m]\u001b[0m \u001b[0;32mfor\u001b[0m \u001b[0mi\u001b[0m \u001b[0;32min\u001b[0m \u001b[0mrange\u001b[0m\u001b[0;34m(\u001b[0m\u001b[0mwlen\u001b[0m\u001b[0;34m)\u001b[0m\u001b[0;34m]\u001b[0m\u001b[0;34m)\u001b[0m\u001b[0;34m\u001b[0m\u001b[0m\n\u001b[0m\u001b[1;32m     15\u001b[0m         \u001b[0mxw\u001b[0m \u001b[0;34m=\u001b[0m \u001b[0mxw\u001b[0m\u001b[0;34m.\u001b[0m\u001b[0mreshape\u001b[0m\u001b[0;34m(\u001b[0m\u001b[0;34m-\u001b[0m\u001b[0;36m1\u001b[0m\u001b[0;34m)\u001b[0m\u001b[0;34m\u001b[0m\u001b[0m\n\u001b[1;32m     16\u001b[0m         \u001b[0mX\u001b[0m \u001b[0;34m=\u001b[0m \u001b[0mnp\u001b[0m\u001b[0;34m.\u001b[0m\u001b[0mfft\u001b[0m\u001b[0;34m.\u001b[0m\u001b[0mfft\u001b[0m\u001b[0;34m(\u001b[0m\u001b[0mxw\u001b[0m\u001b[0;34m,\u001b[0m \u001b[0mnfft\u001b[0m\u001b[0;34m)\u001b[0m\u001b[0;34m\u001b[0m\u001b[0m\n",
            "\u001b[0;32m<ipython-input-6-1451efc656ee>\u001b[0m in \u001b[0;36m<listcomp>\u001b[0;34m(.0)\u001b[0m\n\u001b[1;32m     12\u001b[0m     \u001b[0;32mfor\u001b[0m \u001b[0mcol\u001b[0m \u001b[0;32min\u001b[0m \u001b[0mrange\u001b[0m\u001b[0;34m(\u001b[0m\u001b[0;36m0\u001b[0m\u001b[0;34m,\u001b[0m \u001b[0mcoln\u001b[0m\u001b[0;34m)\u001b[0m\u001b[0;34m:\u001b[0m\u001b[0;34m\u001b[0m\u001b[0m\n\u001b[1;32m     13\u001b[0m         \u001b[0mxx\u001b[0m \u001b[0;34m=\u001b[0m \u001b[0mx\u001b[0m\u001b[0;34m[\u001b[0m\u001b[0midx\u001b[0m\u001b[0;34m:\u001b[0m\u001b[0midx\u001b[0m \u001b[0;34m+\u001b[0m \u001b[0mwlen\u001b[0m\u001b[0;34m]\u001b[0m\u001b[0;34m\u001b[0m\u001b[0m\n\u001b[0;32m---> 14\u001b[0;31m         \u001b[0mxw\u001b[0m \u001b[0;34m=\u001b[0m \u001b[0mnp\u001b[0m\u001b[0;34m.\u001b[0m\u001b[0masarray\u001b[0m\u001b[0;34m(\u001b[0m\u001b[0;34m[\u001b[0m\u001b[0mxx\u001b[0m\u001b[0;34m[\u001b[0m\u001b[0mi\u001b[0m\u001b[0;34m]\u001b[0m \u001b[0;34m*\u001b[0m \u001b[0mwin\u001b[0m\u001b[0;34m[\u001b[0m\u001b[0mi\u001b[0m\u001b[0;34m]\u001b[0m \u001b[0;32mfor\u001b[0m \u001b[0mi\u001b[0m \u001b[0;32min\u001b[0m \u001b[0mrange\u001b[0m\u001b[0;34m(\u001b[0m\u001b[0mwlen\u001b[0m\u001b[0;34m)\u001b[0m\u001b[0;34m]\u001b[0m\u001b[0;34m)\u001b[0m\u001b[0;34m\u001b[0m\u001b[0m\n\u001b[0m\u001b[1;32m     15\u001b[0m         \u001b[0mxw\u001b[0m \u001b[0;34m=\u001b[0m \u001b[0mxw\u001b[0m\u001b[0;34m.\u001b[0m\u001b[0mreshape\u001b[0m\u001b[0;34m(\u001b[0m\u001b[0;34m-\u001b[0m\u001b[0;36m1\u001b[0m\u001b[0;34m)\u001b[0m\u001b[0;34m\u001b[0m\u001b[0m\n\u001b[1;32m     16\u001b[0m         \u001b[0mX\u001b[0m \u001b[0;34m=\u001b[0m \u001b[0mnp\u001b[0m\u001b[0;34m.\u001b[0m\u001b[0mfft\u001b[0m\u001b[0;34m.\u001b[0m\u001b[0mfft\u001b[0m\u001b[0;34m(\u001b[0m\u001b[0mxw\u001b[0m\u001b[0;34m,\u001b[0m \u001b[0mnfft\u001b[0m\u001b[0;34m)\u001b[0m\u001b[0;34m\u001b[0m\u001b[0m\n",
            "\u001b[0;31mKeyboardInterrupt\u001b[0m: "
          ]
        }
      ]
    },
    {
      "metadata": {
        "id": "yORT7L2mrzhh",
        "colab_type": "code",
        "colab": {}
      },
      "cell_type": "code",
      "source": [
        "normalImages = images[0:1000]\n",
        "faultImages = images[3999:5000]\n",
        "restImages = images[1000:4000]"
      ],
      "execution_count": 0,
      "outputs": []
    },
    {
      "metadata": {
        "id": "Q82CSZXGr2D3",
        "colab_type": "code",
        "colab": {}
      },
      "cell_type": "code",
      "source": [
        "trainNormalIdx = np.random.choice(999, int(1000 * 0.8), replace=False)\n",
        "testNormalIdx = list(set(range(0, 1000)) - set(trainNormalIdx))\n",
        "\n",
        "normTrainImages = normalImages[trainNormalIdx, :, :]\n",
        "normTestImages = normalImages[testNormalIdx, :, :]\n"
      ],
      "execution_count": 0,
      "outputs": []
    },
    {
      "metadata": {
        "id": "JokPLOezr4VX",
        "colab_type": "code",
        "colab": {}
      },
      "cell_type": "code",
      "source": [
        "trainFaultIdx = np.random.choice(1000, int(1000 * 0.8), replace=False)\n",
        "testFaultIdx = list(set(range(0, 1000)) - set(trainFaultIdx))\n",
        "\n",
        "faultTrainImages = faultImages[trainFaultIdx, :, :]\n",
        "faultTestImages = faultImages[testFaultIdx, :, :]"
      ],
      "execution_count": 0,
      "outputs": []
    },
    {
      "metadata": {
        "id": "Gea4C8Qdr60c",
        "colab_type": "code",
        "colab": {}
      },
      "cell_type": "code",
      "source": [
        "faultTrainLabel = np.stack((np.zeros(800), np.ones(800)), axis = -1)\n",
        "faultTestLabel = np.stack((np.zeros(200), np.ones(200)), axis = -1)\n",
        "normTrainLabel = np.stack((np.ones(800), np.zeros(800)), axis = -1)\n",
        "normTestLabel = np.stack((np.ones(200), np.zeros(200)), axis = -1)\n",
        "trainLabel = np.vstack((faultTrainLabel, normTrainLabel))\n",
        "testLabel = np.vstack((faultTestLabel, normTestLabel))"
      ],
      "execution_count": 0,
      "outputs": []
    },
    {
      "metadata": {
        "id": "R2voEgwsr-Li",
        "colab_type": "code",
        "colab": {}
      },
      "cell_type": "code",
      "source": [
        "faultTrainLabel = np.stack((np.zeros(800), np.ones(800)), axis = -1)\n",
        "faultTestLabel = np.stack((np.zeros(200), np.ones(200)), axis = -1)\n",
        "normTrainLabel = np.stack((np.ones(800), np.zeros(800)), axis = -1)\n",
        "normTestLabel = np.stack((np.ones(200), np.zeros(200)), axis = -1)\n",
        "\n",
        "print('Calculating Mean and Standard Deviation of Training')\n",
        "trainImage = np.vstack([faultTrainImages, normTrainImages])\n",
        "del faultTrainImages\n",
        "del normTrainImages\n",
        "meanTrain = MemoryEfficientMean(trainImage)\n",
        "stdTrain = MemoryEfficientSTD(trainImage, meanTrain)\n",
        "\n",
        "print('Normalizing Training Image')\n",
        "normalizedTrainImage = (trainImage - meanTrain)/stdTrain\n",
        "\n",
        "del trainImage\n",
        "\n",
        "normalizedTrainImage = normalizedTrainImage.reshape(list(normalizedTrainImage.shape) + [1])\n",
        "\n",
        "print('Calculating Mean and Standard Deviation of Test')\n",
        "testImage = np.vstack([faultTestImages, normTestImages])\n",
        "del faultTestImages\n",
        "del normTestImages\n",
        "meanTest = meanTrain\n",
        "stdTest = stdTrain\n",
        "\n",
        "print('Normalizing Test Image')\n",
        "normalizedTestImage = (testImage - meanTest)/stdTest\n",
        "\n",
        "del testImage\n",
        "\n",
        "normalizedTestImage = normalizedTestImage.reshape(list(normalizedTestImage.shape) + [1])\n",
        "\n",
        "trainLabel = np.vstack((faultTrainLabel, normTrainLabel))\n",
        "testLabel = np.vstack((faultTestLabel, normTestLabel))\n",
        "\n",
        "normalizedRestImage = (restImages - meanTest)/stdTest\n",
        "\n",
        "normalizedRestImage = normalizedRestImage.reshape(list(normalizedRestImage.shape) + [1])\n",
        "\n",
        "os.chdir(\"/content/gdrive/My Drive/Colab/Data/RandomModulationFreq\")\n",
        "saveFileName = 'Hungry' + '.npz'\n",
        "\n",
        "print('Saving Input Data')    \n",
        "np.savez(saveFileName, normalizedTrainImage = normalizedTrainImage, \n",
        "         normalizedTestImage = normalizedTestImage,\n",
        "         normalizedRestImage = normalizedRestImage,\n",
        "        trainLabel = trainLabel, testLabel = testLabel)    "
      ],
      "execution_count": 0,
      "outputs": []
    },
    {
      "metadata": {
        "id": "QtrbuICesNw8",
        "colab_type": "code",
        "colab": {
          "base_uri": "https://localhost:8080/",
          "height": 71
        },
        "outputId": "7df845c8-9c4d-4751-8de0-8f133caa42e2"
      },
      "cell_type": "code",
      "source": [
        "os.chdir(\"/content/gdrive/My Drive/Colab/Data/RandomModulationFreq\")\n",
        "time = datetime.datetime.now()\n",
        "modelFolderName = strftime(\"%Y%m%d-%H%M%S\")\n",
        "os.mkdir(modelFolderName)    \n",
        "os.chdir(\"/content/gdrive/My Drive/Colab/Data/RandomModulationFreq/\" + modelFolderName)\n",
        "\n",
        "os.chdir(\"/content/gdrive/My Drive/Colab/Data/RandomModulationFreq\")\n",
        "loadFileName = 'Hungry' + '.npz'\n",
        "loadedFile = np.load(loadFileName)\n",
        "\n",
        "print('Loading NPZ Values')\n",
        "normalizedTrainImage  = loadedFile['normalizedTrainImage']\n",
        "normalizedTestImage  = loadedFile['normalizedTestImage']\n",
        "trainLabel = loadedFile['trainLabel']\n",
        "testLabel = loadedFile['testLabel']\n",
        "# meanTrain = loadedFile['meanTrain']\n",
        "# stdTrain = loadedFile['stdTrain']\n",
        "# faultTestFiles = loadedFile['faultTestFiles']\n",
        "# normTestFiles = loadedFile['normTestFiles']\n",
        "\n",
        "print('Building 3 Channel Training Images')\n",
        "X_Train = np.stack([normalizedTrainImage[:, :, :, 0], normalizedTrainImage[:, :, :, 0], normalizedTrainImage[:, :, :, 0]], axis = -1)\n",
        "del normalizedTrainImage\n",
        "Label_Train = trainLabel\n",
        "\n",
        "print('Building 3 Channel Test Images')\n",
        "X_Test = np.stack([normalizedTestImage[:, :, :, 0], normalizedTestImage[:, :, :, 0], normalizedTestImage[:, :, :, 0]], axis = -1)\n",
        "del normalizedTestImage\n",
        "Label_Test = testLabel"
      ],
      "execution_count": 12,
      "outputs": [
        {
          "output_type": "stream",
          "text": [
            "Loading NPZ Values\n",
            "Building 3 Channel Training Images\n",
            "Building 3 Channel Test Images\n"
          ],
          "name": "stdout"
        }
      ]
    },
    {
      "metadata": {
        "id": "iTU58_BisW4Q",
        "colab_type": "code",
        "colab": {}
      },
      "cell_type": "code",
      "source": [
        "X_Rest = np.stack([normalizedRestImage[:, :, :, 0], normalizedRestImage[:, :, :, 0], normalizedRestImage[:, :, :, 0]], axis = -1)"
      ],
      "execution_count": 0,
      "outputs": []
    },
    {
      "metadata": {
        "id": "SBwh5q44sZxZ",
        "colab_type": "code",
        "colab": {
          "base_uri": "https://localhost:8080/",
          "height": 2771
        },
        "outputId": "8a5cbcf2-afca-405b-afe1-7c73cff10cee"
      },
      "cell_type": "code",
      "source": [
        "for j in range(0, 30):\n",
        "  del my_model\n",
        "  del model\n",
        "\n",
        "  input_tensor = Input(shape=(224, 224, 3))\n",
        "  # model = ResNet50(input_tensor=input_tensor, weights='imagenet', include_top=False)\n",
        "  model = ResNet50(input_tensor=input_tensor, weights=None, include_top=False)\n",
        "  # model.summary()\n",
        "\n",
        "  my_model = Sequential()\n",
        "  my_model.add(model)\n",
        "  my_model.add(Flatten())\n",
        "  my_model.add(Dense(2, activation='softmax'))\n",
        "\n",
        "  my_model.compile(loss='binary_crossentropy',\n",
        "                optimizer='adam',\n",
        "                metrics=['accuracy'])\n",
        "\n",
        "  batch_size = 4\n",
        "  nb_epoch = 4\n",
        "\n",
        "  os.chdir(\"/content/gdrive/My Drive/Colab/Data/RandomModulationFreq/\" + modelFolderName)\n",
        "\n",
        "  print('Training Begin')\n",
        "  my_model.fit(X_Train, Label_Train,\n",
        "            batch_size=batch_size,\n",
        "            epochs=nb_epoch,\n",
        "            validation_data=(X_Test, Label_Test),\n",
        "            shuffle=True)\n",
        "\n",
        "print('Model Saving')\n",
        "my_model_json = my_model.to_json()\n",
        "with open(\"model\" + \".json\",\"w\") as json_file:\n",
        "    json_file.write(my_model_json)\n",
        "my_model.save_weights(\"model\" + \".h5\")"
      ],
      "execution_count": 0,
      "outputs": [
        {
          "output_type": "stream",
          "text": [
            "Training Begin\n",
            "Train on 1600 samples, validate on 400 samples\n",
            "Epoch 1/4\n",
            "1600/1600 [==============================] - 160s 100ms/step - loss: 0.4243 - acc: 0.8906 - val_loss: 1.1018e-05 - val_acc: 1.0000\n",
            "Epoch 2/4\n",
            "1600/1600 [==============================] - 136s 85ms/step - loss: 0.0045 - acc: 0.9987 - val_loss: 3.0225e-05 - val_acc: 1.0000\n",
            "Epoch 3/4\n",
            "1600/1600 [==============================] - 135s 85ms/step - loss: 3.0898e-04 - acc: 1.0000 - val_loss: 1.7787e-05 - val_acc: 1.0000\n",
            "Epoch 4/4\n",
            "1600/1600 [==============================] - 135s 85ms/step - loss: 1.6065e-04 - acc: 1.0000 - val_loss: 1.1242e-05 - val_acc: 1.0000\n",
            "Training Begin\n",
            "Train on 1600 samples, validate on 400 samples\n",
            "Epoch 1/4\n",
            "1600/1600 [==============================] - 163s 102ms/step - loss: 0.7007 - acc: 0.8844 - val_loss: 5.0233e-05 - val_acc: 1.0000\n",
            "Epoch 2/4\n",
            "1600/1600 [==============================] - 136s 85ms/step - loss: 0.0249 - acc: 0.9900 - val_loss: 2.7268e-05 - val_acc: 1.0000\n",
            "Epoch 3/4\n",
            "1600/1600 [==============================] - 135s 85ms/step - loss: 0.1404 - acc: 0.9675 - val_loss: 2.8199e-05 - val_acc: 1.0000\n",
            "Epoch 4/4\n",
            "1600/1600 [==============================] - 136s 85ms/step - loss: 0.0026 - acc: 0.9994 - val_loss: 0.0038 - val_acc: 1.0000\n",
            "Training Begin\n",
            "Train on 1600 samples, validate on 400 samples\n",
            "Epoch 1/4\n",
            "1600/1600 [==============================] - 166s 104ms/step - loss: 0.5165 - acc: 0.9044 - val_loss: 2.3729e-04 - val_acc: 1.0000\n",
            "Epoch 2/4\n",
            "1600/1600 [==============================] - 136s 85ms/step - loss: 0.0069 - acc: 0.9987 - val_loss: 3.1882e-05 - val_acc: 1.0000\n",
            "Epoch 3/4\n",
            "1600/1600 [==============================] - 136s 85ms/step - loss: 0.0407 - acc: 0.9919 - val_loss: 2.3581e-05 - val_acc: 1.0000\n",
            "Epoch 4/4\n",
            "1600/1600 [==============================] - 136s 85ms/step - loss: 0.1246 - acc: 0.9756 - val_loss: 3.9773e-06 - val_acc: 1.0000\n",
            "Training Begin\n",
            "Train on 1600 samples, validate on 400 samples\n",
            "Epoch 1/4\n",
            "1600/1600 [==============================] - 171s 107ms/step - loss: 0.8279 - acc: 0.8906 - val_loss: 8.0135 - val_acc: 0.5000\n",
            "Epoch 2/4\n",
            "1600/1600 [==============================] - 136s 85ms/step - loss: 0.4707 - acc: 0.9419 - val_loss: 0.0017 - val_acc: 1.0000\n",
            "Epoch 3/4\n",
            "1600/1600 [==============================] - 136s 85ms/step - loss: 0.0029 - acc: 1.0000 - val_loss: 1.8039e-04 - val_acc: 1.0000\n",
            "Epoch 4/4\n",
            "1600/1600 [==============================] - 137s 86ms/step - loss: 5.2181e-04 - acc: 1.0000 - val_loss: 6.1261e-05 - val_acc: 1.0000\n",
            "Training Begin\n",
            "Train on 1600 samples, validate on 400 samples\n",
            "Epoch 1/4\n",
            "1600/1600 [==============================] - 174s 109ms/step - loss: 0.6292 - acc: 0.8888 - val_loss: 0.1995 - val_acc: 0.9525\n",
            "Epoch 2/4\n",
            "1600/1600 [==============================] - 137s 86ms/step - loss: 0.0221 - acc: 0.9925 - val_loss: 4.2846e-04 - val_acc: 1.0000\n",
            "Epoch 3/4\n",
            "1600/1600 [==============================] - 136s 85ms/step - loss: 2.7189e-04 - acc: 1.0000 - val_loss: 2.5325e-05 - val_acc: 1.0000\n",
            "Epoch 4/4\n",
            "1600/1600 [==============================] - 136s 85ms/step - loss: 1.9656e-04 - acc: 1.0000 - val_loss: 1.8797e-05 - val_acc: 1.0000\n",
            "Training Begin\n",
            "Train on 1600 samples, validate on 400 samples\n",
            "Epoch 1/4\n",
            "1600/1600 [==============================] - 178s 111ms/step - loss: 0.5929 - acc: 0.9106 - val_loss: 7.6269 - val_acc: 0.5000\n",
            "Epoch 2/4\n",
            "1600/1600 [==============================] - 137s 86ms/step - loss: 0.0559 - acc: 0.9831 - val_loss: 0.0228 - val_acc: 0.9975\n",
            "Epoch 3/4\n",
            "1600/1600 [==============================] - 137s 86ms/step - loss: 0.0017 - acc: 0.9987 - val_loss: 6.8648e-05 - val_acc: 1.0000\n",
            "Epoch 4/4\n",
            "1600/1600 [==============================] - 137s 86ms/step - loss: 0.0162 - acc: 0.9969 - val_loss: 1.1250e-05 - val_acc: 1.0000\n",
            "Training Begin\n",
            "Train on 1600 samples, validate on 400 samples\n",
            "Epoch 1/4\n",
            "1600/1600 [==============================] - 185s 116ms/step - loss: 0.5092 - acc: 0.8981 - val_loss: 0.5808 - val_acc: 0.7575\n",
            "Epoch 2/4\n",
            "1600/1600 [==============================] - 137s 86ms/step - loss: 0.0847 - acc: 0.9769 - val_loss: 7.7340e-05 - val_acc: 1.0000\n",
            "Epoch 3/4\n",
            "1600/1600 [==============================] - 137s 86ms/step - loss: 7.8898e-05 - acc: 1.0000 - val_loss: 1.0395e-05 - val_acc: 1.0000\n",
            "Epoch 4/4\n",
            "1600/1600 [==============================] - 137s 86ms/step - loss: 9.0992e-05 - acc: 1.0000 - val_loss: 1.3372e-05 - val_acc: 1.0000\n",
            "Training Begin\n",
            "Train on 1600 samples, validate on 400 samples\n",
            "Epoch 1/4\n",
            "1600/1600 [==============================] - 188s 117ms/step - loss: 0.5995 - acc: 0.8906 - val_loss: 2.8880e-05 - val_acc: 1.0000\n",
            "Epoch 2/4\n",
            "1600/1600 [==============================] - 138s 86ms/step - loss: 0.1362 - acc: 0.9663 - val_loss: 4.3051e-05 - val_acc: 1.0000\n",
            "Epoch 3/4\n",
            "1600/1600 [==============================] - 138s 86ms/step - loss: 7.0257e-04 - acc: 1.0000 - val_loss: 2.9884e-05 - val_acc: 1.0000\n",
            "Epoch 4/4\n",
            "1600/1600 [==============================] - 138s 86ms/step - loss: 5.3802e-04 - acc: 1.0000 - val_loss: 2.1471e-05 - val_acc: 1.0000\n",
            "Training Begin\n",
            "Train on 1600 samples, validate on 400 samples\n",
            "Epoch 1/4\n",
            "1600/1600 [==============================] - 195s 122ms/step - loss: 0.4078 - acc: 0.9187 - val_loss: 0.0014 - val_acc: 1.0000\n",
            "Epoch 2/4\n",
            "1600/1600 [==============================] - 137s 86ms/step - loss: 0.0808 - acc: 0.9762 - val_loss: 1.1045e-07 - val_acc: 1.0000\n",
            "Epoch 3/4\n",
            "1600/1600 [==============================] - 138s 86ms/step - loss: 0.0228 - acc: 0.9937 - val_loss: 1.4230e-05 - val_acc: 1.0000\n",
            "Epoch 4/4\n",
            "1600/1600 [==============================] - 137s 86ms/step - loss: 5.6848e-05 - acc: 1.0000 - val_loss: 1.0148e-05 - val_acc: 1.0000\n",
            "Training Begin\n",
            "Train on 1600 samples, validate on 400 samples\n",
            "Epoch 1/4\n",
            "1600/1600 [==============================] - 198s 124ms/step - loss: 0.4899 - acc: 0.9094 - val_loss: 2.8926 - val_acc: 0.5050\n",
            "Epoch 2/4\n",
            "1600/1600 [==============================] - 138s 86ms/step - loss: 0.0343 - acc: 0.9919 - val_loss: 1.6832e-04 - val_acc: 1.0000\n",
            "Epoch 3/4\n",
            "1600/1600 [==============================] - 138s 86ms/step - loss: 0.0361 - acc: 0.9906 - val_loss: 0.0064 - val_acc: 0.9975\n",
            "Epoch 4/4\n",
            "1600/1600 [==============================] - 138s 86ms/step - loss: 0.1772 - acc: 0.9706 - val_loss: 5.4333e-07 - val_acc: 1.0000\n",
            "Training Begin\n",
            "Train on 1600 samples, validate on 400 samples\n",
            "Epoch 1/4\n",
            "1600/1600 [==============================] - 203s 127ms/step - loss: 0.3574 - acc: 0.9025 - val_loss: 0.0110 - val_acc: 0.9950\n",
            "Epoch 2/4\n",
            "1600/1600 [==============================] - 139s 87ms/step - loss: 0.4766 - acc: 0.9362 - val_loss: 0.0184 - val_acc: 1.0000\n",
            "Epoch 3/4\n",
            "1600/1600 [==============================] - 138s 86ms/step - loss: 0.0363 - acc: 0.9937 - val_loss: 2.4927e-05 - val_acc: 1.0000\n",
            "Epoch 4/4\n",
            "1600/1600 [==============================] - 139s 87ms/step - loss: 6.1859e-04 - acc: 0.9994 - val_loss: 4.3542 - val_acc: 0.5000\n",
            "Training Begin\n",
            "Train on 1600 samples, validate on 400 samples\n",
            "Epoch 1/4\n",
            "1600/1600 [==============================] - 209s 131ms/step - loss: 0.4746 - acc: 0.8656 - val_loss: 0.0024 - val_acc: 0.9975\n",
            "Epoch 2/4\n",
            "1600/1600 [==============================] - 139s 87ms/step - loss: 0.0595 - acc: 0.9788 - val_loss: 2.8987e-06 - val_acc: 1.0000\n",
            "Epoch 3/4\n",
            "1600/1600 [==============================] - 139s 87ms/step - loss: 0.0012 - acc: 1.0000 - val_loss: 2.0331e-05 - val_acc: 1.0000\n",
            "Epoch 4/4\n",
            "1600/1600 [==============================] - 139s 87ms/step - loss: 0.1654 - acc: 0.9569 - val_loss: 0.1196 - val_acc: 0.9575\n",
            "Training Begin\n",
            "Train on 1600 samples, validate on 400 samples\n",
            "Epoch 1/4\n",
            "1600/1600 [==============================] - 214s 134ms/step - loss: 0.5657 - acc: 0.8950 - val_loss: 1.8439 - val_acc: 0.7800\n",
            "Epoch 2/4\n",
            "1600/1600 [==============================] - 139s 87ms/step - loss: 0.1947 - acc: 0.9563 - val_loss: 0.0019 - val_acc: 1.0000\n",
            "Epoch 3/4\n",
            "1600/1600 [==============================] - 139s 87ms/step - loss: 0.0079 - acc: 0.9975 - val_loss: 0.0423 - val_acc: 0.9850\n",
            "Epoch 4/4\n",
            "1600/1600 [==============================] - 139s 87ms/step - loss: 0.0016 - acc: 1.0000 - val_loss: 8.7129e-05 - val_acc: 1.0000\n",
            "Training Begin\n",
            "Train on 1600 samples, validate on 400 samples\n",
            "Epoch 1/4\n",
            "1600/1600 [==============================] - 219s 137ms/step - loss: 0.3733 - acc: 0.9075 - val_loss: 1.4996 - val_acc: 0.6450\n",
            "Epoch 2/4\n",
            "1600/1600 [==============================] - 140s 87ms/step - loss: 0.0206 - acc: 0.9950 - val_loss: 1.4166e-04 - val_acc: 1.0000\n",
            "Epoch 3/4\n",
            "1600/1600 [==============================] - 139s 87ms/step - loss: 3.1362e-04 - acc: 1.0000 - val_loss: 5.2231e-05 - val_acc: 1.0000\n",
            "Epoch 4/4\n",
            "1600/1600 [==============================] - 140s 87ms/step - loss: 1.2156e-04 - acc: 1.0000 - val_loss: 2.9588e-05 - val_acc: 1.0000\n",
            "Training Begin\n",
            "Train on 1600 samples, validate on 400 samples\n",
            "Epoch 1/4\n",
            "1600/1600 [==============================] - 226s 141ms/step - loss: 0.4687 - acc: 0.9019 - val_loss: 0.0072 - val_acc: 1.0000\n",
            "Epoch 2/4\n",
            "1600/1600 [==============================] - 139s 87ms/step - loss: 0.1255 - acc: 0.9725 - val_loss: 0.1131 - val_acc: 0.9700\n",
            "Epoch 3/4\n",
            "1600/1600 [==============================] - 140s 87ms/step - loss: 0.0027 - acc: 0.9994 - val_loss: 4.8787e-05 - val_acc: 1.0000\n",
            "Epoch 4/4\n",
            "1600/1600 [==============================] - 140s 87ms/step - loss: 1.4125e-04 - acc: 1.0000 - val_loss: 4.4640e-05 - val_acc: 1.0000\n",
            "Training Begin\n",
            "Train on 1600 samples, validate on 400 samples\n",
            "Epoch 1/4\n"
          ],
          "name": "stdout"
        }
      ]
    },
    {
      "metadata": {
        "id": "G3flmX7gtDUy",
        "colab_type": "code",
        "colab": {
          "base_uri": "https://localhost:8080/",
          "height": 1127
        },
        "outputId": "c24a4a69-7681-4a4e-fe01-d7d75ce4b9a5"
      },
      "cell_type": "code",
      "source": [
        "print('Printing Confusion Matrix')\n",
        "Prediction_Test = my_model.predict(X_Test)\n",
        "\n",
        "classNames = np.asarray(['Fault','Normal'])\n",
        "cnf_matrix = confusion_matrix(np.argmax(Label_Test, axis=1), np.argmax(Prediction_Test, axis=1))\n",
        "np.set_printoptions(precision=2)\n",
        "\n",
        "fig = plt.figure()\n",
        "plot_confusion_matrix(cnf_matrix, classes=classNames, title='Confusion matrix, without normalization')\n",
        "plt.show()\n",
        "fig.savefig('Prediction' + '.png')\n",
        "# Plot normalized confusion matrix\n",
        "fig = plt.figure()\n",
        "plot_confusion_matrix(cnf_matrix, classes=classNames, normalize=True,\n",
        "                      title='Normalized confusion matrix')\n",
        "plt.show()\n",
        "fig.savefig('Prediction(Normalized)' + '.png')"
      ],
      "execution_count": 20,
      "outputs": [
        {
          "output_type": "stream",
          "text": [
            "Printing Confusion Matrix\n",
            "Confusion matrix, without normalization\n",
            "[[200   0]\n",
            " [  0 200]]\n"
          ],
          "name": "stdout"
        },
        {
          "output_type": "display_data",
          "data": {
            "image/png": "[encoded data removed]",
            "text/plain": [
              "<matplotlib.figure.Figure at 0x7f8d625e8d68>"
            ]
          },
          "metadata": {
            "tags": []
          }
        },
        {
          "output_type": "stream",
          "text": [
            "Normalized confusion matrix\n",
            "[[1. 0.]\n",
            " [0. 1.]]\n"
          ],
          "name": "stdout"
        },
        {
          "output_type": "display_data",
          "data": {
            "image/png": "[encoded data removed]",
            "text/plain": [
              "<matplotlib.figure.Figure at 0x7f8d625ed438>"
            ]
          },
          "metadata": {
            "tags": []
          }
        }
      ]
    },
    {
      "metadata": {
        "id": "DZwlB685tFLC",
        "colab_type": "code",
        "colab": {}
      },
      "cell_type": "code",
      "source": [
        "Prediction_Rest = my_model.predict(X_Rest)"
      ],
      "execution_count": 0,
      "outputs": []
    },
    {
      "metadata": {
        "id": "lwXQmKjFtF2i",
        "colab_type": "code",
        "colab": {}
      },
      "cell_type": "code",
      "source": [
        "plt.plot(Prediction_Rest[:, 0])\n",
        "np.savetxt(\"Rest.csv\", Prediction_Rest, delimiter=\",\")"
      ],
      "execution_count": 0,
      "outputs": []
    }
  ]
}