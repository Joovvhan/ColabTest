{
  "nbformat": 4,
  "nbformat_minor": 0,
  "metadata": {
    "colab": {
      "name": "ResNet50_None_Parameter_With_Drive_Data.ipynb",
      "version": "0.3.2",
      "provenance": [],
      "include_colab_link": true
    },
    "kernelspec": {
      "name": "python3",
      "display_name": "Python 3"
    }
  },
  "cells": [
    {
      "cell_type": "markdown",
      "metadata": {
        "id": "view-in-github",
        "colab_type": "text"
      },
      "source": [
        "[View in Colaboratory](https://colab.research.google.com/github/Joovvhan/ColabTest/blob/master/ResNet50_None_Parameter_With_Drive_Data.ipynb)"
      ]
    },
    {
      "metadata": {
        "id": "9tFBGZA3qJs_",
        "colab_type": "code",
        "colab": {
          "base_uri": "https://localhost:8080/",
          "height": 145
        },
        "outputId": "6cee58b1-866a-487e-b80e-65a60c66d69b"
      },
      "cell_type": "code",
      "source": [
        "import numpy as np\n",
        "import scipy.ndimage\n",
        "import matplotlib.pyplot as plt\n",
        "plt.rcParams['figure.figsize'] = (7,7) # Make the figures a bit bigger\n",
        "\n",
        "from keras.datasets import mnist\n",
        "from keras.models import Sequential\n",
        "from keras.layers.core import Dense, Dropout, Activation\n",
        "from keras.utils import np_utils\n",
        "from keras.layers import Input\n",
        "from keras.applications.resnet50 import ResNet50\n",
        "from keras.preprocessing import image\n",
        "from keras.applications.resnet50 import preprocess_input, decode_predictions\n",
        "from keras.layers import Flatten\n",
        "from keras.models import Model\n",
        "from keras.layers import Dense, GlobalAveragePooling2D\n",
        "from keras.callbacks import ModelCheckpoint\n",
        "import random\n",
        "\n",
        "from google.colab import drive\n",
        "drive.mount('/content/gdrive')"
      ],
      "execution_count": 10,
      "outputs": [
        {
          "output_type": "stream",
          "text": [
            "Using TensorFlow backend.\n"
          ],
          "name": "stderr"
        },
        {
          "output_type": "stream",
          "text": [
            "Go to this URL in a browser: https://accounts.google.com/o/oauth2/auth?client_id=947318989803-6bn6qk8qdgf4n4g3pfee6491hc0brc4i.apps.googleusercontent.com&redirect_uri=urn%3Aietf%3Awg%3Aoauth%3A2.0%3Aoob&scope=email%20https%3A%2F%2Fwww.googleapis.com%2Fauth%2Fdocs.test%20https%3A%2F%2Fwww.googleapis.com%2Fauth%2Fdrive%20https%3A%2F%2Fwww.googleapis.com%2Fauth%2Fdrive.photos.readonly%20https%3A%2F%2Fwww.googleapis.com%2Fauth%2Fpeopleapi.readonly&response_type=code\n",
            "\n",
            "Enter your authorization code:\n",
            "··········\n",
            "Mounted at /content/gdrive\n"
          ],
          "name": "stdout"
        }
      ]
    },
    {
      "metadata": {
        "id": "uTiTuLTnqT8g",
        "colab_type": "code",
        "colab": {}
      },
      "cell_type": "code",
      "source": [
        "def ConvertDateIdx2Idx(files, dates):\n",
        "    idx = list()\n",
        "    \n",
        "    for date in dates:\n",
        "        for i in range(len(files)):\n",
        "            if date in files[i]:\n",
        "                idx.append(i)\n",
        "    \n",
        "    idx = list(set(idx))\n",
        "    idx.sort()\n",
        "    \n",
        "    return idx"
      ],
      "execution_count": 0,
      "outputs": []
    },
    {
      "metadata": {
        "id": "pSyPjvVAqb2L",
        "colab_type": "code",
        "colab": {}
      },
      "cell_type": "code",
      "source": [
        "def ConvertFile2Image(files):\n",
        "    \n",
        "    image = np.zeros([len(files), 224, 224])\n",
        "    \n",
        "    for i in range(len(files)):\n",
        "        curWave = wavfile.read(files[i])\n",
        "        fs = curWave[0]\n",
        "        yInt16 = curWave[1]\n",
        "\n",
        "        nscValue = 1470\n",
        "\n",
        "        if len(yInt16.shape) == 2 :\n",
        "            yInt16 = yInt16[:, 0]\n",
        "\n",
        "        y = yInt16.astype(float)/32768\n",
        "\n",
        "        nsc = nscValue\n",
        "        nov = nsc * 0.5\n",
        "        nff = nsc\n",
        "\n",
        "        f, t, yImg = spectrogram_matlab(y, nsc, nov, nff, fs)\n",
        "        \n",
        "        image[i, :, :] = yImg[0:224, 0:224]           \n",
        "        \n",
        "    return image"
      ],
      "execution_count": 0,
      "outputs": []
    },
    {
      "metadata": {
        "id": "f2sNviygqpTL",
        "colab_type": "code",
        "colab": {}
      },
      "cell_type": "code",
      "source": [
        "def MemoryEfficientMean(image):\n",
        "    \n",
        "    meanValue = 0\n",
        "    count = 1\n",
        "    for i in range(image.shape[0]):\n",
        "        for j in range(image.shape[1]):\n",
        "            for k in range(image.shape[2]):\n",
        "                meanValue = ((count - 1) * meanValue + image[i, j, k])/ count\n",
        "                count = count + 1\n",
        "                \n",
        "    return meanValue"
      ],
      "execution_count": 0,
      "outputs": []
    },
    {
      "metadata": {
        "id": "17f2fUD1qrIT",
        "colab_type": "code",
        "colab": {}
      },
      "cell_type": "code",
      "source": [
        "def MemoryEfficientSTD(image, meanValue):\n",
        "    \n",
        "    varValue = 0\n",
        "    count = 1\n",
        "    for i in range(image.shape[0]):\n",
        "        for j in range(image.shape[1]):\n",
        "            for k in range(image.shape[2]):\n",
        "                newVar = (image[i, j, k] - meanValue) ** 2\n",
        "                varValue = ((count - 1) * varValue + newVar)/ count\n",
        "                count = count + 1\n",
        "    \n",
        "    stdValue = math.sqrt(varValue)\n",
        "    \n",
        "    return stdValue"
      ],
      "execution_count": 0,
      "outputs": []
    },
    {
      "metadata": {
        "id": "a0ElAllFqtfW",
        "colab_type": "code",
        "colab": {}
      },
      "cell_type": "code",
      "source": [
        "def stft_matlab(x, wlen, hop, nfft, fs):\n",
        "    xlen = len(x)\n",
        "\n",
        "    win = np.hamming(wlen + 1)[0:-1]\n",
        "\n",
        "    rown = np.int(np.ceil((1 + nfft)/2))\n",
        "    coln = np.int(1 + np.fix((xlen - wlen)/hop))\n",
        "    stft = np.zeros([rown, coln])\n",
        "\n",
        "    idx = 0\n",
        "\n",
        "    for col in range(0, coln):\n",
        "        xx = x[idx:idx + wlen]\n",
        "        xw = np.asarray([xx[i] * win[i] for i in range(wlen)])\n",
        "        xw = xw.reshape(-1)\n",
        "        X = np.fft.fft(xw, nfft)\n",
        "        stft[:, col] = X[0:rown]\n",
        "        idx = idx + hop\n",
        "\n",
        "    t = np.arange(wlen/2, wlen + (coln - 1)*hop, hop) / fs\n",
        "    f = np.arange(rown) * fs / nfft\n",
        "\n",
        "    return [stft, f, t]"
      ],
      "execution_count": 0,
      "outputs": []
    },
    {
      "metadata": {
        "id": "nyr1ktqkqwFs",
        "colab_type": "code",
        "colab": {}
      },
      "cell_type": "code",
      "source": [
        "def spectrogram_matlab(y, nsc, nov, nff, fs):\n",
        "    nsc = int(nsc)\n",
        "    nov = int(nov)\n",
        "    nff = int(nff)\n",
        "    fs = int(fs)\n",
        "    stft, f, t = stft_matlab(y, nsc, nsc - nov, nff, fs)\n",
        "    fbin = f[1] - f[0]\n",
        "    nS = (1 / (2 * (nff / 2 + 1))) * stft\n",
        "    cFactor = 0.3974 * 0.621608634748729\n",
        "    Pxx_ = 2 * (1 / fbin) * (1 / cFactor) * np.multiply(nS, np.conjugate(nS))\n",
        "    Pxx_[0, :] = (1 / fbin) * (1 / cFactor) * np.multiply(nS[0, :], np.conjugate(nS[0, :]))\n",
        "    Pxx = abs(Pxx_)\n",
        "    stftLog = 10 * np.log10(Pxx + 1e-50)\n",
        "    stftLog = stftLog[1:, :]\n",
        "    return [f, t, stftLog]"
      ],
      "execution_count": 0,
      "outputs": []
    },
    {
      "metadata": {
        "id": "SvUskpilqyQy",
        "colab_type": "code",
        "colab": {}
      },
      "cell_type": "code",
      "source": [
        "def flip_images(X_imgs):\n",
        "    X_flip = []\n",
        "\n",
        "    for img in range(X_imgs.shape[0]):\n",
        "        flipped_imgs = np.fliplr(X_imgs[i, :, :])\n",
        "        X_flip.append(flipped_imgs)\n",
        "        \n",
        "    X_flip = np.array(X_flip, dtype = np.float32)\n",
        "\n",
        "    return X_flip.reshape([X_imgs.shape[0], 256, 64])"
      ],
      "execution_count": 0,
      "outputs": []
    },
    {
      "metadata": {
        "id": "anM9i44tq0Vm",
        "colab_type": "code",
        "colab": {}
      },
      "cell_type": "code",
      "source": [
        "import matplotlib.pyplot as plt\n",
        "\n",
        "def plot_confusion_matrix(cm, classes,\n",
        "                          normalize=False,\n",
        "                          title='Confusion matrix',\n",
        "                          cmap=plt.cm.Blues):\n",
        "    \"\"\"\n",
        "    This function prints and plots the confusion matrix.\n",
        "    Normalization can be applied by setting `normalize=True`.\n",
        "    \"\"\"\n",
        "    if normalize:\n",
        "        cm = cm.astype('float') / cm.sum(axis=1)[:, np.newaxis]\n",
        "        print(\"Normalized confusion matrix\")\n",
        "    else:\n",
        "        print('Confusion matrix, without normalization')\n",
        "\n",
        "    print(cm)\n",
        "\n",
        "    plt.imshow(cm, interpolation='nearest', cmap=cmap)\n",
        "    plt.title(title)\n",
        "    plt.colorbar()\n",
        "    tick_marks = np.arange(len(classes))\n",
        "    plt.xticks(tick_marks, classes, rotation=45)\n",
        "    plt.yticks(tick_marks, classes)\n",
        "\n",
        "    fmt = '.2f' if normalize else 'd'\n",
        "    thresh = cm.max() / 2.\n",
        "    for i, j in itertools.product(range(cm.shape[0]), range(cm.shape[1])):\n",
        "        plt.text(j, i, format(cm[i, j], fmt),\n",
        "                 horizontalalignment=\"center\",\n",
        "                 color=\"white\" if cm[i, j] > thresh else \"black\")\n",
        "\n",
        "    plt.tight_layout()\n",
        "    plt.ylabel('True label')\n",
        "    plt.xlabel('Predicted label')"
      ],
      "execution_count": 0,
      "outputs": []
    },
    {
      "metadata": {
        "id": "P1x8akFXq8mY",
        "colab_type": "code",
        "colab": {}
      },
      "cell_type": "code",
      "source": [
        "import os\n",
        "import glob\n",
        "\n",
        "os.chdir(\"/content/gdrive/My Drive/Colab/Data/RandomModulationFreq\")\n",
        "\n",
        "trainRate = 0.8\n",
        "\n",
        "files = glob.glob(\"*.wav\")\n",
        "\n",
        "images = ConvertFile2Image(files)"
      ],
      "execution_count": 0,
      "outputs": []
    },
    {
      "metadata": {
        "id": "yORT7L2mrzhh",
        "colab_type": "code",
        "colab": {}
      },
      "cell_type": "code",
      "source": [
        "normalImages = images[0:1000]\n",
        "faultImages = images[3999:5000]\n",
        "restImages = images[1000:4000]"
      ],
      "execution_count": 0,
      "outputs": []
    },
    {
      "metadata": {
        "id": "Q82CSZXGr2D3",
        "colab_type": "code",
        "colab": {}
      },
      "cell_type": "code",
      "source": [
        "trainNormalIdx = np.random.choice(999, int(1000 * 0.8), replace=False)\n",
        "testNormalIdx = list(set(range(0, 1000)) - set(trainNormalIdx))\n",
        "\n",
        "normTrainImages = normalImages[trainNormalIdx, :, :]\n",
        "normTestImages = normalImages[testNormalIdx, :, :]\n"
      ],
      "execution_count": 0,
      "outputs": []
    },
    {
      "metadata": {
        "id": "JokPLOezr4VX",
        "colab_type": "code",
        "colab": {}
      },
      "cell_type": "code",
      "source": [
        "trainFaultIdx = np.random.choice(1000, int(1000 * 0.8), replace=False)\n",
        "testFaultIdx = list(set(range(0, 1000)) - set(trainFaultIdx))\n",
        "\n",
        "faultTrainImages = faultImages[trainFaultIdx, :, :]\n",
        "faultTestImages = faultImages[testFaultIdx, :, :]"
      ],
      "execution_count": 0,
      "outputs": []
    },
    {
      "metadata": {
        "id": "Gea4C8Qdr60c",
        "colab_type": "code",
        "colab": {}
      },
      "cell_type": "code",
      "source": [
        "faultTrainLabel = np.stack((np.zeros(800), np.ones(800)), axis = -1)\n",
        "faultTestLabel = np.stack((np.zeros(200), np.ones(200)), axis = -1)\n",
        "normTrainLabel = np.stack((np.ones(800), np.zeros(800)), axis = -1)\n",
        "normTestLabel = np.stack((np.ones(200), np.zeros(200)), axis = -1)\n",
        "trainLabel = np.vstack((faultTrainLabel, normTrainLabel))\n",
        "testLabel = np.vstack((faultTestLabel, normTestLabel))"
      ],
      "execution_count": 0,
      "outputs": []
    },
    {
      "metadata": {
        "id": "R2voEgwsr-Li",
        "colab_type": "code",
        "colab": {}
      },
      "cell_type": "code",
      "source": [
        "faultTrainLabel = np.stack((np.zeros(800), np.ones(800)), axis = -1)\n",
        "faultTestLabel = np.stack((np.zeros(200), np.ones(200)), axis = -1)\n",
        "normTrainLabel = np.stack((np.ones(800), np.zeros(800)), axis = -1)\n",
        "normTestLabel = np.stack((np.ones(200), np.zeros(200)), axis = -1)\n",
        "\n",
        "print('Calculating Mean and Standard Deviation of Training')\n",
        "trainImage = np.vstack([faultTrainImages, normTrainImages])\n",
        "del faultTrainImages\n",
        "del normTrainImages\n",
        "meanTrain = MemoryEfficientMean(trainImage)\n",
        "stdTrain = MemoryEfficientSTD(trainImage, meanTrain)\n",
        "\n",
        "print('Normalizing Training Image')\n",
        "normalizedTrainImage = (trainImage - meanTrain)/stdTrain\n",
        "\n",
        "del trainImage\n",
        "\n",
        "normalizedTrainImage = normalizedTrainImage.reshape(list(normalizedTrainImage.shape) + [1])\n",
        "\n",
        "print('Calculating Mean and Standard Deviation of Test')\n",
        "testImage = np.vstack([faultTestImages, normTestImages])\n",
        "del faultTestImages\n",
        "del normTestImages\n",
        "meanTest = meanTrain\n",
        "stdTest = stdTrain\n",
        "\n",
        "print('Normalizing Test Image')\n",
        "normalizedTestImage = (testImage - meanTest)/stdTest\n",
        "\n",
        "del testImage\n",
        "\n",
        "normalizedTestImage = normalizedTestImage.reshape(list(normalizedTestImage.shape) + [1])\n",
        "\n",
        "trainLabel = np.vstack((faultTrainLabel, normTrainLabel))\n",
        "testLabel = np.vstack((faultTestLabel, normTestLabel))\n",
        "\n",
        "normalizedRestImage = (restImages - meanTest)/stdTest\n",
        "\n",
        "normalizedRestImage = normalizedRestImage.reshape(list(normalizedRestImage.shape) + [1])\n",
        "\n",
        "os.chdir(\"/content/gdrive/My Drive/Colab/Data/RandomModulationFreq\")\n",
        "saveFileName = 'Hungry' + '.npz'\n",
        "\n",
        "print('Saving Input Data')    \n",
        "np.savez(saveFileName, normalizedTrainImage = normalizedTrainImage, \n",
        "         normalizedTestImage = normalizedTestImage,\n",
        "         normalizedRestImage = normalizedRestImage,\n",
        "        trainLabel = trainLabel, testLabel = testLabel)    "
      ],
      "execution_count": 0,
      "outputs": []
    },
    {
      "metadata": {
        "id": "QtrbuICesNw8",
        "colab_type": "code",
        "colab": {}
      },
      "cell_type": "code",
      "source": [
        "os.chdir(\"/content/gdrive/My Drive/Colab/Data/RandomModulationFreq\")\n",
        "time = datetime.datetime.now()\n",
        "modelFolderName = strftime(\"%Y%m%d-%H%M%S\")\n",
        "os.mkdir(modelFolderName)    \n",
        "os.chdir(\"/content/gdrive/My Drive/Colab/Data/RandomModulationFreq/\" + modelFolderName)\n",
        "\n",
        "os.chdir(\"/content/gdrive/My Drive/Colab/Data/RandomModulationFreq\")\n",
        "loadFileName = 'Hungry' + '.npz'\n",
        "loadedFile = np.load(loadFileName)\n",
        "\n",
        "print('Loading NPZ Values')\n",
        "normalizedTrainImage  = loadedFile['normalizedTrainImage']\n",
        "normalizedTestImage  = loadedFile['normalizedTestImage']\n",
        "# trainLabel = loadedFile['trainLabel']\n",
        "# testLabel = loadedFile['testLabel']\n",
        "# meanTrain = loadedFile['meanTrain']\n",
        "# stdTrain = loadedFile['stdTrain']\n",
        "# faultTestFiles = loadedFile['faultTestFiles']\n",
        "# normTestFiles = loadedFile['normTestFiles']\n",
        "\n",
        "print('Building 3 Channel Training Images')\n",
        "X_Train = np.stack([normalizedTrainImage[:, :, :, 0], normalizedTrainImage[:, :, :, 0], normalizedTrainImage[:, :, :, 0]], axis = -1)\n",
        "del normalizedTrainImage\n",
        "Label_Train = trainLabel\n",
        "\n",
        "print('Building 3 Channel Test Images')\n",
        "X_Test = np.stack([normalizedTestImage[:, :, :, 0], normalizedTestImage[:, :, :, 0], normalizedTestImage[:, :, :, 0]], axis = -1)\n",
        "del normalizedTestImage\n",
        "Label_Test = testLabel"
      ],
      "execution_count": 0,
      "outputs": []
    },
    {
      "metadata": {
        "id": "iTU58_BisW4Q",
        "colab_type": "code",
        "colab": {}
      },
      "cell_type": "code",
      "source": [
        "X_Rest = np.stack([normalizedRestImage[:, :, :, 0], normalizedRestImage[:, :, :, 0], normalizedRestImage[:, :, :, 0]], axis = -1)"
      ],
      "execution_count": 0,
      "outputs": []
    },
    {
      "metadata": {
        "id": "SBwh5q44sZxZ",
        "colab_type": "code",
        "colab": {}
      },
      "cell_type": "code",
      "source": [
        "input_tensor = Input(shape=(224, 224, 3))\n",
        "# model = ResNet50(input_tensor=input_tensor, weights='imagenet', include_top=False)\n",
        "model = ResNet50(input_tensor=input_tensor, weights=None, include_top=False)\n",
        "# model.summary()\n",
        "\n",
        "my_model = Sequential()\n",
        "my_model.add(model)\n",
        "my_model.add(Flatten())\n",
        "my_model.add(Dense(2, activation='softmax'))\n",
        "\n",
        "my_model.compile(loss='binary_crossentropy',\n",
        "              optimizer='adam',\n",
        "              metrics=['accuracy'])\n",
        "\n",
        "\n",
        "os.chdir(\"/content/gdrive/My Drive/Colab/Data/RandomModulationFreq/\" + modelFolderName)\n",
        "\n",
        "print('Training Begin')\n",
        "my_model.fit(X_Train, Label_Train,\n",
        "          batch_size=batch_size,\n",
        "          epochs=nb_epoch,\n",
        "          validation_data=(X_Test, Label_Test),\n",
        "          shuffle=True,\n",
        "          callbacks=[lr_reducer, early_stopper, csv_logger])\n",
        "\n",
        "print('Model Saving')\n",
        "my_model_json = my_model.to_json()\n",
        "with open(\"model\" + \".json\",\"w\") as json_file:\n",
        "    json_file.write(my_model_json)\n",
        "my_model.save_weights(\"model\" + \".h5\")"
      ],
      "execution_count": 0,
      "outputs": []
    },
    {
      "metadata": {
        "id": "G3flmX7gtDUy",
        "colab_type": "code",
        "colab": {}
      },
      "cell_type": "code",
      "source": [
        "print('Printing Confusion Matrix')\n",
        "Prediction_Test = my_model.predict(X_Test)\n",
        "\n",
        "classNames = np.asarray(['Fault','Normal'])\n",
        "cnf_matrix = confusion_matrix(np.argmax(Label_Test, axis=1), np.argmax(Prediction_Test, axis=1))\n",
        "np.set_printoptions(precision=2)\n",
        "\n",
        "fig = plt.figure()\n",
        "plot_confusion_matrix(cnf_matrix, classes=classNames, title='Confusion matrix, without normalization')\n",
        "plt.show()\n",
        "fig.savefig('Prediction' + '.png')\n",
        "# Plot normalized confusion matrix\n",
        "fig = plt.figure()\n",
        "plot_confusion_matrix(cnf_matrix, classes=classNames, normalize=True,\n",
        "                      title='Normalized confusion matrix')\n",
        "plt.show()\n",
        "fig.savefig('Prediction(Normalized)' + '.png')"
      ],
      "execution_count": 0,
      "outputs": []
    },
    {
      "metadata": {
        "id": "DZwlB685tFLC",
        "colab_type": "code",
        "colab": {}
      },
      "cell_type": "code",
      "source": [
        "Prediction_Rest = my_model.predict(X_Rest)"
      ],
      "execution_count": 0,
      "outputs": []
    },
    {
      "metadata": {
        "id": "lwXQmKjFtF2i",
        "colab_type": "code",
        "colab": {}
      },
      "cell_type": "code",
      "source": [
        "plt.plot(Prediction_Rest[:, 0])\n",
        "np.savetxt(\"Rest.csv\", Prediction_Rest, delimiter=\",\")"
      ],
      "execution_count": 0,
      "outputs": []
    }
  ]
}