{
  "nbformat": 4,
  "nbformat_minor": 0,
  "metadata": {
    "colab": {
      "name": "Keras Autoencoder MNIST.ipynb",
      "version": "0.3.2",
      "provenance": [],
      "include_colab_link": true
    },
    "kernelspec": {
      "name": "python3",
      "display_name": "Python 3"
    }
  },
  "cells": [
    {
      "cell_type": "markdown",
      "metadata": {
        "id": "view-in-github",
        "colab_type": "text"
      },
      "source": [
        "[View in Colaboratory](https://colab.research.google.com/github/Joovvhan/ColabTest/blob/master/Keras_Autoencoder_MNIST.ipynb)"
      ]
    },
    {
      "metadata": {
        "id": "dju32qW3-eIF",
        "colab_type": "code",
        "colab": {
          "base_uri": "https://localhost:8080/",
          "height": 34
        },
        "outputId": "82420e71-05d8-44e4-bbba-a25c76ed1b10"
      },
      "cell_type": "code",
      "source": [
        "from keras.layers import Input, Dense\n",
        "from keras.models import Model\n",
        "\n",
        "# this is the size of our encoded representations\n",
        "encoding_dim = 32  # 32 floats -> compression of factor 24.5, assuming the input is 784 floats\n",
        "\n",
        "# this is our input placeholder\n",
        "input_img = Input(shape=(784,))\n",
        "# \"encoded\" is the encoded representation of the input\n",
        "encoded = Dense(encoding_dim, activation='relu')(input_img)\n",
        "# \"decoded\" is the lossy reconstruction of the input\n",
        "decoded = Dense(784, activation='sigmoid')(encoded)\n",
        "\n",
        "# this model maps an input to its reconstruction\n",
        "autoencoder = Model(input_img, decoded)"
      ],
      "execution_count": 1,
      "outputs": [
        {
          "output_type": "stream",
          "text": [
            "Using TensorFlow backend.\n"
          ],
          "name": "stderr"
        }
      ]
    },
    {
      "metadata": {
        "id": "_SDT6Bg9-nqa",
        "colab_type": "code",
        "colab": {}
      },
      "cell_type": "code",
      "source": [
        "# this model maps an input to its encoded representation\n",
        "encoder = Model(input_img, encoded)"
      ],
      "execution_count": 0,
      "outputs": []
    },
    {
      "metadata": {
        "id": "7ifio7Sq-zTK",
        "colab_type": "code",
        "colab": {}
      },
      "cell_type": "code",
      "source": [
        "# create a placeholder for an encoded (32-dimensional) input\n",
        "encoded_input = Input(shape=(encoding_dim,))\n",
        "# retrieve the last layer of the autoencoder model\n",
        "decoder_layer = autoencoder.layers[-1]\n",
        "# create the decoder model\n",
        "decoder = Model(encoded_input, decoder_layer(encoded_input))"
      ],
      "execution_count": 0,
      "outputs": []
    },
    {
      "metadata": {
        "id": "DEC-MGBS-5bt",
        "colab_type": "code",
        "colab": {}
      },
      "cell_type": "code",
      "source": [
        "autoencoder.compile(optimizer='adadelta', loss='binary_crossentropy')"
      ],
      "execution_count": 0,
      "outputs": []
    },
    {
      "metadata": {
        "id": "UBLTVo3e-6XS",
        "colab_type": "code",
        "colab": {
          "base_uri": "https://localhost:8080/",
          "height": 52
        },
        "outputId": "46798325-62d8-494e-8ff9-1bf71fbf9640"
      },
      "cell_type": "code",
      "source": [
        "from keras.datasets import mnist\n",
        "9import numpy as np\n",
        "(x_train, _), (x_test, _) = mnist.load_data()"
      ],
      "execution_count": 5,
      "outputs": [
        {
          "output_type": "stream",
          "text": [
            "Downloading data from https://s3.amazonaws.com/img-datasets/mnist.npz\n",
            "11493376/11490434 [==============================] - 1s 0us/step\n"
          ],
          "name": "stdout"
        }
      ]
    },
    {
      "metadata": {
        "id": "8dZM1KJI-_JQ",
        "colab_type": "code",
        "colab": {
          "base_uri": "https://localhost:8080/",
          "height": 52
        },
        "outputId": "11ef9343-693a-4841-8844-7a81241dc18f"
      },
      "cell_type": "code",
      "source": [
        "x_train = x_train.astype('float32') / 255.\n",
        "x_test = x_test.astype('float32') / 255.\n",
        "x_train = x_train.reshape((len(x_train), np.prod(x_train.shape[1:])))\n",
        "x_test = x_test.reshape((len(x_test), np.prod(x_test.shape[1:])))\n",
        "print(x_train.shape)\n",
        "print(x_test.shape)"
      ],
      "execution_count": 8,
      "outputs": [
        {
          "output_type": "stream",
          "text": [
            "(60000, 784)\n",
            "(10000, 784)\n"
          ],
          "name": "stdout"
        }
      ]
    },
    {
      "metadata": {
        "id": "chhu2QOj-_y-",
        "colab_type": "code",
        "colab": {
          "base_uri": "https://localhost:8080/",
          "height": 1832
        },
        "outputId": "ccfd2c47-5183-4092-f1ee-5d7f9993c761"
      },
      "cell_type": "code",
      "source": [
        "autoencoder.fit(x_train, x_train,\n",
        "                epochs=50,\n",
        "                batch_size=256,\n",
        "                shuffle=True,\n",
        "                validation_data=(x_test, x_test))"
      ],
      "execution_count": 9,
      "outputs": [
        {
          "output_type": "stream",
          "text": [
            "Train on 60000 samples, validate on 10000 samples\n",
            "Epoch 1/50\n",
            "60000/60000 [==============================] - 5s 81us/step - loss: 0.3566 - val_loss: 0.2703\n",
            "Epoch 2/50\n",
            "60000/60000 [==============================] - 4s 74us/step - loss: 0.2621 - val_loss: 0.2499\n",
            "Epoch 3/50\n",
            "60000/60000 [==============================] - 4s 75us/step - loss: 0.2395 - val_loss: 0.2275\n",
            "Epoch 4/50\n",
            "60000/60000 [==============================] - 4s 74us/step - loss: 0.2204 - val_loss: 0.2108\n",
            "Epoch 5/50\n",
            "60000/60000 [==============================] - 4s 74us/step - loss: 0.2059 - val_loss: 0.1986\n",
            "Epoch 6/50\n",
            "60000/60000 [==============================] - 4s 74us/step - loss: 0.1951 - val_loss: 0.1889\n",
            "Epoch 7/50\n",
            "60000/60000 [==============================] - 5s 75us/step - loss: 0.1865 - val_loss: 0.1813\n",
            "Epoch 8/50\n",
            "60000/60000 [==============================] - 4s 74us/step - loss: 0.1795 - val_loss: 0.1751\n",
            "Epoch 9/50\n",
            "60000/60000 [==============================] - 4s 75us/step - loss: 0.1738 - val_loss: 0.1697\n",
            "Epoch 10/50\n",
            "60000/60000 [==============================] - 4s 75us/step - loss: 0.1690 - val_loss: 0.1653\n",
            "Epoch 11/50\n",
            "60000/60000 [==============================] - 5s 75us/step - loss: 0.1648 - val_loss: 0.1613\n",
            "Epoch 12/50\n",
            "60000/60000 [==============================] - 4s 74us/step - loss: 0.1609 - val_loss: 0.1577\n",
            "Epoch 13/50\n",
            "60000/60000 [==============================] - 4s 74us/step - loss: 0.1574 - val_loss: 0.1543\n",
            "Epoch 14/50\n",
            "60000/60000 [==============================] - 5s 75us/step - loss: 0.1540 - val_loss: 0.1509\n",
            "Epoch 15/50\n",
            "60000/60000 [==============================] - 4s 74us/step - loss: 0.1508 - val_loss: 0.1478\n",
            "Epoch 16/50\n",
            "60000/60000 [==============================] - 4s 75us/step - loss: 0.1478 - val_loss: 0.1448\n",
            "Epoch 17/50\n",
            "60000/60000 [==============================] - 5s 80us/step - loss: 0.1449 - val_loss: 0.1422\n",
            "Epoch 18/50\n",
            "60000/60000 [==============================] - 5s 82us/step - loss: 0.1423 - val_loss: 0.1395\n",
            "Epoch 19/50\n",
            "60000/60000 [==============================] - 5s 80us/step - loss: 0.1398 - val_loss: 0.1372\n",
            "Epoch 20/50\n",
            "60000/60000 [==============================] - 5s 79us/step - loss: 0.1375 - val_loss: 0.1349\n",
            "Epoch 21/50\n",
            "60000/60000 [==============================] - 4s 75us/step - loss: 0.1353 - val_loss: 0.1329\n",
            "Epoch 22/50\n",
            "60000/60000 [==============================] - 5s 75us/step - loss: 0.1333 - val_loss: 0.1310\n",
            "Epoch 23/50\n",
            "60000/60000 [==============================] - 4s 74us/step - loss: 0.1314 - val_loss: 0.1290\n",
            "Epoch 24/50\n",
            "60000/60000 [==============================] - 5s 75us/step - loss: 0.1296 - val_loss: 0.1273\n",
            "Epoch 25/50\n",
            "60000/60000 [==============================] - 5s 75us/step - loss: 0.1279 - val_loss: 0.1255\n",
            "Epoch 26/50\n",
            "60000/60000 [==============================] - 4s 75us/step - loss: 0.1262 - val_loss: 0.1239\n",
            "Epoch 27/50\n",
            "60000/60000 [==============================] - 5s 75us/step - loss: 0.1246 - val_loss: 0.1223\n",
            "Epoch 28/50\n",
            "60000/60000 [==============================] - 5s 75us/step - loss: 0.1231 - val_loss: 0.1209\n",
            "Epoch 29/50\n",
            "60000/60000 [==============================] - 5s 76us/step - loss: 0.1216 - val_loss: 0.1194\n",
            "Epoch 30/50\n",
            "60000/60000 [==============================] - 4s 75us/step - loss: 0.1203 - val_loss: 0.1180\n",
            "Epoch 31/50\n",
            "60000/60000 [==============================] - 4s 75us/step - loss: 0.1190 - val_loss: 0.1167\n",
            "Epoch 32/50\n",
            "60000/60000 [==============================] - 4s 75us/step - loss: 0.1177 - val_loss: 0.1155\n",
            "Epoch 33/50\n",
            "60000/60000 [==============================] - 4s 75us/step - loss: 0.1166 - val_loss: 0.1144\n",
            "Epoch 34/50\n",
            "60000/60000 [==============================] - 4s 75us/step - loss: 0.1155 - val_loss: 0.1133\n",
            "Epoch 35/50\n",
            "60000/60000 [==============================] - 4s 75us/step - loss: 0.1144 - val_loss: 0.1123\n",
            "Epoch 36/50\n",
            "60000/60000 [==============================] - 5s 75us/step - loss: 0.1135 - val_loss: 0.1113\n",
            "Epoch 37/50\n",
            "60000/60000 [==============================] - 4s 75us/step - loss: 0.1126 - val_loss: 0.1105\n",
            "Epoch 38/50\n",
            "60000/60000 [==============================] - 4s 75us/step - loss: 0.1117 - val_loss: 0.1097\n",
            "Epoch 39/50\n",
            "60000/60000 [==============================] - 4s 75us/step - loss: 0.1109 - val_loss: 0.1089\n",
            "Epoch 40/50\n",
            "60000/60000 [==============================] - 5s 76us/step - loss: 0.1102 - val_loss: 0.1082\n",
            "Epoch 41/50\n",
            "60000/60000 [==============================] - 5s 75us/step - loss: 0.1095 - val_loss: 0.1075\n",
            "Epoch 42/50\n",
            "60000/60000 [==============================] - 4s 74us/step - loss: 0.1089 - val_loss: 0.1069\n",
            "Epoch 43/50\n",
            "60000/60000 [==============================] - 5s 75us/step - loss: 0.1083 - val_loss: 0.1063\n",
            "Epoch 44/50\n",
            "60000/60000 [==============================] - 4s 74us/step - loss: 0.1077 - val_loss: 0.1058\n",
            "Epoch 45/50\n",
            "60000/60000 [==============================] - 4s 75us/step - loss: 0.1072 - val_loss: 0.1052\n",
            "Epoch 46/50\n",
            "60000/60000 [==============================] - 5s 75us/step - loss: 0.1067 - val_loss: 0.1048\n",
            "Epoch 47/50\n",
            "60000/60000 [==============================] - 5s 76us/step - loss: 0.1062 - val_loss: 0.1043\n",
            "Epoch 48/50\n",
            "60000/60000 [==============================] - 5s 75us/step - loss: 0.1057 - val_loss: 0.1039\n",
            "Epoch 49/50\n",
            "60000/60000 [==============================] - 5s 76us/step - loss: 0.1053 - val_loss: 0.1035\n",
            "Epoch 50/50\n",
            "60000/60000 [==============================] - 5s 76us/step - loss: 0.1049 - val_loss: 0.1031\n"
          ],
          "name": "stdout"
        },
        {
          "output_type": "execute_result",
          "data": {
            "text/plain": [
              "<keras.callbacks.History at 0x7f33c932f358>"
            ]
          },
          "metadata": {
            "tags": []
          },
          "execution_count": 9
        }
      ]
    },
    {
      "metadata": {
        "id": "9ejUz_NT_OmZ",
        "colab_type": "code",
        "colab": {}
      },
      "cell_type": "code",
      "source": [
        "# encode and decode some digits\n",
        "# note that we take them from the *test* set\n",
        "encoded_imgs = encoder.predict(x_test)\n",
        "decoded_imgs = decoder.predict(encoded_imgs)"
      ],
      "execution_count": 0,
      "outputs": []
    },
    {
      "metadata": {
        "id": "J_a7s_Zb_QNi",
        "colab_type": "code",
        "colab": {
          "base_uri": "https://localhost:8080/",
          "height": 264
        },
        "outputId": "786c76fa-4e01-4f2f-b330-5040aa069136"
      },
      "cell_type": "code",
      "source": [
        "# use Matplotlib (don't ask)\n",
        "import matplotlib.pyplot as plt\n",
        "\n",
        "n = 10  # how many digits we will display\n",
        "plt.figure(figsize=(20, 4))\n",
        "for i in range(n):\n",
        "    # display original\n",
        "    ax = plt.subplot(2, n, i + 1)\n",
        "    plt.imshow(x_test[i].reshape(28, 28))\n",
        "    plt.gray()\n",
        "    ax.get_xaxis().set_visible(False)\n",
        "    ax.get_yaxis().set_visible(False)\n",
        "\n",
        "    # display reconstruction\n",
        "    ax = plt.subplot(2, n, i + 1 + n)\n",
        "    plt.imshow(decoded_imgs[i].reshape(28, 28))\n",
        "    plt.gray()\n",
        "    ax.get_xaxis().set_visible(False)\n",
        "    ax.get_yaxis().set_visible(False)\n",
        "plt.show()"
      ],
      "execution_count": 11,
      "outputs": [
        {
          "output_type": "display_data",
          "data": {
            "image/png": "[encoded data removed]",
            "text/plain": [
              "<matplotlib.figure.Figure at 0x7f33c63985f8>"
            ]
          },
          "metadata": {
            "tags": []
          }
        }
      ]
    },
    {
      "metadata": {
        "id": "VP2EpR0M_X0d",
        "colab_type": "code",
        "colab": {}
      },
      "cell_type": "code",
      "source": [
        "from keras import regularizers\n",
        "\n",
        "encoding_dim = 32\n",
        "\n",
        "input_img = Input(shape=(784,))\n",
        "# add a Dense layer with a L1 activity regularizer\n",
        "encoded = Dense(encoding_dim, activation='relu',\n",
        "                activity_regularizer=regularizers.l1(10e-5))(input_img)\n",
        "decoded = Dense(784, activation='sigmoid')(encoded)\n",
        "\n",
        "autoencoder = Model(input_img, decoded)"
      ],
      "execution_count": 0,
      "outputs": []
    },
    {
      "metadata": {
        "id": "7-x5s-NS_YYb",
        "colab_type": "code",
        "colab": {}
      },
      "cell_type": "code",
      "source": [
        "input_img = Input(shape=(784,))\n",
        "encoded = Dense(128, activation='relu')(input_img)\n",
        "encoded = Dense(64, activation='relu')(encoded)\n",
        "encoded = Dense(32, activation='relu')(encoded)\n",
        "\n",
        "decoded = Dense(64, activation='relu')(encoded)\n",
        "decoded = Dense(128, activation='relu')(decoded)\n",
        "decoded = Dense(784, activation='sigmoid')(decoded)"
      ],
      "execution_count": 0,
      "outputs": []
    },
    {
      "metadata": {
        "id": "kvOf916P_bYs",
        "colab_type": "code",
        "colab": {
          "base_uri": "https://localhost:8080/",
          "height": 3592
        },
        "outputId": "fe7eb5a7-5484-494f-e235-0e8db6f35823"
      },
      "cell_type": "code",
      "source": [
        "autoencoder = Model(input_img, decoded)\n",
        "autoencoder.compile(optimizer='adadelta', loss='binary_crossentropy')\n",
        "\n",
        "autoencoder.fit(x_train, x_train,\n",
        "                epochs=100,\n",
        "                batch_size=256,\n",
        "                shuffle=True,\n",
        "                validation_data=(x_test, x_test))"
      ],
      "execution_count": 14,
      "outputs": [
        {
          "output_type": "stream",
          "text": [
            "Train on 60000 samples, validate on 10000 samples\n",
            "Epoch 1/100\n",
            "60000/60000 [==============================] - 7s 116us/step - loss: 0.3429 - val_loss: 0.2622\n",
            "Epoch 2/100\n",
            "60000/60000 [==============================] - 7s 109us/step - loss: 0.2546 - val_loss: 0.2437\n",
            "Epoch 3/100\n",
            "60000/60000 [==============================] - 7s 108us/step - loss: 0.2319 - val_loss: 0.2211\n",
            "Epoch 4/100\n",
            "60000/60000 [==============================] - 7s 108us/step - loss: 0.2125 - val_loss: 0.2031\n",
            "Epoch 5/100\n",
            "60000/60000 [==============================] - 7s 109us/step - loss: 0.1971 - val_loss: 0.1890\n",
            "Epoch 6/100\n",
            "60000/60000 [==============================] - 6s 108us/step - loss: 0.1865 - val_loss: 0.1840\n",
            "Epoch 7/100\n",
            "60000/60000 [==============================] - 7s 108us/step - loss: 0.1801 - val_loss: 0.1759\n",
            "Epoch 8/100\n",
            "60000/60000 [==============================] - 6s 108us/step - loss: 0.1748 - val_loss: 0.1710\n",
            "Epoch 9/100\n",
            "60000/60000 [==============================] - 6s 108us/step - loss: 0.1697 - val_loss: 0.1652\n",
            "Epoch 10/100\n",
            "60000/60000 [==============================] - 7s 109us/step - loss: 0.1655 - val_loss: 0.1612\n",
            "Epoch 11/100\n",
            "60000/60000 [==============================] - 6s 108us/step - loss: 0.1614 - val_loss: 0.1597\n",
            "Epoch 12/100\n",
            "60000/60000 [==============================] - 6s 108us/step - loss: 0.1576 - val_loss: 0.1559\n",
            "Epoch 13/100\n",
            "60000/60000 [==============================] - 7s 109us/step - loss: 0.1545 - val_loss: 0.1511\n",
            "Epoch 14/100\n",
            "60000/60000 [==============================] - 6s 108us/step - loss: 0.1517 - val_loss: 0.1499\n",
            "Epoch 15/100\n",
            "60000/60000 [==============================] - 7s 109us/step - loss: 0.1492 - val_loss: 0.1483\n",
            "Epoch 16/100\n",
            "60000/60000 [==============================] - 7s 108us/step - loss: 0.1468 - val_loss: 0.1450\n",
            "Epoch 17/100\n",
            "60000/60000 [==============================] - 6s 108us/step - loss: 0.1448 - val_loss: 0.1470\n",
            "Epoch 18/100\n",
            "60000/60000 [==============================] - 6s 108us/step - loss: 0.1429 - val_loss: 0.1392\n",
            "Epoch 19/100\n",
            "60000/60000 [==============================] - 6s 107us/step - loss: 0.1410 - val_loss: 0.1387\n",
            "Epoch 20/100\n",
            "60000/60000 [==============================] - 6s 108us/step - loss: 0.1393 - val_loss: 0.1386\n",
            "Epoch 21/100\n",
            "60000/60000 [==============================] - 6s 107us/step - loss: 0.1378 - val_loss: 0.1358\n",
            "Epoch 22/100\n",
            "60000/60000 [==============================] - 6s 107us/step - loss: 0.1364 - val_loss: 0.1349\n",
            "Epoch 23/100\n",
            "60000/60000 [==============================] - 6s 106us/step - loss: 0.1348 - val_loss: 0.1283\n",
            "Epoch 24/100\n",
            "60000/60000 [==============================] - 7s 112us/step - loss: 0.1337 - val_loss: 0.1307\n",
            "Epoch 25/100\n",
            "60000/60000 [==============================] - 7s 113us/step - loss: 0.1325 - val_loss: 0.1307\n",
            "Epoch 26/100\n",
            "60000/60000 [==============================] - 7s 110us/step - loss: 0.1316 - val_loss: 0.1297\n",
            "Epoch 27/100\n",
            "60000/60000 [==============================] - 6s 107us/step - loss: 0.1306 - val_loss: 0.1307\n",
            "Epoch 28/100\n",
            "60000/60000 [==============================] - 6s 106us/step - loss: 0.1297 - val_loss: 0.1286\n",
            "Epoch 29/100\n",
            "60000/60000 [==============================] - 6s 108us/step - loss: 0.1290 - val_loss: 0.1232\n",
            "Epoch 30/100\n",
            "60000/60000 [==============================] - 7s 108us/step - loss: 0.1282 - val_loss: 0.1298\n",
            "Epoch 31/100\n",
            "60000/60000 [==============================] - 7s 109us/step - loss: 0.1275 - val_loss: 0.1297\n",
            "Epoch 32/100\n",
            "60000/60000 [==============================] - 6s 108us/step - loss: 0.1269 - val_loss: 0.1262\n",
            "Epoch 33/100\n",
            "60000/60000 [==============================] - 7s 109us/step - loss: 0.1262 - val_loss: 0.1266\n",
            "Epoch 34/100\n",
            "60000/60000 [==============================] - 6s 107us/step - loss: 0.1256 - val_loss: 0.1247\n",
            "Epoch 35/100\n",
            "60000/60000 [==============================] - 6s 108us/step - loss: 0.1249 - val_loss: 0.1257\n",
            "Epoch 36/100\n",
            "60000/60000 [==============================] - 6s 108us/step - loss: 0.1244 - val_loss: 0.1235\n",
            "Epoch 37/100\n",
            "60000/60000 [==============================] - 6s 108us/step - loss: 0.1239 - val_loss: 0.1228\n",
            "Epoch 38/100\n",
            "60000/60000 [==============================] - 7s 109us/step - loss: 0.1234 - val_loss: 0.1248\n",
            "Epoch 39/100\n",
            "60000/60000 [==============================] - 7s 110us/step - loss: 0.1228 - val_loss: 0.1212\n",
            "Epoch 40/100\n",
            "60000/60000 [==============================] - 7s 109us/step - loss: 0.1223 - val_loss: 0.1211\n",
            "Epoch 41/100\n",
            "60000/60000 [==============================] - 6s 108us/step - loss: 0.1216 - val_loss: 0.1221\n",
            "Epoch 42/100\n",
            "60000/60000 [==============================] - 6s 106us/step - loss: 0.1212 - val_loss: 0.1160\n",
            "Epoch 43/100\n",
            "60000/60000 [==============================] - 6s 107us/step - loss: 0.1209 - val_loss: 0.1183\n",
            "Epoch 44/100\n",
            "60000/60000 [==============================] - 7s 109us/step - loss: 0.1203 - val_loss: 0.1199\n",
            "Epoch 45/100\n",
            "60000/60000 [==============================] - 7s 109us/step - loss: 0.1199 - val_loss: 0.1183\n",
            "Epoch 46/100\n",
            "60000/60000 [==============================] - 7s 108us/step - loss: 0.1193 - val_loss: 0.1187\n",
            "Epoch 47/100\n",
            "60000/60000 [==============================] - 7s 109us/step - loss: 0.1190 - val_loss: 0.1167\n",
            "Epoch 48/100\n",
            "60000/60000 [==============================] - 6s 107us/step - loss: 0.1186 - val_loss: 0.1198\n",
            "Epoch 49/100\n",
            "60000/60000 [==============================] - 6s 107us/step - loss: 0.1182 - val_loss: 0.1173\n",
            "Epoch 50/100\n",
            "60000/60000 [==============================] - 6s 108us/step - loss: 0.1178 - val_loss: 0.1156\n",
            "Epoch 51/100\n",
            "60000/60000 [==============================] - 7s 109us/step - loss: 0.1175 - val_loss: 0.1145\n",
            "Epoch 52/100\n",
            "60000/60000 [==============================] - 7s 109us/step - loss: 0.1172 - val_loss: 0.1157\n",
            "Epoch 53/100\n",
            "60000/60000 [==============================] - 7s 109us/step - loss: 0.1167 - val_loss: 0.1164\n",
            "Epoch 54/100\n",
            "60000/60000 [==============================] - 7s 109us/step - loss: 0.1166 - val_loss: 0.1157\n",
            "Epoch 55/100\n",
            "60000/60000 [==============================] - 7s 108us/step - loss: 0.1161 - val_loss: 0.1177\n",
            "Epoch 56/100\n",
            "60000/60000 [==============================] - 7s 109us/step - loss: 0.1158 - val_loss: 0.1165\n",
            "Epoch 57/100\n",
            "60000/60000 [==============================] - 7s 109us/step - loss: 0.1156 - val_loss: 0.1148\n",
            "Epoch 58/100\n",
            "60000/60000 [==============================] - 7s 109us/step - loss: 0.1151 - val_loss: 0.1157\n",
            "Epoch 59/100\n",
            "60000/60000 [==============================] - 6s 108us/step - loss: 0.1147 - val_loss: 0.1137\n",
            "Epoch 60/100\n",
            "60000/60000 [==============================] - 6s 108us/step - loss: 0.1145 - val_loss: 0.1118\n",
            "Epoch 61/100\n",
            "60000/60000 [==============================] - 7s 108us/step - loss: 0.1141 - val_loss: 0.1125\n",
            "Epoch 62/100\n",
            "60000/60000 [==============================] - 7s 110us/step - loss: 0.1140 - val_loss: 0.1129\n",
            "Epoch 63/100\n",
            "60000/60000 [==============================] - 6s 108us/step - loss: 0.1136 - val_loss: 0.1097\n",
            "Epoch 64/100\n",
            "60000/60000 [==============================] - 6s 108us/step - loss: 0.1134 - val_loss: 0.1140\n",
            "Epoch 65/100\n",
            "60000/60000 [==============================] - 6s 108us/step - loss: 0.1130 - val_loss: 0.1099\n",
            "Epoch 66/100\n",
            "60000/60000 [==============================] - 7s 109us/step - loss: 0.1130 - val_loss: 0.1110\n",
            "Epoch 67/100\n",
            "60000/60000 [==============================] - 6s 108us/step - loss: 0.1126 - val_loss: 0.1114\n",
            "Epoch 68/100\n",
            "60000/60000 [==============================] - 6s 108us/step - loss: 0.1124 - val_loss: 0.1120\n",
            "Epoch 69/100\n",
            "60000/60000 [==============================] - 6s 107us/step - loss: 0.1121 - val_loss: 0.1141\n",
            "Epoch 70/100\n",
            "60000/60000 [==============================] - 7s 108us/step - loss: 0.1118 - val_loss: 0.1114\n",
            "Epoch 71/100\n",
            "60000/60000 [==============================] - 7s 110us/step - loss: 0.1117 - val_loss: 0.1091\n",
            "Epoch 72/100\n",
            "60000/60000 [==============================] - 7s 116us/step - loss: 0.1115 - val_loss: 0.1114\n",
            "Epoch 73/100\n",
            "60000/60000 [==============================] - 7s 115us/step - loss: 0.1112 - val_loss: 0.1148\n",
            "Epoch 74/100\n",
            "60000/60000 [==============================] - 7s 111us/step - loss: 0.1111 - val_loss: 0.1119\n",
            "Epoch 75/100\n",
            "60000/60000 [==============================] - 7s 109us/step - loss: 0.1108 - val_loss: 0.1124\n",
            "Epoch 76/100\n",
            "60000/60000 [==============================] - 7s 109us/step - loss: 0.1106 - val_loss: 0.1105\n",
            "Epoch 77/100\n",
            "60000/60000 [==============================] - 7s 111us/step - loss: 0.1104 - val_loss: 0.1103\n",
            "Epoch 78/100\n",
            "60000/60000 [==============================] - 7s 110us/step - loss: 0.1102 - val_loss: 0.1119\n",
            "Epoch 79/100\n",
            "60000/60000 [==============================] - 7s 109us/step - loss: 0.1102 - val_loss: 0.1075\n",
            "Epoch 80/100\n",
            "60000/60000 [==============================] - 7s 111us/step - loss: 0.1100 - val_loss: 0.1070\n",
            "Epoch 81/100\n",
            "60000/60000 [==============================] - 7s 110us/step - loss: 0.1097 - val_loss: 0.1096\n",
            "Epoch 82/100\n",
            "60000/60000 [==============================] - 7s 110us/step - loss: 0.1093 - val_loss: 0.1060\n",
            "Epoch 83/100\n",
            "60000/60000 [==============================] - 7s 110us/step - loss: 0.1095 - val_loss: 0.1089\n",
            "Epoch 84/100\n",
            "60000/60000 [==============================] - 7s 110us/step - loss: 0.1092 - val_loss: 0.1120\n",
            "Epoch 85/100\n",
            "60000/60000 [==============================] - 7s 108us/step - loss: 0.1089 - val_loss: 0.1072\n",
            "Epoch 86/100\n",
            "60000/60000 [==============================] - 6s 108us/step - loss: 0.1090 - val_loss: 0.1085\n",
            "Epoch 87/100\n",
            "60000/60000 [==============================] - 6s 107us/step - loss: 0.1090 - val_loss: 0.1117\n",
            "Epoch 88/100\n",
            "60000/60000 [==============================] - 6s 107us/step - loss: 0.1085 - val_loss: 0.1081\n",
            "Epoch 89/100\n",
            "60000/60000 [==============================] - 6s 107us/step - loss: 0.1084 - val_loss: 0.1087\n",
            "Epoch 90/100\n",
            "60000/60000 [==============================] - 6s 108us/step - loss: 0.1085 - val_loss: 0.1056\n",
            "Epoch 91/100\n",
            "60000/60000 [==============================] - 6s 108us/step - loss: 0.1082 - val_loss: 0.1091\n",
            "Epoch 92/100\n",
            "60000/60000 [==============================] - 6s 108us/step - loss: 0.1083 - val_loss: 0.1083\n",
            "Epoch 93/100\n",
            "60000/60000 [==============================] - 7s 109us/step - loss: 0.1080 - val_loss: 0.1072\n",
            "Epoch 94/100\n",
            "60000/60000 [==============================] - 7s 109us/step - loss: 0.1078 - val_loss: 0.1067\n",
            "Epoch 95/100\n",
            "60000/60000 [==============================] - 6s 107us/step - loss: 0.1078 - val_loss: 0.1060\n",
            "Epoch 96/100\n",
            "60000/60000 [==============================] - 6s 108us/step - loss: 0.1075 - val_loss: 0.1070\n",
            "Epoch 97/100\n",
            "60000/60000 [==============================] - 7s 108us/step - loss: 0.1076 - val_loss: 0.1068\n",
            "Epoch 98/100\n",
            "60000/60000 [==============================] - 6s 106us/step - loss: 0.1072 - val_loss: 0.1110\n",
            "Epoch 99/100\n",
            "60000/60000 [==============================] - 6s 107us/step - loss: 0.1073 - val_loss: 0.1062\n",
            "Epoch 100/100\n",
            "60000/60000 [==============================] - 6s 108us/step - loss: 0.1071 - val_loss: 0.1072\n"
          ],
          "name": "stdout"
        },
        {
          "output_type": "execute_result",
          "data": {
            "text/plain": [
              "<keras.callbacks.History at 0x7f33c6c02a58>"
            ]
          },
          "metadata": {
            "tags": []
          },
          "execution_count": 14
        }
      ]
    },
    {
      "metadata": {
        "id": "fy2_CPUD_gzE",
        "colab_type": "code",
        "colab": {}
      },
      "cell_type": "code",
      "source": [
        "from keras.layers import Input, Dense, Conv2D, MaxPooling2D, UpSampling2D\n",
        "from keras.models import Model\n",
        "from keras import backend as K\n",
        "\n",
        "input_img = Input(shape=(28, 28, 1))  # adapt this if using `channels_first` image data format\n",
        "\n",
        "x = Conv2D(16, (3, 3), activation='relu', padding='same')(input_img)\n",
        "x = MaxPooling2D((2, 2), padding='same')(x)\n",
        "x = Conv2D(8, (3, 3), activation='relu', padding='same')(x)\n",
        "x = MaxPooling2D((2, 2), padding='same')(x)\n",
        "x = Conv2D(8, (3, 3), activation='relu', padding='same')(x)\n",
        "encoded = MaxPooling2D((2, 2), padding='same')(x)\n",
        "\n",
        "# at this point the representation is (4, 4, 8) i.e. 128-dimensional\n",
        "\n",
        "x = Conv2D(8, (3, 3), activation='relu', padding='same')(encoded)\n",
        "x = UpSampling2D((2, 2))(x)\n",
        "x = Conv2D(8, (3, 3), activation='relu', padding='same')(x)\n",
        "x = UpSampling2D((2, 2))(x)\n",
        "x = Conv2D(16, (3, 3), activation='relu')(x)\n",
        "x = UpSampling2D((2, 2))(x)\n",
        "decoded = Conv2D(1, (3, 3), activation='sigmoid', padding='same')(x)\n",
        "\n",
        "autoencoder = Model(input_img, decoded)\n",
        "autoencoder.compile(optimizer='adadelta', loss='binary_crossentropy')"
      ],
      "execution_count": 0,
      "outputs": []
    },
    {
      "metadata": {
        "id": "Xus1Hvud_hXg",
        "colab_type": "code",
        "colab": {}
      },
      "cell_type": "code",
      "source": [
        "from keras.datasets import mnist\n",
        "import numpy as np\n",
        "\n",
        "(x_train, _), (x_test, _) = mnist.load_data()\n",
        "\n",
        "x_train = x_train.astype('float32') / 255.\n",
        "x_test = x_test.astype('float32') / 255.\n",
        "x_train = np.reshape(x_train, (len(x_train), 28, 28, 1))  # adapt this if using `channels_first` image data format\n",
        "x_test = np.reshape(x_test, (len(x_test), 28, 28, 1))  # adapt this if using `channels_first` image data format"
      ],
      "execution_count": 0,
      "outputs": []
    },
    {
      "metadata": {
        "id": "XzOE-Apw_lE5",
        "colab_type": "code",
        "colab": {
          "base_uri": "https://localhost:8080/",
          "height": 1491
        },
        "collapsed": true,
        "outputId": "4ac247b2-613d-4bbf-97ce-c2b79ff6d877"
      },
      "cell_type": "code",
      "source": [
        "from keras.callbacks import TensorBoard\n",
        "\n",
        "autoencoder.fit(x_train, x_train,\n",
        "                epochs=50,\n",
        "                batch_size=128,\n",
        "                shuffle=True,\n",
        "                validation_data=(x_test, x_test),\n",
        "                callbacks=[TensorBoard(log_dir='/tmp/autoencoder')])"
      ],
      "execution_count": 17,
      "outputs": [
        {
          "output_type": "stream",
          "text": [
            "Train on 60000 samples, validate on 10000 samples\n",
            "Epoch 1/50\n",
            "60000/60000 [==============================] - 85s 1ms/step - loss: 0.2173 - val_loss: 0.1652\n",
            "Epoch 2/50\n",
            "60000/60000 [==============================] - 85s 1ms/step - loss: 0.1580 - val_loss: 0.1481\n",
            "Epoch 3/50\n",
            "60000/60000 [==============================] - 86s 1ms/step - loss: 0.1435 - val_loss: 0.1427\n",
            "Epoch 4/50\n",
            " 9728/60000 [===>..........................] - ETA: 1:09 - loss: 0.1371"
          ],
          "name": "stdout"
        },
        {
          "output_type": "error",
          "ename": "KeyboardInterrupt",
          "evalue": "ignored",
          "traceback": [
            "\u001b[0;31m---------------------------------------------------------------------------\u001b[0m",
            "\u001b[0;31mKeyboardInterrupt\u001b[0m                         Traceback (most recent call last)",
            "\u001b[0;32m<ipython-input-17-3b6b3754a0be>\u001b[0m in \u001b[0;36m<module>\u001b[0;34m()\u001b[0m\n\u001b[1;32m      6\u001b[0m                 \u001b[0mshuffle\u001b[0m\u001b[0;34m=\u001b[0m\u001b[0;32mTrue\u001b[0m\u001b[0;34m,\u001b[0m\u001b[0;34m\u001b[0m\u001b[0m\n\u001b[1;32m      7\u001b[0m                 \u001b[0mvalidation_data\u001b[0m\u001b[0;34m=\u001b[0m\u001b[0;34m(\u001b[0m\u001b[0mx_test\u001b[0m\u001b[0;34m,\u001b[0m \u001b[0mx_test\u001b[0m\u001b[0;34m)\u001b[0m\u001b[0;34m,\u001b[0m\u001b[0;34m\u001b[0m\u001b[0m\n\u001b[0;32m----> 8\u001b[0;31m                 callbacks=[TensorBoard(log_dir='/tmp/autoencoder')])\n\u001b[0m",
            "\u001b[0;32m/usr/local/lib/python3.6/dist-packages/keras/engine/training.py\u001b[0m in \u001b[0;36mfit\u001b[0;34m(self, x, y, batch_size, epochs, verbose, callbacks, validation_split, validation_data, shuffle, class_weight, sample_weight, initial_epoch, steps_per_epoch, validation_steps, **kwargs)\u001b[0m\n\u001b[1;32m   1703\u001b[0m                               \u001b[0minitial_epoch\u001b[0m\u001b[0;34m=\u001b[0m\u001b[0minitial_epoch\u001b[0m\u001b[0;34m,\u001b[0m\u001b[0;34m\u001b[0m\u001b[0m\n\u001b[1;32m   1704\u001b[0m                               \u001b[0msteps_per_epoch\u001b[0m\u001b[0;34m=\u001b[0m\u001b[0msteps_per_epoch\u001b[0m\u001b[0;34m,\u001b[0m\u001b[0;34m\u001b[0m\u001b[0m\n\u001b[0;32m-> 1705\u001b[0;31m                               validation_steps=validation_steps)\n\u001b[0m\u001b[1;32m   1706\u001b[0m \u001b[0;34m\u001b[0m\u001b[0m\n\u001b[1;32m   1707\u001b[0m     def evaluate(self, x=None, y=None,\n",
            "\u001b[0;32m/usr/local/lib/python3.6/dist-packages/keras/engine/training.py\u001b[0m in \u001b[0;36m_fit_loop\u001b[0;34m(self, f, ins, out_labels, batch_size, epochs, verbose, callbacks, val_f, val_ins, shuffle, callback_metrics, initial_epoch, steps_per_epoch, validation_steps)\u001b[0m\n\u001b[1;32m   1234\u001b[0m                         \u001b[0mins_batch\u001b[0m\u001b[0;34m[\u001b[0m\u001b[0mi\u001b[0m\u001b[0;34m]\u001b[0m \u001b[0;34m=\u001b[0m \u001b[0mins_batch\u001b[0m\u001b[0;34m[\u001b[0m\u001b[0mi\u001b[0m\u001b[0;34m]\u001b[0m\u001b[0;34m.\u001b[0m\u001b[0mtoarray\u001b[0m\u001b[0;34m(\u001b[0m\u001b[0;34m)\u001b[0m\u001b[0;34m\u001b[0m\u001b[0m\n\u001b[1;32m   1235\u001b[0m \u001b[0;34m\u001b[0m\u001b[0m\n\u001b[0;32m-> 1236\u001b[0;31m                     \u001b[0mouts\u001b[0m \u001b[0;34m=\u001b[0m \u001b[0mf\u001b[0m\u001b[0;34m(\u001b[0m\u001b[0mins_batch\u001b[0m\u001b[0;34m)\u001b[0m\u001b[0;34m\u001b[0m\u001b[0m\n\u001b[0m\u001b[1;32m   1237\u001b[0m                     \u001b[0;32mif\u001b[0m \u001b[0;32mnot\u001b[0m \u001b[0misinstance\u001b[0m\u001b[0;34m(\u001b[0m\u001b[0mouts\u001b[0m\u001b[0;34m,\u001b[0m \u001b[0mlist\u001b[0m\u001b[0;34m)\u001b[0m\u001b[0;34m:\u001b[0m\u001b[0;34m\u001b[0m\u001b[0m\n\u001b[1;32m   1238\u001b[0m                         \u001b[0mouts\u001b[0m \u001b[0;34m=\u001b[0m \u001b[0;34m[\u001b[0m\u001b[0mouts\u001b[0m\u001b[0;34m]\u001b[0m\u001b[0;34m\u001b[0m\u001b[0m\n",
            "\u001b[0;32m/usr/local/lib/python3.6/dist-packages/keras/backend/tensorflow_backend.py\u001b[0m in \u001b[0;36m__call__\u001b[0;34m(self, inputs)\u001b[0m\n\u001b[1;32m   2480\u001b[0m         \u001b[0msession\u001b[0m \u001b[0;34m=\u001b[0m \u001b[0mget_session\u001b[0m\u001b[0;34m(\u001b[0m\u001b[0;34m)\u001b[0m\u001b[0;34m\u001b[0m\u001b[0m\n\u001b[1;32m   2481\u001b[0m         updated = session.run(fetches=fetches, feed_dict=feed_dict,\n\u001b[0;32m-> 2482\u001b[0;31m                               **self.session_kwargs)\n\u001b[0m\u001b[1;32m   2483\u001b[0m         \u001b[0;32mreturn\u001b[0m \u001b[0mupdated\u001b[0m\u001b[0;34m[\u001b[0m\u001b[0;34m:\u001b[0m\u001b[0mlen\u001b[0m\u001b[0;34m(\u001b[0m\u001b[0mself\u001b[0m\u001b[0;34m.\u001b[0m\u001b[0moutputs\u001b[0m\u001b[0;34m)\u001b[0m\u001b[0;34m]\u001b[0m\u001b[0;34m\u001b[0m\u001b[0m\n\u001b[1;32m   2484\u001b[0m \u001b[0;34m\u001b[0m\u001b[0m\n",
            "\u001b[0;32m/usr/local/lib/python3.6/dist-packages/tensorflow/python/client/session.py\u001b[0m in \u001b[0;36mrun\u001b[0;34m(self, fetches, feed_dict, options, run_metadata)\u001b[0m\n\u001b[1;32m    885\u001b[0m     \u001b[0;32mtry\u001b[0m\u001b[0;34m:\u001b[0m\u001b[0;34m\u001b[0m\u001b[0m\n\u001b[1;32m    886\u001b[0m       result = self._run(None, fetches, feed_dict, options_ptr,\n\u001b[0;32m--> 887\u001b[0;31m                          run_metadata_ptr)\n\u001b[0m\u001b[1;32m    888\u001b[0m       \u001b[0;32mif\u001b[0m \u001b[0mrun_metadata\u001b[0m\u001b[0;34m:\u001b[0m\u001b[0;34m\u001b[0m\u001b[0m\n\u001b[1;32m    889\u001b[0m         \u001b[0mproto_data\u001b[0m \u001b[0;34m=\u001b[0m \u001b[0mtf_session\u001b[0m\u001b[0;34m.\u001b[0m\u001b[0mTF_GetBuffer\u001b[0m\u001b[0;34m(\u001b[0m\u001b[0mrun_metadata_ptr\u001b[0m\u001b[0;34m)\u001b[0m\u001b[0;34m\u001b[0m\u001b[0m\n",
            "\u001b[0;32m/usr/local/lib/python3.6/dist-packages/tensorflow/python/client/session.py\u001b[0m in \u001b[0;36m_run\u001b[0;34m(self, handle, fetches, feed_dict, options, run_metadata)\u001b[0m\n\u001b[1;32m   1108\u001b[0m     \u001b[0;32mif\u001b[0m \u001b[0mfinal_fetches\u001b[0m \u001b[0;32mor\u001b[0m \u001b[0mfinal_targets\u001b[0m \u001b[0;32mor\u001b[0m \u001b[0;34m(\u001b[0m\u001b[0mhandle\u001b[0m \u001b[0;32mand\u001b[0m \u001b[0mfeed_dict_tensor\u001b[0m\u001b[0;34m)\u001b[0m\u001b[0;34m:\u001b[0m\u001b[0;34m\u001b[0m\u001b[0m\n\u001b[1;32m   1109\u001b[0m       results = self._do_run(handle, final_targets, final_fetches,\n\u001b[0;32m-> 1110\u001b[0;31m                              feed_dict_tensor, options, run_metadata)\n\u001b[0m\u001b[1;32m   1111\u001b[0m     \u001b[0;32melse\u001b[0m\u001b[0;34m:\u001b[0m\u001b[0;34m\u001b[0m\u001b[0m\n\u001b[1;32m   1112\u001b[0m       \u001b[0mresults\u001b[0m \u001b[0;34m=\u001b[0m \u001b[0;34m[\u001b[0m\u001b[0;34m]\u001b[0m\u001b[0;34m\u001b[0m\u001b[0m\n",
            "\u001b[0;32m/usr/local/lib/python3.6/dist-packages/tensorflow/python/client/session.py\u001b[0m in \u001b[0;36m_do_run\u001b[0;34m(self, handle, target_list, fetch_list, feed_dict, options, run_metadata)\u001b[0m\n\u001b[1;32m   1284\u001b[0m     \u001b[0;32mif\u001b[0m \u001b[0mhandle\u001b[0m \u001b[0;32mis\u001b[0m \u001b[0;32mNone\u001b[0m\u001b[0;34m:\u001b[0m\u001b[0;34m\u001b[0m\u001b[0m\n\u001b[1;32m   1285\u001b[0m       return self._do_call(_run_fn, feeds, fetches, targets, options,\n\u001b[0;32m-> 1286\u001b[0;31m                            run_metadata)\n\u001b[0m\u001b[1;32m   1287\u001b[0m     \u001b[0;32melse\u001b[0m\u001b[0;34m:\u001b[0m\u001b[0;34m\u001b[0m\u001b[0m\n\u001b[1;32m   1288\u001b[0m       \u001b[0;32mreturn\u001b[0m \u001b[0mself\u001b[0m\u001b[0;34m.\u001b[0m\u001b[0m_do_call\u001b[0m\u001b[0;34m(\u001b[0m\u001b[0m_prun_fn\u001b[0m\u001b[0;34m,\u001b[0m \u001b[0mhandle\u001b[0m\u001b[0;34m,\u001b[0m \u001b[0mfeeds\u001b[0m\u001b[0;34m,\u001b[0m \u001b[0mfetches\u001b[0m\u001b[0;34m)\u001b[0m\u001b[0;34m\u001b[0m\u001b[0m\n",
            "\u001b[0;32m/usr/local/lib/python3.6/dist-packages/tensorflow/python/client/session.py\u001b[0m in \u001b[0;36m_do_call\u001b[0;34m(self, fn, *args)\u001b[0m\n\u001b[1;32m   1290\u001b[0m   \u001b[0;32mdef\u001b[0m \u001b[0m_do_call\u001b[0m\u001b[0;34m(\u001b[0m\u001b[0mself\u001b[0m\u001b[0;34m,\u001b[0m \u001b[0mfn\u001b[0m\u001b[0;34m,\u001b[0m \u001b[0;34m*\u001b[0m\u001b[0margs\u001b[0m\u001b[0;34m)\u001b[0m\u001b[0;34m:\u001b[0m\u001b[0;34m\u001b[0m\u001b[0m\n\u001b[1;32m   1291\u001b[0m     \u001b[0;32mtry\u001b[0m\u001b[0;34m:\u001b[0m\u001b[0;34m\u001b[0m\u001b[0m\n\u001b[0;32m-> 1292\u001b[0;31m       \u001b[0;32mreturn\u001b[0m \u001b[0mfn\u001b[0m\u001b[0;34m(\u001b[0m\u001b[0;34m*\u001b[0m\u001b[0margs\u001b[0m\u001b[0;34m)\u001b[0m\u001b[0;34m\u001b[0m\u001b[0m\n\u001b[0m\u001b[1;32m   1293\u001b[0m     \u001b[0;32mexcept\u001b[0m \u001b[0merrors\u001b[0m\u001b[0;34m.\u001b[0m\u001b[0mOpError\u001b[0m \u001b[0;32mas\u001b[0m \u001b[0me\u001b[0m\u001b[0;34m:\u001b[0m\u001b[0;34m\u001b[0m\u001b[0m\n\u001b[1;32m   1294\u001b[0m       \u001b[0mmessage\u001b[0m \u001b[0;34m=\u001b[0m \u001b[0mcompat\u001b[0m\u001b[0;34m.\u001b[0m\u001b[0mas_text\u001b[0m\u001b[0;34m(\u001b[0m\u001b[0me\u001b[0m\u001b[0;34m.\u001b[0m\u001b[0mmessage\u001b[0m\u001b[0;34m)\u001b[0m\u001b[0;34m\u001b[0m\u001b[0m\n",
            "\u001b[0;32m/usr/local/lib/python3.6/dist-packages/tensorflow/python/client/session.py\u001b[0m in \u001b[0;36m_run_fn\u001b[0;34m(feed_dict, fetch_list, target_list, options, run_metadata)\u001b[0m\n\u001b[1;32m   1275\u001b[0m       \u001b[0mself\u001b[0m\u001b[0;34m.\u001b[0m\u001b[0m_extend_graph\u001b[0m\u001b[0;34m(\u001b[0m\u001b[0;34m)\u001b[0m\u001b[0;34m\u001b[0m\u001b[0m\n\u001b[1;32m   1276\u001b[0m       return self._call_tf_sessionrun(\n\u001b[0;32m-> 1277\u001b[0;31m           options, feed_dict, fetch_list, target_list, run_metadata)\n\u001b[0m\u001b[1;32m   1278\u001b[0m \u001b[0;34m\u001b[0m\u001b[0m\n\u001b[1;32m   1279\u001b[0m     \u001b[0;32mdef\u001b[0m \u001b[0m_prun_fn\u001b[0m\u001b[0;34m(\u001b[0m\u001b[0mhandle\u001b[0m\u001b[0;34m,\u001b[0m \u001b[0mfeed_dict\u001b[0m\u001b[0;34m,\u001b[0m \u001b[0mfetch_list\u001b[0m\u001b[0;34m)\u001b[0m\u001b[0;34m:\u001b[0m\u001b[0;34m\u001b[0m\u001b[0m\n",
            "\u001b[0;32m/usr/local/lib/python3.6/dist-packages/tensorflow/python/client/session.py\u001b[0m in \u001b[0;36m_call_tf_sessionrun\u001b[0;34m(self, options, feed_dict, fetch_list, target_list, run_metadata)\u001b[0m\n\u001b[1;32m   1365\u001b[0m     return tf_session.TF_SessionRun_wrapper(\n\u001b[1;32m   1366\u001b[0m         \u001b[0mself\u001b[0m\u001b[0;34m.\u001b[0m\u001b[0m_session\u001b[0m\u001b[0;34m,\u001b[0m \u001b[0moptions\u001b[0m\u001b[0;34m,\u001b[0m \u001b[0mfeed_dict\u001b[0m\u001b[0;34m,\u001b[0m \u001b[0mfetch_list\u001b[0m\u001b[0;34m,\u001b[0m \u001b[0mtarget_list\u001b[0m\u001b[0;34m,\u001b[0m\u001b[0;34m\u001b[0m\u001b[0m\n\u001b[0;32m-> 1367\u001b[0;31m         run_metadata)\n\u001b[0m\u001b[1;32m   1368\u001b[0m \u001b[0;34m\u001b[0m\u001b[0m\n\u001b[1;32m   1369\u001b[0m   \u001b[0;32mdef\u001b[0m \u001b[0m_call_tf_sessionprun\u001b[0m\u001b[0;34m(\u001b[0m\u001b[0mself\u001b[0m\u001b[0;34m,\u001b[0m \u001b[0mhandle\u001b[0m\u001b[0;34m,\u001b[0m \u001b[0mfeed_dict\u001b[0m\u001b[0;34m,\u001b[0m \u001b[0mfetch_list\u001b[0m\u001b[0;34m)\u001b[0m\u001b[0;34m:\u001b[0m\u001b[0;34m\u001b[0m\u001b[0m\n",
            "\u001b[0;31mKeyboardInterrupt\u001b[0m: "
          ]
        }
      ]
    },
    {
      "metadata": {
        "id": "UokC8xSb_pHH",
        "colab_type": "code",
        "colab": {}
      },
      "cell_type": "code",
      "source": [
        "decoded_imgs = autoencoder.predict(x_test)\n",
        "\n",
        "n = 10\n",
        "plt.figure(figsize=(20, 4))\n",
        "for i in range(n):\n",
        "    # display original\n",
        "    ax = plt.subplot(2, n, i)\n",
        "    plt.imshow(x_test[i].reshape(28, 28))\n",
        "    plt.gray()\n",
        "    ax.get_xaxis().set_visible(False)\n",
        "    ax.get_yaxis().set_visible(False)\n",
        "\n",
        "    # display reconstruction\n",
        "    ax = plt.subplot(2, n, i + n)\n",
        "    plt.imshow(decoded_imgs[i].reshape(28, 28))\n",
        "    plt.gray()\n",
        "    ax.get_xaxis().set_visible(False)\n",
        "    ax.get_yaxis().set_visible(False)\n",
        "plt.show()"
      ],
      "execution_count": 0,
      "outputs": []
    },
    {
      "metadata": {
        "id": "Qef4qlWF_uWf",
        "colab_type": "code",
        "colab": {}
      },
      "cell_type": "code",
      "source": [
        "n = 10\n",
        "plt.figure(figsize=(20, 8))\n",
        "for i in range(n):\n",
        "    ax = plt.subplot(1, n, i)\n",
        "    plt.imshow(encoded_imgs[i].reshape(4, 4 * 8).T)\n",
        "    plt.gray()\n",
        "    ax.get_xaxis().set_visible(False)\n",
        "    ax.get_yaxis().set_visible(False)\n",
        "plt.show()"
      ],
      "execution_count": 0,
      "outputs": []
    },
    {
      "metadata": {
        "id": "Xg3hae4N_vVv",
        "colab_type": "code",
        "colab": {}
      },
      "cell_type": "code",
      "source": [
        "input_img = Input(shape=(28, 28, 1))  # adapt this if using `channels_first` image data format\n",
        "\n",
        "x = Conv2D(32, (3, 3), activation='relu', padding='same')(input_img)\n",
        "x = MaxPooling2D((2, 2), padding='same')(x)\n",
        "x = Conv2D(32, (3, 3), activation='relu', padding='same')(x)\n",
        "encoded = MaxPooling2D((2, 2), padding='same')(x)\n",
        "\n",
        "# at this point the representation is (7, 7, 32)\n",
        "\n",
        "x = Conv2D(32, (3, 3), activation='relu', padding='same')(encoded)\n",
        "x = UpSampling2D((2, 2))(x)\n",
        "x = Conv2D(32, (3, 3), activation='relu', padding='same')(x)\n",
        "x = UpSampling2D((2, 2))(x)\n",
        "decoded = Conv2D(1, (3, 3), activation='sigmoid', padding='same')(x)\n",
        "\n",
        "autoencoder = Model(input_img, decoded)\n",
        "autoencoder.compile(optimizer='adadelta', loss='binary_crossentropy')"
      ],
      "execution_count": 0,
      "outputs": []
    },
    {
      "metadata": {
        "id": "WznRD9Qh_8Zy",
        "colab_type": "code",
        "colab": {}
      },
      "cell_type": "code",
      "source": [
        "autoencoder.fit(x_train_noisy, x_train,\n",
        "                epochs=100,\n",
        "                batch_size=128,\n",
        "                shuffle=True,\n",
        "                validation_data=(x_test_noisy, x_test),\n",
        "                callbacks=[TensorBoard(log_dir='/tmp/tb', histogram_freq=0, write_graph=False)])"
      ],
      "execution_count": 0,
      "outputs": []
    },
    {
      "metadata": {
        "id": "ayWu2Zs-__YS",
        "colab_type": "code",
        "colab": {}
      },
      "cell_type": "code",
      "source": [
        "from keras.layers import Input, LSTM, RepeatVector\n",
        "from keras.models import Model\n",
        "\n",
        "inputs = Input(shape=(timesteps, input_dim))\n",
        "encoded = LSTM(latent_dim)(inputs)\n",
        "\n",
        "decoded = RepeatVector(timesteps)(encoded)\n",
        "decoded = LSTM(input_dim, return_sequences=True)(decoded)\n",
        "\n",
        "sequence_autoencoder = Model(inputs, decoded)\n",
        "encoder = Model(inputs, encoded)\n"
      ],
      "execution_count": 0,
      "outputs": []
    },
    {
      "metadata": {
        "id": "j-4ogCti__tm",
        "colab_type": "code",
        "colab": {}
      },
      "cell_type": "code",
      "source": [
        "x = Input(batch_shape=(batch_size, original_dim))\n",
        "h = Dense(intermediate_dim, activation='relu')(x)\n",
        "z_mean = Dense(latent_dim)(h)\n",
        "z_log_sigma = Dense(latent_dim)(h)"
      ],
      "execution_count": 0,
      "outputs": []
    },
    {
      "metadata": {
        "id": "0F5ujEqM__yN",
        "colab_type": "code",
        "colab": {}
      },
      "cell_type": "code",
      "source": [
        "def sampling(args):\n",
        "    z_mean, z_log_sigma = args\n",
        "    epsilon = K.random_normal(shape=(batch_size, latent_dim),\n",
        "                              mean=0., std=epsilon_std)\n",
        "    return z_mean + K.exp(z_log_sigma) * epsilon\n",
        "\n",
        "# note that \"output_shape\" isn't necessary with the TensorFlow backend\n",
        "# so you could write `Lambda(sampling)([z_mean, z_log_sigma])`\n",
        "z = Lambda(sampling, output_shape=(latent_dim,))([z_mean, z_log_sigma])"
      ],
      "execution_count": 0,
      "outputs": []
    },
    {
      "metadata": {
        "id": "WMWIJ_uyAGSJ",
        "colab_type": "code",
        "colab": {}
      },
      "cell_type": "code",
      "source": [
        "decoder_h = Dense(intermediate_dim, activation='relu')\n",
        "decoder_mean = Dense(original_dim, activation='sigmoid')\n",
        "h_decoded = decoder_h(z)\n",
        "x_decoded_mean = decoder_mean(h_decoded)"
      ],
      "execution_count": 0,
      "outputs": []
    },
    {
      "metadata": {
        "id": "PsIfPS74AGXn",
        "colab_type": "code",
        "colab": {}
      },
      "cell_type": "code",
      "source": [
        "# end-to-end autoencoder\n",
        "vae = Model(x, x_decoded_mean)\n",
        "\n",
        "# encoder, from inputs to latent space\n",
        "encoder = Model(x, z_mean)\n",
        "\n",
        "# generator, from latent space to reconstructed inputs\n",
        "decoder_input = Input(shape=(latent_dim,))\n",
        "_h_decoded = decoder_h(decoder_input)\n",
        "_x_decoded_mean = decoder_mean(_h_decoded)\n",
        "generator = Model(decoder_input, _x_decoded_mean)\n"
      ],
      "execution_count": 0,
      "outputs": []
    },
    {
      "metadata": {
        "id": "Bh-nJN6JAGdr",
        "colab_type": "code",
        "colab": {}
      },
      "cell_type": "code",
      "source": [
        "def vae_loss(x, x_decoded_mean):\n",
        "    xent_loss = objectives.binary_crossentropy(x, x_decoded_mean)\n",
        "    kl_loss = - 0.5 * K.mean(1 + z_log_sigma - K.square(z_mean) - K.exp(z_log_sigma), axis=-1)\n",
        "    return xent_loss + kl_loss\n",
        "\n",
        "vae.compile(optimizer='rmsprop', loss=vae_loss)"
      ],
      "execution_count": 0,
      "outputs": []
    },
    {
      "metadata": {
        "id": "UHcAfbVoAGka",
        "colab_type": "code",
        "colab": {}
      },
      "cell_type": "code",
      "source": [
        "(x_train, y_train), (x_test, y_test) = mnist.load_data()\n",
        "\n",
        "x_train = x_train.astype('float32') / 255.\n",
        "x_test = x_test.astype('float32') / 255.\n",
        "x_train = x_train.reshape((len(x_train), np.prod(x_train.shape[1:])))\n",
        "x_test = x_test.reshape((len(x_test), np.prod(x_test.shape[1:])))\n",
        "\n",
        "vae.fit(x_train, x_train,\n",
        "        shuffle=True,\n",
        "        epochs=epochs,\n",
        "        batch_size=batch_size,\n",
        "        validation_data=(x_test, x_test))"
      ],
      "execution_count": 0,
      "outputs": []
    },
    {
      "metadata": {
        "id": "kbFBGMeBAGq2",
        "colab_type": "code",
        "colab": {}
      },
      "cell_type": "code",
      "source": [
        "x_test_encoded = encoder.predict(x_test, batch_size=batch_size)\n",
        "plt.figure(figsize=(6, 6))\n",
        "plt.scatter(x_test_encoded[:, 0], x_test_encoded[:, 1], c=y_test)\n",
        "plt.colorbar()\n",
        "plt.show()"
      ],
      "execution_count": 0,
      "outputs": []
    },
    {
      "metadata": {
        "id": "AkhwMYEYAO4d",
        "colab_type": "code",
        "colab": {}
      },
      "cell_type": "code",
      "source": [
        "# display a 2D manifold of the digits\n",
        "n = 15  # figure with 15x15 digits\n",
        "digit_size = 28\n",
        "figure = np.zeros((digit_size * n, digit_size * n))\n",
        "# we will sample n points within [-15, 15] standard deviations\n",
        "grid_x = np.linspace(-15, 15, n)\n",
        "grid_y = np.linspace(-15, 15, n)\n",
        "\n",
        "for i, yi in enumerate(grid_x):\n",
        "    for j, xi in enumerate(grid_y):\n",
        "        z_sample = np.array([[xi, yi]]) * epsilon_std\n",
        "        x_decoded = generator.predict(z_sample)\n",
        "        digit = x_decoded[0].reshape(digit_size, digit_size)\n",
        "        figure[i * digit_size: (i + 1) * digit_size,\n",
        "               j * digit_size: (j + 1) * digit_size] = digit\n",
        "\n",
        "plt.figure(figsize=(10, 10))\n",
        "plt.imshow(figure)\n",
        "plt.show()"
      ],
      "execution_count": 0,
      "outputs": []
    },
    {
      "metadata": {
        "id": "BSvIsSQo-E_-",
        "colab_type": "text"
      },
      "cell_type": "markdown",
      "source": [
        "## References\n",
        "\n",
        "---\n",
        "\n",
        "\n",
        "### [1] [Building Autoencoders in Keras, The Keras Blog](https://blog.keras.io/building-autoencoders-in-keras.html)"
      ]
    }
  ]
}