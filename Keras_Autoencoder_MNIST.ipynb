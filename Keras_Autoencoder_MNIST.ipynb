{
  "nbformat": 4,
  "nbformat_minor": 0,
  "metadata": {
    "colab": {
      "name": "Keras Autoencoder MNIST.ipynb",
      "version": "0.3.2",
      "provenance": [],
      "include_colab_link": true
    },
    "kernelspec": {
      "name": "python3",
      "display_name": "Python 3"
    },
    "accelerator": "GPU"
  },
  "cells": [
    {
      "cell_type": "markdown",
      "metadata": {
        "id": "view-in-github",
        "colab_type": "text"
      },
      "source": [
        "[View in Colaboratory](https://colab.research.google.com/github/Joovvhan/ColabTest/blob/master/Keras_Autoencoder_MNIST.ipynb)"
      ]
    },
    {
      "metadata": {
        "id": "dju32qW3-eIF",
        "colab_type": "code",
        "colab": {}
      },
      "cell_type": "code",
      "source": [
        "from keras.layers import Input, Dense\n",
        "from keras.models import Model\n",
        "\n",
        "# this is the size of our encoded representations\n",
        "encoding_dim = 32  # 32 floats -> compression of factor 24.5, assuming the input is 784 floats\n",
        "\n",
        "# this is our input placeholder\n",
        "input_img = Input(shape=(784,))\n",
        "# \"encoded\" is the encoded representation of the input\n",
        "encoded = Dense(encoding_dim, activation='relu')(input_img)\n",
        "# \"decoded\" is the lossy reconstruction of the input\n",
        "decoded = Dense(784, activation='sigmoid')(encoded)\n",
        "\n",
        "# this model maps an input to its reconstruction\n",
        "autoencoder = Model(input_img, decoded)"
      ],
      "execution_count": 0,
      "outputs": []
    },
    {
      "metadata": {
        "id": "_SDT6Bg9-nqa",
        "colab_type": "code",
        "colab": {}
      },
      "cell_type": "code",
      "source": [
        "# this model maps an input to its encoded representation\n",
        "encoder = Model(input_img, encoded)"
      ],
      "execution_count": 0,
      "outputs": []
    },
    {
      "metadata": {
        "id": "7ifio7Sq-zTK",
        "colab_type": "code",
        "colab": {}
      },
      "cell_type": "code",
      "source": [
        "# create a placeholder for an encoded (32-dimensional) input\n",
        "encoded_input = Input(shape=(encoding_dim,))\n",
        "# retrieve the last layer of the autoencoder model\n",
        "decoder_layer = autoencoder.layers[-1]\n",
        "# create the decoder model\n",
        "decoder = Model(encoded_input, decoder_layer(encoded_input))"
      ],
      "execution_count": 0,
      "outputs": []
    },
    {
      "metadata": {
        "id": "DEC-MGBS-5bt",
        "colab_type": "code",
        "colab": {}
      },
      "cell_type": "code",
      "source": [
        "autoencoder.compile(optimizer='adadelta', loss='binary_crossentropy')"
      ],
      "execution_count": 0,
      "outputs": []
    },
    {
      "metadata": {
        "id": "UBLTVo3e-6XS",
        "colab_type": "code",
        "colab": {}
      },
      "cell_type": "code",
      "source": [
        "from keras.datasets import mnist\n",
        "import numpy as np\n",
        "(x_train, _), (x_test, _) = mnist.load_data()"
      ],
      "execution_count": 0,
      "outputs": []
    },
    {
      "metadata": {
        "id": "8dZM1KJI-_JQ",
        "colab_type": "code",
        "colab": {
          "base_uri": "https://localhost:8080/",
          "height": 53
        },
        "outputId": "33994a99-3a3d-4dc4-ac5f-221b101aeb6d"
      },
      "cell_type": "code",
      "source": [
        "x_train = x_train.astype('float32') / 255.\n",
        "x_test = x_test.astype('float32') / 255.\n",
        "x_train = x_train.reshape((len(x_train), np.prod(x_train.shape[1:])))\n",
        "x_test = x_test.reshape((len(x_test), np.prod(x_test.shape[1:])))\n",
        "print(x_train.shape)\n",
        "print(x_test.shape)"
      ],
      "execution_count": 11,
      "outputs": [
        {
          "output_type": "stream",
          "text": [
            "(60000, 784)\n",
            "(10000, 784)\n"
          ],
          "name": "stdout"
        }
      ]
    },
    {
      "metadata": {
        "id": "chhu2QOj-_y-",
        "colab_type": "code",
        "colab": {
          "base_uri": "https://localhost:8080/",
          "height": 1853
        },
        "outputId": "a8733ca4-9f4e-4a10-dbc7-c6a3b177130b"
      },
      "cell_type": "code",
      "source": [
        "autoencoder.fit(x_train, x_train,\n",
        "                epochs=50,\n",
        "                batch_size=256,\n",
        "                shuffle=True,\n",
        "                validation_data=(x_test, x_test))"
      ],
      "execution_count": 12,
      "outputs": [
        {
          "output_type": "stream",
          "text": [
            "Train on 60000 samples, validate on 10000 samples\n",
            "Epoch 1/50\n",
            "60000/60000 [==============================] - 3s 42us/step - loss: 0.3595 - val_loss: 0.2720\n",
            "Epoch 2/50\n",
            "60000/60000 [==============================] - 1s 11us/step - loss: 0.2660 - val_loss: 0.2565\n",
            "Epoch 3/50\n",
            "60000/60000 [==============================] - 1s 12us/step - loss: 0.2453 - val_loss: 0.2316\n",
            "Epoch 4/50\n",
            "60000/60000 [==============================] - 1s 12us/step - loss: 0.2225 - val_loss: 0.2120\n",
            "Epoch 5/50\n",
            "60000/60000 [==============================] - 1s 12us/step - loss: 0.2070 - val_loss: 0.1997\n",
            "Epoch 6/50\n",
            "60000/60000 [==============================] - 1s 11us/step - loss: 0.1964 - val_loss: 0.1905\n",
            "Epoch 7/50\n",
            "60000/60000 [==============================] - 1s 12us/step - loss: 0.1882 - val_loss: 0.1831\n",
            "Epoch 8/50\n",
            "60000/60000 [==============================] - 1s 12us/step - loss: 0.1814 - val_loss: 0.1769\n",
            "Epoch 9/50\n",
            "60000/60000 [==============================] - 1s 13us/step - loss: 0.1755 - val_loss: 0.1713\n",
            "Epoch 10/50\n",
            "60000/60000 [==============================] - 1s 12us/step - loss: 0.1702 - val_loss: 0.1664\n",
            "Epoch 11/50\n",
            "60000/60000 [==============================] - 1s 12us/step - loss: 0.1655 - val_loss: 0.1618\n",
            "Epoch 12/50\n",
            "60000/60000 [==============================] - 1s 13us/step - loss: 0.1612 - val_loss: 0.1577\n",
            "Epoch 13/50\n",
            "60000/60000 [==============================] - 1s 13us/step - loss: 0.1572 - val_loss: 0.1540\n",
            "Epoch 14/50\n",
            "60000/60000 [==============================] - 1s 12us/step - loss: 0.1536 - val_loss: 0.1505\n",
            "Epoch 15/50\n",
            "60000/60000 [==============================] - 1s 12us/step - loss: 0.1503 - val_loss: 0.1473\n",
            "Epoch 16/50\n",
            "60000/60000 [==============================] - 1s 12us/step - loss: 0.1473 - val_loss: 0.1443\n",
            "Epoch 17/50\n",
            "60000/60000 [==============================] - 1s 12us/step - loss: 0.1445 - val_loss: 0.1416\n",
            "Epoch 18/50\n",
            "60000/60000 [==============================] - 1s 12us/step - loss: 0.1420 - val_loss: 0.1392\n",
            "Epoch 19/50\n",
            "60000/60000 [==============================] - 1s 13us/step - loss: 0.1396 - val_loss: 0.1369\n",
            "Epoch 20/50\n",
            "60000/60000 [==============================] - 1s 13us/step - loss: 0.1375 - val_loss: 0.1349\n",
            "Epoch 21/50\n",
            "60000/60000 [==============================] - 1s 13us/step - loss: 0.1354 - val_loss: 0.1328\n",
            "Epoch 22/50\n",
            "60000/60000 [==============================] - 1s 12us/step - loss: 0.1335 - val_loss: 0.1308\n",
            "Epoch 23/50\n",
            "60000/60000 [==============================] - 1s 12us/step - loss: 0.1316 - val_loss: 0.1289\n",
            "Epoch 24/50\n",
            "60000/60000 [==============================] - 1s 12us/step - loss: 0.1298 - val_loss: 0.1272\n",
            "Epoch 25/50\n",
            "60000/60000 [==============================] - 1s 12us/step - loss: 0.1280 - val_loss: 0.1255\n",
            "Epoch 26/50\n",
            "60000/60000 [==============================] - 1s 12us/step - loss: 0.1263 - val_loss: 0.1237\n",
            "Epoch 27/50\n",
            "60000/60000 [==============================] - 1s 12us/step - loss: 0.1247 - val_loss: 0.1221\n",
            "Epoch 28/50\n",
            "60000/60000 [==============================] - 1s 12us/step - loss: 0.1231 - val_loss: 0.1207\n",
            "Epoch 29/50\n",
            "60000/60000 [==============================] - 1s 12us/step - loss: 0.1216 - val_loss: 0.1191\n",
            "Epoch 30/50\n",
            "60000/60000 [==============================] - 1s 12us/step - loss: 0.1202 - val_loss: 0.1177\n",
            "Epoch 31/50\n",
            "60000/60000 [==============================] - 1s 12us/step - loss: 0.1188 - val_loss: 0.1164\n",
            "Epoch 32/50\n",
            "60000/60000 [==============================] - 1s 12us/step - loss: 0.1175 - val_loss: 0.1152\n",
            "Epoch 33/50\n",
            "60000/60000 [==============================] - 1s 11us/step - loss: 0.1163 - val_loss: 0.1140\n",
            "Epoch 34/50\n",
            "60000/60000 [==============================] - 1s 11us/step - loss: 0.1152 - val_loss: 0.1129\n",
            "Epoch 35/50\n",
            "60000/60000 [==============================] - 1s 11us/step - loss: 0.1141 - val_loss: 0.1119\n",
            "Epoch 36/50\n",
            "60000/60000 [==============================] - 1s 11us/step - loss: 0.1131 - val_loss: 0.1109\n",
            "Epoch 37/50\n",
            "60000/60000 [==============================] - 1s 11us/step - loss: 0.1122 - val_loss: 0.1101\n",
            "Epoch 38/50\n",
            "60000/60000 [==============================] - 1s 11us/step - loss: 0.1114 - val_loss: 0.1092\n",
            "Epoch 39/50\n",
            "60000/60000 [==============================] - 1s 11us/step - loss: 0.1106 - val_loss: 0.1085\n",
            "Epoch 40/50\n",
            "60000/60000 [==============================] - 1s 11us/step - loss: 0.1099 - val_loss: 0.1078\n",
            "Epoch 41/50\n",
            "60000/60000 [==============================] - 1s 11us/step - loss: 0.1092 - val_loss: 0.1072\n",
            "Epoch 42/50\n",
            "60000/60000 [==============================] - 1s 11us/step - loss: 0.1086 - val_loss: 0.1066\n",
            "Epoch 43/50\n",
            "60000/60000 [==============================] - 1s 11us/step - loss: 0.1080 - val_loss: 0.1060\n",
            "Epoch 44/50\n",
            "60000/60000 [==============================] - 1s 11us/step - loss: 0.1075 - val_loss: 0.1056\n",
            "Epoch 45/50\n",
            "60000/60000 [==============================] - 1s 11us/step - loss: 0.1070 - val_loss: 0.1051\n",
            "Epoch 46/50\n",
            "60000/60000 [==============================] - 1s 12us/step - loss: 0.1066 - val_loss: 0.1046\n",
            "Epoch 47/50\n",
            "60000/60000 [==============================] - 1s 12us/step - loss: 0.1061 - val_loss: 0.1042\n",
            "Epoch 48/50\n",
            "60000/60000 [==============================] - 1s 12us/step - loss: 0.1057 - val_loss: 0.1038\n",
            "Epoch 49/50\n",
            "60000/60000 [==============================] - 1s 12us/step - loss: 0.1053 - val_loss: 0.1034\n",
            "Epoch 50/50\n",
            "60000/60000 [==============================] - 1s 12us/step - loss: 0.1050 - val_loss: 0.1031\n"
          ],
          "name": "stdout"
        },
        {
          "output_type": "execute_result",
          "data": {
            "text/plain": [
              "<keras.callbacks.History at 0x277705e39e8>"
            ]
          },
          "metadata": {
            "tags": []
          },
          "execution_count": 12
        }
      ]
    },
    {
      "metadata": {
        "id": "9ejUz_NT_OmZ",
        "colab_type": "code",
        "colab": {}
      },
      "cell_type": "code",
      "source": [
        "# encode and decode some digits\n",
        "# note that we take them from the *test* set\n",
        "encoded_imgs = encoder.predict(x_test)\n",
        "decoded_imgs = decoder.predict(encoded_imgs)"
      ],
      "execution_count": 0,
      "outputs": []
    },
    {
      "metadata": {
        "id": "J_a7s_Zb_QNi",
        "colab_type": "code",
        "colab": {
          "base_uri": "https://localhost:8080/",
          "height": 35
        },
        "outputId": "99146a66-7e1e-46a0-e963-b0f2b0c8d3bb"
      },
      "cell_type": "code",
      "source": [
        "# use Matplotlib (don't ask)\n",
        "import matplotlib.pyplot as plt\n",
        "\n",
        "n = 10  # how many digits we will display\n",
        "plt.figure(figsize=(20, 4))\n",
        "for i in range(n):\n",
        "    # display original\n",
        "    ax = plt.subplot(2, n, i + 1)\n",
        "    plt.imshow(x_test[i].reshape(28, 28))\n",
        "    plt.gray()\n",
        "    ax.get_xaxis().set_visible(False)\n",
        "    ax.get_yaxis().set_visible(False)\n",
        "\n",
        "    # display reconstruction\n",
        "    ax = plt.subplot(2, n, i + 1 + n)\n",
        "    plt.imshow(decoded_imgs[i].reshape(28, 28))\n",
        "    plt.gray()\n",
        "    ax.get_xaxis().set_visible(False)\n",
        "    ax.get_yaxis().set_visible(False)\n",
        "plt.show()"
      ],
      "execution_count": 14,
      "outputs": [
        {
          "output_type": "display_data",
          "data": {
            "text/plain": [
              "<Figure size 2000x400 with 20 Axes>"
            ]
          },
          "metadata": {
            "tags": []
          }
        }
      ]
    },
    {
      "metadata": {
        "id": "VP2EpR0M_X0d",
        "colab_type": "code",
        "colab": {}
      },
      "cell_type": "code",
      "source": [
        "from keras import regularizers\n",
        "\n",
        "encoding_dim = 32\n",
        "\n",
        "input_img = Input(shape=(784,))\n",
        "# add a Dense layer with a L1 activity regularizer\n",
        "encoded = Dense(encoding_dim, activation='relu',\n",
        "                activity_regularizer=regularizers.l1(10e-5))(input_img)\n",
        "decoded = Dense(784, activation='sigmoid')(encoded)\n",
        "\n",
        "autoencoder = Model(input_img, decoded)"
      ],
      "execution_count": 0,
      "outputs": []
    },
    {
      "metadata": {
        "id": "7-x5s-NS_YYb",
        "colab_type": "code",
        "colab": {}
      },
      "cell_type": "code",
      "source": [
        "input_img = Input(shape=(784,))\n",
        "encoded = Dense(128, activation='relu')(input_img)\n",
        "encoded = Dense(64, activation='relu')(encoded)\n",
        "encoded = Dense(32, activation='relu')(encoded)\n",
        "\n",
        "decoded = Dense(64, activation='relu')(encoded)\n",
        "decoded = Dense(128, activation='relu')(decoded)\n",
        "decoded = Dense(784, activation='sigmoid')(decoded)"
      ],
      "execution_count": 0,
      "outputs": []
    },
    {
      "metadata": {
        "id": "kvOf916P_bYs",
        "colab_type": "code",
        "colab": {
          "base_uri": "https://localhost:8080/",
          "height": 3653
        },
        "outputId": "39bc5c83-abb6-48c5-a437-77f4f7e0433a"
      },
      "cell_type": "code",
      "source": [
        "autoencoder = Model(input_img, decoded)\n",
        "autoencoder.compile(optimizer='adadelta', loss='binary_crossentropy')\n",
        "\n",
        "autoencoder.fit(x_train, x_train,\n",
        "                epochs=100,\n",
        "                batch_size=256,\n",
        "                shuffle=True,\n",
        "                validation_data=(x_test, x_test))"
      ],
      "execution_count": 17,
      "outputs": [
        {
          "output_type": "stream",
          "text": [
            "Train on 60000 samples, validate on 10000 samples\n",
            "Epoch 1/100\n",
            "60000/60000 [==============================] - 1s 22us/step - loss: 0.3421 - val_loss: 0.2630\n",
            "Epoch 2/100\n",
            "60000/60000 [==============================] - 1s 15us/step - loss: 0.2567 - val_loss: 0.2495\n",
            "Epoch 3/100\n",
            "60000/60000 [==============================] - 1s 15us/step - loss: 0.2438 - val_loss: 0.2394\n",
            "Epoch 4/100\n",
            "60000/60000 [==============================] - 1s 16us/step - loss: 0.2343 - val_loss: 0.2260\n",
            "Epoch 5/100\n",
            "60000/60000 [==============================] - 1s 16us/step - loss: 0.2218 - val_loss: 0.2135\n",
            "Epoch 6/100\n",
            "60000/60000 [==============================] - 1s 16us/step - loss: 0.2094 - val_loss: 0.2021\n",
            "Epoch 7/100\n",
            "60000/60000 [==============================] - 1s 16us/step - loss: 0.1974 - val_loss: 0.1902\n",
            "Epoch 8/100\n",
            "60000/60000 [==============================] - 1s 17us/step - loss: 0.1866 - val_loss: 0.1823\n",
            "Epoch 9/100\n",
            "60000/60000 [==============================] - 1s 16us/step - loss: 0.1784 - val_loss: 0.1726\n",
            "Epoch 10/100\n",
            "60000/60000 [==============================] - 1s 17us/step - loss: 0.1707 - val_loss: 0.1654\n",
            "Epoch 11/100\n",
            "60000/60000 [==============================] - 1s 16us/step - loss: 0.1652 - val_loss: 0.1616\n",
            "Epoch 12/100\n",
            "60000/60000 [==============================] - 1s 16us/step - loss: 0.1608 - val_loss: 0.1587\n",
            "Epoch 13/100\n",
            "60000/60000 [==============================] - 1s 16us/step - loss: 0.1570 - val_loss: 0.1538\n",
            "Epoch 14/100\n",
            "60000/60000 [==============================] - 1s 16us/step - loss: 0.1538 - val_loss: 0.1509\n",
            "Epoch 15/100\n",
            "60000/60000 [==============================] - 1s 16us/step - loss: 0.1507 - val_loss: 0.1481\n",
            "Epoch 16/100\n",
            "60000/60000 [==============================] - 1s 16us/step - loss: 0.1481 - val_loss: 0.1455\n",
            "Epoch 17/100\n",
            "60000/60000 [==============================] - 1s 16us/step - loss: 0.1460 - val_loss: 0.1437\n",
            "Epoch 18/100\n",
            "60000/60000 [==============================] - 1s 16us/step - loss: 0.1440 - val_loss: 0.1425\n",
            "Epoch 19/100\n",
            "60000/60000 [==============================] - 1s 16us/step - loss: 0.1424 - val_loss: 0.1405\n",
            "Epoch 20/100\n",
            "60000/60000 [==============================] - 1s 16us/step - loss: 0.1408 - val_loss: 0.1384\n",
            "Epoch 21/100\n",
            "60000/60000 [==============================] - 1s 16us/step - loss: 0.1392 - val_loss: 0.1368\n",
            "Epoch 22/100\n",
            "60000/60000 [==============================] - 1s 16us/step - loss: 0.1375 - val_loss: 0.1348\n",
            "Epoch 23/100\n",
            "60000/60000 [==============================] - 1s 16us/step - loss: 0.1358 - val_loss: 0.1336\n",
            "Epoch 24/100\n",
            "60000/60000 [==============================] - 1s 16us/step - loss: 0.1342 - val_loss: 0.1325\n",
            "Epoch 25/100\n",
            "60000/60000 [==============================] - 1s 16us/step - loss: 0.1325 - val_loss: 0.1308\n",
            "Epoch 26/100\n",
            "60000/60000 [==============================] - 1s 16us/step - loss: 0.1313 - val_loss: 0.1289\n",
            "Epoch 27/100\n",
            "60000/60000 [==============================] - 1s 16us/step - loss: 0.1299 - val_loss: 0.1279\n",
            "Epoch 28/100\n",
            "60000/60000 [==============================] - 1s 16us/step - loss: 0.1288 - val_loss: 0.1270\n",
            "Epoch 29/100\n",
            "60000/60000 [==============================] - 1s 17us/step - loss: 0.1277 - val_loss: 0.1260\n",
            "Epoch 30/100\n",
            "60000/60000 [==============================] - 1s 16us/step - loss: 0.1265 - val_loss: 0.1257\n",
            "Epoch 31/100\n",
            "60000/60000 [==============================] - 1s 16us/step - loss: 0.1257 - val_loss: 0.1244\n",
            "Epoch 32/100\n",
            "60000/60000 [==============================] - 1s 16us/step - loss: 0.1248 - val_loss: 0.1260\n",
            "Epoch 33/100\n",
            "60000/60000 [==============================] - 1s 16us/step - loss: 0.1240 - val_loss: 0.1212\n",
            "Epoch 34/100\n",
            "60000/60000 [==============================] - 1s 16us/step - loss: 0.1232 - val_loss: 0.1210\n",
            "Epoch 35/100\n",
            "60000/60000 [==============================] - 1s 16us/step - loss: 0.1225 - val_loss: 0.1237\n",
            "Epoch 36/100\n",
            "60000/60000 [==============================] - 1s 16us/step - loss: 0.1218 - val_loss: 0.1201\n",
            "Epoch 37/100\n",
            "60000/60000 [==============================] - 1s 16us/step - loss: 0.1210 - val_loss: 0.1186\n",
            "Epoch 38/100\n",
            "60000/60000 [==============================] - 1s 17us/step - loss: 0.1203 - val_loss: 0.1178\n",
            "Epoch 39/100\n",
            "60000/60000 [==============================] - 1s 16us/step - loss: 0.1196 - val_loss: 0.1187\n",
            "Epoch 40/100\n",
            "60000/60000 [==============================] - 1s 16us/step - loss: 0.1189 - val_loss: 0.1161\n",
            "Epoch 41/100\n",
            "60000/60000 [==============================] - 1s 16us/step - loss: 0.1181 - val_loss: 0.1153\n",
            "Epoch 42/100\n",
            "60000/60000 [==============================] - 1s 16us/step - loss: 0.1172 - val_loss: 0.1186\n",
            "Epoch 43/100\n",
            "60000/60000 [==============================] - 1s 16us/step - loss: 0.1166 - val_loss: 0.1147\n",
            "Epoch 44/100\n",
            "60000/60000 [==============================] - 1s 16us/step - loss: 0.1158 - val_loss: 0.1134\n",
            "Epoch 45/100\n",
            "60000/60000 [==============================] - 1s 16us/step - loss: 0.1154 - val_loss: 0.1137\n",
            "Epoch 46/100\n",
            "60000/60000 [==============================] - 1s 16us/step - loss: 0.1144 - val_loss: 0.1124\n",
            "Epoch 47/100\n",
            "60000/60000 [==============================] - 1s 16us/step - loss: 0.1141 - val_loss: 0.1119\n",
            "Epoch 48/100\n",
            "60000/60000 [==============================] - 1s 16us/step - loss: 0.1135 - val_loss: 0.1118\n",
            "Epoch 49/100\n",
            "60000/60000 [==============================] - 1s 16us/step - loss: 0.1130 - val_loss: 0.1118\n",
            "Epoch 50/100\n",
            "60000/60000 [==============================] - 1s 16us/step - loss: 0.1126 - val_loss: 0.1093\n",
            "Epoch 51/100\n",
            "60000/60000 [==============================] - 1s 16us/step - loss: 0.1120 - val_loss: 0.1119\n",
            "Epoch 52/100\n",
            "60000/60000 [==============================] - 1s 16us/step - loss: 0.1117 - val_loss: 0.1095\n",
            "Epoch 53/100\n",
            "60000/60000 [==============================] - 1s 16us/step - loss: 0.1113 - val_loss: 0.1085\n",
            "Epoch 54/100\n",
            "60000/60000 [==============================] - 1s 16us/step - loss: 0.1110 - val_loss: 0.1080\n",
            "Epoch 55/100\n",
            "60000/60000 [==============================] - 1s 16us/step - loss: 0.1106 - val_loss: 0.1096\n",
            "Epoch 56/100\n",
            "60000/60000 [==============================] - 1s 16us/step - loss: 0.1103 - val_loss: 0.1092\n",
            "Epoch 57/100\n",
            "60000/60000 [==============================] - 1s 17us/step - loss: 0.1099 - val_loss: 0.1089\n",
            "Epoch 58/100\n",
            "60000/60000 [==============================] - 1s 17us/step - loss: 0.1094 - val_loss: 0.1119\n",
            "Epoch 59/100\n",
            "60000/60000 [==============================] - 1s 17us/step - loss: 0.1092 - val_loss: 0.1085\n",
            "Epoch 60/100\n",
            "60000/60000 [==============================] - 1s 17us/step - loss: 0.1090 - val_loss: 0.1075\n",
            "Epoch 61/100\n",
            "60000/60000 [==============================] - 1s 17us/step - loss: 0.1085 - val_loss: 0.1070\n",
            "Epoch 62/100\n",
            "60000/60000 [==============================] - 1s 17us/step - loss: 0.1083 - val_loss: 0.1069\n",
            "Epoch 63/100\n",
            "60000/60000 [==============================] - 1s 16us/step - loss: 0.1078 - val_loss: 0.1071\n",
            "Epoch 64/100\n",
            "60000/60000 [==============================] - 1s 16us/step - loss: 0.1077 - val_loss: 0.1080\n",
            "Epoch 65/100\n",
            "60000/60000 [==============================] - 1s 16us/step - loss: 0.1073 - val_loss: 0.1056\n",
            "Epoch 66/100\n",
            "60000/60000 [==============================] - 1s 16us/step - loss: 0.1071 - val_loss: 0.1066\n",
            "Epoch 67/100\n",
            "60000/60000 [==============================] - 1s 17us/step - loss: 0.1068 - val_loss: 0.1066\n",
            "Epoch 68/100\n",
            "60000/60000 [==============================] - 1s 18us/step - loss: 0.1066 - val_loss: 0.1057\n",
            "Epoch 69/100\n",
            "60000/60000 [==============================] - 1s 18us/step - loss: 0.1062 - val_loss: 0.1031\n",
            "Epoch 70/100\n",
            "60000/60000 [==============================] - 1s 17us/step - loss: 0.1060 - val_loss: 0.1050\n",
            "Epoch 71/100\n",
            "60000/60000 [==============================] - 1s 16us/step - loss: 0.1057 - val_loss: 0.1051\n",
            "Epoch 72/100\n",
            "60000/60000 [==============================] - 1s 17us/step - loss: 0.1055 - val_loss: 0.1045\n",
            "Epoch 73/100\n",
            "60000/60000 [==============================] - 1s 17us/step - loss: 0.1053 - val_loss: 0.1050\n",
            "Epoch 74/100\n",
            "60000/60000 [==============================] - 1s 18us/step - loss: 0.1050 - val_loss: 0.1034\n",
            "Epoch 75/100\n",
            "60000/60000 [==============================] - 1s 17us/step - loss: 0.1047 - val_loss: 0.1032\n",
            "Epoch 76/100\n",
            "60000/60000 [==============================] - 1s 18us/step - loss: 0.1045 - val_loss: 0.1044\n",
            "Epoch 77/100\n",
            "60000/60000 [==============================] - 1s 18us/step - loss: 0.1044 - val_loss: 0.1026\n",
            "Epoch 78/100\n",
            "60000/60000 [==============================] - 1s 17us/step - loss: 0.1040 - val_loss: 0.1032\n",
            "Epoch 79/100\n",
            "60000/60000 [==============================] - 1s 17us/step - loss: 0.1040 - val_loss: 0.1033\n",
            "Epoch 80/100\n",
            "60000/60000 [==============================] - 1s 17us/step - loss: 0.1036 - val_loss: 0.1013\n",
            "Epoch 81/100\n",
            "60000/60000 [==============================] - 1s 16us/step - loss: 0.1035 - val_loss: 0.1019\n",
            "Epoch 82/100\n",
            "60000/60000 [==============================] - 1s 17us/step - loss: 0.1032 - val_loss: 0.1040\n",
            "Epoch 83/100\n",
            "60000/60000 [==============================] - 1s 16us/step - loss: 0.1031 - val_loss: 0.1030\n",
            "Epoch 84/100\n",
            "60000/60000 [==============================] - 1s 17us/step - loss: 0.1029 - val_loss: 0.1027\n",
            "Epoch 85/100\n",
            "60000/60000 [==============================] - 1s 16us/step - loss: 0.1027 - val_loss: 0.1018\n",
            "Epoch 86/100\n",
            "60000/60000 [==============================] - 1s 17us/step - loss: 0.1025 - val_loss: 0.1009\n",
            "Epoch 87/100\n",
            "60000/60000 [==============================] - 1s 17us/step - loss: 0.1024 - val_loss: 0.1028\n",
            "Epoch 88/100\n",
            "60000/60000 [==============================] - 1s 17us/step - loss: 0.1022 - val_loss: 0.1021\n",
            "Epoch 89/100\n",
            "60000/60000 [==============================] - 1s 17us/step - loss: 0.1019 - val_loss: 0.1021\n",
            "Epoch 90/100\n",
            "60000/60000 [==============================] - 1s 18us/step - loss: 0.1018 - val_loss: 0.1003\n",
            "Epoch 91/100\n",
            "60000/60000 [==============================] - 1s 18us/step - loss: 0.1017 - val_loss: 0.1006\n",
            "Epoch 92/100\n",
            "60000/60000 [==============================] - 1s 18us/step - loss: 0.1013 - val_loss: 0.0997\n",
            "Epoch 93/100\n",
            "60000/60000 [==============================] - 1s 17us/step - loss: 0.1014 - val_loss: 0.1005\n",
            "Epoch 94/100\n",
            "60000/60000 [==============================] - 1s 17us/step - loss: 0.1011 - val_loss: 0.1007\n",
            "Epoch 95/100\n",
            "60000/60000 [==============================] - 1s 18us/step - loss: 0.1009 - val_loss: 0.0989\n",
            "Epoch 96/100\n",
            "60000/60000 [==============================] - 1s 18us/step - loss: 0.1009 - val_loss: 0.1006\n",
            "Epoch 97/100\n",
            "60000/60000 [==============================] - 1s 18us/step - loss: 0.1007 - val_loss: 0.0998\n",
            "Epoch 98/100\n",
            "60000/60000 [==============================] - 1s 18us/step - loss: 0.1006 - val_loss: 0.0988\n",
            "Epoch 99/100\n",
            "60000/60000 [==============================] - 1s 19us/step - loss: 0.1004 - val_loss: 0.0997\n",
            "Epoch 100/100\n",
            "60000/60000 [==============================] - 1s 18us/step - loss: 0.1003 - val_loss: 0.0999\n"
          ],
          "name": "stdout"
        },
        {
          "output_type": "execute_result",
          "data": {
            "text/plain": [
              "<keras.callbacks.History at 0x2770fced5c0>"
            ]
          },
          "metadata": {
            "tags": []
          },
          "execution_count": 17
        }
      ]
    },
    {
      "metadata": {
        "id": "fy2_CPUD_gzE",
        "colab_type": "code",
        "colab": {}
      },
      "cell_type": "code",
      "source": [
        "from keras.layers import Input, Dense, Conv2D, MaxPooling2D, UpSampling2D\n",
        "from keras.models import Model\n",
        "from keras import backend as K\n",
        "\n",
        "input_img = Input(shape=(28, 28, 1))  # adapt this if using `channels_first` image data format\n",
        "\n",
        "x = Conv2D(16, (3, 3), activation='relu', padding='same')(input_img)\n",
        "x = MaxPooling2D((2, 2), padding='same')(x)\n",
        "x = Conv2D(8, (3, 3), activation='relu', padding='same')(x)\n",
        "x = MaxPooling2D((2, 2), padding='same')(x)\n",
        "x = Conv2D(8, (3, 3), activation='relu', padding='same')(x)\n",
        "encoded = MaxPooling2D((2, 2), padding='same')(x)\n",
        "\n",
        "# at this point the representation is (4, 4, 8) i.e. 128-dimensional\n",
        "\n",
        "x = Conv2D(8, (3, 3), activation='relu', padding='same')(encoded)\n",
        "x = UpSampling2D((2, 2))(x)\n",
        "x = Conv2D(8, (3, 3), activation='relu', padding='same')(x)\n",
        "x = UpSampling2D((2, 2))(x)\n",
        "x = Conv2D(16, (3, 3), activation='relu')(x)\n",
        "x = UpSampling2D((2, 2))(x)\n",
        "decoded = Conv2D(1, (3, 3), activation='sigmoid', padding='same')(x)\n",
        "\n",
        "autoencoder = Model(input_img, decoded)\n",
        "autoencoder.compile(optimizer='adadelta', loss='binary_crossentropy')"
      ],
      "execution_count": 0,
      "outputs": []
    },
    {
      "metadata": {
        "id": "Xus1Hvud_hXg",
        "colab_type": "code",
        "colab": {}
      },
      "cell_type": "code",
      "source": [
        "from keras.datasets import mnist\n",
        "import numpy as np\n",
        "\n",
        "(x_train, _), (x_test, _) = mnist.load_data()\n",
        "\n",
        "x_train = x_train.astype('float32') / 255.\n",
        "x_test = x_test.astype('float32') / 255.\n",
        "x_train = np.reshape(x_train, (len(x_train), 28, 28, 1))  # adapt this if using `channels_first` image data format\n",
        "x_test = np.reshape(x_test, (len(x_test), 28, 28, 1))  # adapt this if using `channels_first` image data format"
      ],
      "execution_count": 0,
      "outputs": []
    },
    {
      "metadata": {
        "id": "XzOE-Apw_lE5",
        "colab_type": "code",
        "colab": {
          "base_uri": "https://localhost:8080/",
          "height": 1853
        },
        "collapsed": true,
        "outputId": "5d5ef8eb-364d-433b-e7a4-cbbb33ff3ce0"
      },
      "cell_type": "code",
      "source": [
        "from keras.callbacks import TensorBoard\n",
        "\n",
        "autoencoder.fit(x_train, x_train,\n",
        "                epochs=50,\n",
        "                batch_size=128,\n",
        "                shuffle=True,\n",
        "                validation_data=(x_test, x_test),\n",
        "                callbacks=[TensorBoard(log_dir='/tmp/autoencoder')])"
      ],
      "execution_count": 20,
      "outputs": [
        {
          "output_type": "stream",
          "text": [
            "Train on 60000 samples, validate on 10000 samples\n",
            "Epoch 1/50\n",
            "60000/60000 [==============================] - 4s 74us/step - loss: 0.2185 - val_loss: 0.1727\n",
            "Epoch 2/50\n",
            "60000/60000 [==============================] - 3s 58us/step - loss: 0.1564 - val_loss: 0.1462\n",
            "Epoch 3/50\n",
            "60000/60000 [==============================] - 3s 57us/step - loss: 0.1402 - val_loss: 0.1295\n",
            "Epoch 4/50\n",
            "60000/60000 [==============================] - 3s 57us/step - loss: 0.1315 - val_loss: 0.1249\n",
            "Epoch 5/50\n",
            "60000/60000 [==============================] - 3s 57us/step - loss: 0.1258 - val_loss: 0.1205\n",
            "Epoch 6/50\n",
            "60000/60000 [==============================] - 3s 57us/step - loss: 0.1217 - val_loss: 0.1190\n",
            "Epoch 7/50\n",
            "60000/60000 [==============================] - 3s 57us/step - loss: 0.1186 - val_loss: 0.1160\n",
            "Epoch 8/50\n",
            "60000/60000 [==============================] - 3s 57us/step - loss: 0.1161 - val_loss: 0.1147\n",
            "Epoch 9/50\n",
            "60000/60000 [==============================] - 3s 57us/step - loss: 0.1142 - val_loss: 0.1124\n",
            "Epoch 10/50\n",
            "60000/60000 [==============================] - 3s 57us/step - loss: 0.1123 - val_loss: 0.1089\n",
            "Epoch 11/50\n",
            "60000/60000 [==============================] - 3s 57us/step - loss: 0.1111 - val_loss: 0.1150\n",
            "Epoch 12/50\n",
            "60000/60000 [==============================] - 3s 57us/step - loss: 0.1097 - val_loss: 0.1073\n",
            "Epoch 13/50\n",
            "60000/60000 [==============================] - 3s 57us/step - loss: 0.1089 - val_loss: 0.1063\n",
            "Epoch 14/50\n",
            "60000/60000 [==============================] - 3s 57us/step - loss: 0.1083 - val_loss: 0.1043\n",
            "Epoch 15/50\n",
            "60000/60000 [==============================] - 3s 57us/step - loss: 0.1072 - val_loss: 0.1070\n",
            "Epoch 16/50\n",
            "60000/60000 [==============================] - 3s 57us/step - loss: 0.1066 - val_loss: 0.1063\n",
            "Epoch 17/50\n",
            "60000/60000 [==============================] - 3s 57us/step - loss: 0.1059 - val_loss: 0.1063\n",
            "Epoch 18/50\n",
            "60000/60000 [==============================] - 3s 57us/step - loss: 0.1054 - val_loss: 0.1068\n",
            "Epoch 19/50\n",
            "60000/60000 [==============================] - 3s 57us/step - loss: 0.1048 - val_loss: 0.1055\n",
            "Epoch 20/50\n",
            "60000/60000 [==============================] - 3s 57us/step - loss: 0.1045 - val_loss: 0.1028\n",
            "Epoch 21/50\n",
            "60000/60000 [==============================] - 3s 57us/step - loss: 0.1039 - val_loss: 0.1013\n",
            "Epoch 22/50\n",
            "60000/60000 [==============================] - 3s 57us/step - loss: 0.1036 - val_loss: 0.1016\n",
            "Epoch 23/50\n",
            "60000/60000 [==============================] - 3s 57us/step - loss: 0.1032 - val_loss: 0.1010\n",
            "Epoch 24/50\n",
            "60000/60000 [==============================] - 3s 57us/step - loss: 0.1030 - val_loss: 0.1022\n",
            "Epoch 25/50\n",
            "60000/60000 [==============================] - 3s 57us/step - loss: 0.1025 - val_loss: 0.1028\n",
            "Epoch 26/50\n",
            "60000/60000 [==============================] - 3s 57us/step - loss: 0.1018 - val_loss: 0.0986\n",
            "Epoch 27/50\n",
            "60000/60000 [==============================] - 4s 59us/step - loss: 0.1017 - val_loss: 0.1000\n",
            "Epoch 28/50\n",
            "60000/60000 [==============================] - 3s 58us/step - loss: 0.1017 - val_loss: 0.0972\n",
            "Epoch 29/50\n",
            "60000/60000 [==============================] - 3s 58us/step - loss: 0.1014 - val_loss: 0.1002\n",
            "Epoch 30/50\n",
            "60000/60000 [==============================] - 3s 57us/step - loss: 0.1011 - val_loss: 0.0986\n",
            "Epoch 31/50\n",
            "60000/60000 [==============================] - 3s 57us/step - loss: 0.1007 - val_loss: 0.1029\n",
            "Epoch 32/50\n",
            "60000/60000 [==============================] - 3s 57us/step - loss: 0.1006 - val_loss: 0.0996\n",
            "Epoch 33/50\n",
            "60000/60000 [==============================] - 3s 57us/step - loss: 0.1003 - val_loss: 0.0969\n",
            "Epoch 34/50\n",
            "60000/60000 [==============================] - 3s 57us/step - loss: 0.1001 - val_loss: 0.0993\n",
            "Epoch 35/50\n",
            "60000/60000 [==============================] - 3s 57us/step - loss: 0.1001 - val_loss: 0.0970\n",
            "Epoch 36/50\n",
            "60000/60000 [==============================] - 3s 57us/step - loss: 0.0998 - val_loss: 0.0981\n",
            "Epoch 37/50\n",
            "60000/60000 [==============================] - 3s 57us/step - loss: 0.0997 - val_loss: 0.0984\n",
            "Epoch 38/50\n",
            "60000/60000 [==============================] - 3s 57us/step - loss: 0.0995 - val_loss: 0.1000\n",
            "Epoch 39/50\n",
            "60000/60000 [==============================] - 3s 57us/step - loss: 0.0992 - val_loss: 0.0998\n",
            "Epoch 40/50\n",
            "60000/60000 [==============================] - 3s 57us/step - loss: 0.0993 - val_loss: 0.0986\n",
            "Epoch 41/50\n",
            "60000/60000 [==============================] - 3s 57us/step - loss: 0.0992 - val_loss: 0.0996\n",
            "Epoch 42/50\n",
            "60000/60000 [==============================] - 3s 58us/step - loss: 0.0991 - val_loss: 0.0963\n",
            "Epoch 43/50\n",
            "60000/60000 [==============================] - 3s 57us/step - loss: 0.0987 - val_loss: 0.0970\n",
            "Epoch 44/50\n",
            "60000/60000 [==============================] - 3s 58us/step - loss: 0.0987 - val_loss: 0.0986\n",
            "Epoch 45/50\n",
            "60000/60000 [==============================] - 3s 57us/step - loss: 0.0984 - val_loss: 0.0960\n",
            "Epoch 46/50\n",
            "60000/60000 [==============================] - 3s 57us/step - loss: 0.0982 - val_loss: 0.0964\n",
            "Epoch 47/50\n",
            "60000/60000 [==============================] - 3s 57us/step - loss: 0.0983 - val_loss: 0.0971\n",
            "Epoch 48/50\n",
            "60000/60000 [==============================] - 3s 58us/step - loss: 0.0983 - val_loss: 0.0981\n",
            "Epoch 49/50\n",
            "60000/60000 [==============================] - 4s 58us/step - loss: 0.0981 - val_loss: 0.0989\n",
            "Epoch 50/50\n",
            "60000/60000 [==============================] - 4s 59us/step - loss: 0.0977 - val_loss: 0.0966\n"
          ],
          "name": "stdout"
        },
        {
          "output_type": "execute_result",
          "data": {
            "text/plain": [
              "<keras.callbacks.History at 0x27888a74978>"
            ]
          },
          "metadata": {
            "tags": []
          },
          "execution_count": 20
        }
      ]
    },
    {
      "metadata": {
        "id": "UokC8xSb_pHH",
        "colab_type": "code",
        "colab": {
          "base_uri": "https://localhost:8080/",
          "height": 262
        },
        "outputId": "2d8e0f0c-f1c4-49a5-ec77-211f1b7fd9cd"
      },
      "cell_type": "code",
      "source": [
        "decoded_imgs = autoencoder.predict(x_test)\n",
        "\n",
        "n = 11\n",
        "plt.figure(figsize=(20, 4))\n",
        "for i in range(1, n):\n",
        "    # display original\n",
        "    ax = plt.subplot(2, n, i)\n",
        "    plt.imshow(x_test[i].reshape(28, 28))\n",
        "    plt.gray()\n",
        "    ax.get_xaxis().set_visible(False)\n",
        "    ax.get_yaxis().set_visible(False)\n",
        "\n",
        "    # display reconstruction\n",
        "    ax = plt.subplot(2, n, i + n)\n",
        "    plt.imshow(decoded_imgs[i].reshape(28, 28))\n",
        "    plt.gray()\n",
        "    ax.get_xaxis().set_visible(False)\n",
        "    ax.get_yaxis().set_visible(False)\n",
        "plt.show()"
      ],
      "execution_count": 26,
      "outputs": [
        {
          "output_type": "display_data",
          "data": {
            "text/plain": [
              "<Figure size 1440x288 with 20 Axes>"
            ],
            "image/png": "[encoded data removed]"
          },
          "metadata": {
            "tags": [],
            "needs_background": "light"
          }
        }
      ]
    },
    {
      "metadata": {
        "id": "Qef4qlWF_uWf",
        "colab_type": "code",
        "colab": {
          "base_uri": "https://localhost:8080/",
          "height": 714
        },
        "collapsed": true,
        "outputId": "6985f29c-6e89-46de-8f58-bc95f6f33af2"
      },
      "cell_type": "code",
      "source": [
        "n = 10\n",
        "plt.figure(figsize=(20, 8))\n",
        "for i in range(0, n):\n",
        "    ax = plt.subplot(1, n, i)\n",
        "    plt.imshow(encoded_imgs[i].reshape(4, 4 * 8).T)\n",
        "    plt.gray()\n",
        "    ax.get_xaxis().set_visible(False)\n",
        "    ax.get_yaxis().set_visible(False)\n",
        "plt.show()"
      ],
      "execution_count": 30,
      "outputs": [
        {
          "output_type": "error",
          "ename": "ValueError",
          "evalue": "ignored",
          "traceback": [
            "\u001b[1;31m---------------------------------------------------------------------------\u001b[0m",
            "\u001b[1;31mValueError\u001b[0m                                Traceback (most recent call last)",
            "\u001b[1;32m<ipython-input-30-1b470ea85ada>\u001b[0m in \u001b[0;36m<module>\u001b[1;34m()\u001b[0m\n\u001b[0;32m      3\u001b[0m \u001b[1;32mfor\u001b[0m \u001b[0mi\u001b[0m \u001b[1;32min\u001b[0m \u001b[0mrange\u001b[0m\u001b[1;33m(\u001b[0m\u001b[1;36m0\u001b[0m\u001b[1;33m,\u001b[0m \u001b[0mn\u001b[0m\u001b[1;33m)\u001b[0m\u001b[1;33m:\u001b[0m\u001b[1;33m\u001b[0m\u001b[0m\n\u001b[0;32m      4\u001b[0m     \u001b[0max\u001b[0m \u001b[1;33m=\u001b[0m \u001b[0mplt\u001b[0m\u001b[1;33m.\u001b[0m\u001b[0msubplot\u001b[0m\u001b[1;33m(\u001b[0m\u001b[1;36m1\u001b[0m\u001b[1;33m,\u001b[0m \u001b[0mn\u001b[0m\u001b[1;33m,\u001b[0m \u001b[0mi\u001b[0m \u001b[1;33m+\u001b[0m \u001b[1;36m1\u001b[0m\u001b[1;33m)\u001b[0m\u001b[1;33m\u001b[0m\u001b[0m\n\u001b[1;32m----> 5\u001b[1;33m     \u001b[0mplt\u001b[0m\u001b[1;33m.\u001b[0m\u001b[0mimshow\u001b[0m\u001b[1;33m(\u001b[0m\u001b[0mencoded_imgs\u001b[0m\u001b[1;33m[\u001b[0m\u001b[0mi\u001b[0m\u001b[1;33m]\u001b[0m\u001b[1;33m.\u001b[0m\u001b[0mreshape\u001b[0m\u001b[1;33m(\u001b[0m\u001b[1;36m4\u001b[0m\u001b[1;33m,\u001b[0m \u001b[1;36m4\u001b[0m \u001b[1;33m*\u001b[0m \u001b[1;36m8\u001b[0m\u001b[1;33m)\u001b[0m\u001b[1;33m.\u001b[0m\u001b[0mT\u001b[0m\u001b[1;33m)\u001b[0m\u001b[1;33m\u001b[0m\u001b[0m\n\u001b[0m\u001b[0;32m      6\u001b[0m     \u001b[0mplt\u001b[0m\u001b[1;33m.\u001b[0m\u001b[0mgray\u001b[0m\u001b[1;33m(\u001b[0m\u001b[1;33m)\u001b[0m\u001b[1;33m\u001b[0m\u001b[0m\n\u001b[0;32m      7\u001b[0m     \u001b[0max\u001b[0m\u001b[1;33m.\u001b[0m\u001b[0mget_xaxis\u001b[0m\u001b[1;33m(\u001b[0m\u001b[1;33m)\u001b[0m\u001b[1;33m.\u001b[0m\u001b[0mset_visible\u001b[0m\u001b[1;33m(\u001b[0m\u001b[1;32mFalse\u001b[0m\u001b[1;33m)\u001b[0m\u001b[1;33m\u001b[0m\u001b[0m\n",
            "\u001b[1;31mValueError\u001b[0m: cannot reshape array of size 32 into shape (4,32)"
          ]
        },
        {
          "output_type": "display_data",
          "data": {
            "text/plain": [
              "<Figure size 1440x576 with 1 Axes>"
            ],
            "image/png": "[encoded data removed]"
          },
          "metadata": {
            "tags": [],
            "needs_background": "light"
          }
        }
      ]
    },
    {
      "metadata": {
        "id": "NnjOLrCGGdW2",
        "colab_type": "code",
        "colab": {
          "base_uri": "https://localhost:8080/",
          "height": 35
        },
        "outputId": "73bae2cb-1e32-45fa-bc89-3ab5c32e45f2"
      },
      "cell_type": "code",
      "source": [
        "encoded_imgs.shape"
      ],
      "execution_count": 33,
      "outputs": [
        {
          "output_type": "execute_result",
          "data": {
            "text/plain": [
              "(10000, 32)"
            ]
          },
          "metadata": {
            "tags": []
          },
          "execution_count": 33
        }
      ]
    },
    {
      "metadata": {
        "id": "eCR6smY0HPEL",
        "colab_type": "code",
        "colab": {}
      },
      "cell_type": "code",
      "source": [
        "from keras.datasets import mnist\n",
        "import numpy as np\n",
        "\n",
        "(x_train, _), (x_test, _) = mnist.load_data()\n",
        "\n",
        "x_train = x_train.astype('float32') / 255.\n",
        "x_test = x_test.astype('float32') / 255.\n",
        "x_train = np.reshape(x_train, (len(x_train), 28, 28, 1))  # adapt this if using `channels_first` image data format\n",
        "x_test = np.reshape(x_test, (len(x_test), 28, 28, 1))  # adapt this if using `channels_first` image data format\n",
        "\n",
        "noise_factor = 0.5\n",
        "x_train_noisy = x_train + noise_factor * np.random.normal(loc=0.0, scale=1.0, size=x_train.shape) \n",
        "x_test_noisy = x_test + noise_factor * np.random.normal(loc=0.0, scale=1.0, size=x_test.shape) \n",
        "\n",
        "x_train_noisy = np.clip(x_train_noisy, 0., 1.)\n",
        "x_test_noisy = np.clip(x_test_noisy, 0., 1.)"
      ],
      "execution_count": 0,
      "outputs": []
    },
    {
      "metadata": {
        "id": "PEHb6rIvHPN8",
        "colab_type": "code",
        "colab": {
          "base_uri": "https://localhost:8080/",
          "height": 152
        },
        "outputId": "0b70f27c-215b-4705-c2b2-1478de1566d3"
      },
      "cell_type": "code",
      "source": [
        "n = 10\n",
        "plt.figure(figsize=(20, 2))\n",
        "for i in range(n):\n",
        "    ax = plt.subplot(1, n, i + 1)\n",
        "    plt.imshow(x_test_noisy[i].reshape(28, 28))\n",
        "    plt.gray()\n",
        "    ax.get_xaxis().set_visible(False)\n",
        "    ax.get_yaxis().set_visible(False)\n",
        "plt.show()"
      ],
      "execution_count": 39,
      "outputs": [
        {
          "output_type": "display_data",
          "data": {
            "text/plain": [
              "<Figure size 1440x144 with 10 Axes>"
            ],
            "image/png": "[encoded data removed]"
          },
          "metadata": {
            "tags": [],
            "needs_background": "light"
          }
        }
      ]
    },
    {
      "metadata": {
        "id": "Xg3hae4N_vVv",
        "colab_type": "code",
        "colab": {}
      },
      "cell_type": "code",
      "source": [
        "input_img = Input(shape=(28, 28, 1))  # adapt this if using `channels_first` image data format\n",
        "\n",
        "x = Conv2D(32, (3, 3), activation='relu', padding='same')(input_img)\n",
        "x = MaxPooling2D((2, 2), padding='same')(x)\n",
        "x = Conv2D(32, (3, 3), activation='relu', padding='same')(x)\n",
        "encoded = MaxPooling2D((2, 2), padding='same')(x)\n",
        "\n",
        "# at this point the representation is (7, 7, 32)\n",
        "\n",
        "x = Conv2D(32, (3, 3), activation='relu', padding='same')(encoded)\n",
        "x = UpSampling2D((2, 2))(x)\n",
        "x = Conv2D(32, (3, 3), activation='relu', padding='same')(x)\n",
        "x = UpSampling2D((2, 2))(x)\n",
        "decoded = Conv2D(1, (3, 3), activation='sigmoid', padding='same')(x)\n",
        "\n",
        "autoencoder = Model(input_img, decoded)\n",
        "autoencoder.compile(optimizer='adadelta', loss='binary_crossentropy')"
      ],
      "execution_count": 0,
      "outputs": []
    },
    {
      "metadata": {
        "id": "WznRD9Qh_8Zy",
        "colab_type": "code",
        "colab": {
          "base_uri": "https://localhost:8080/",
          "height": 3653
        },
        "outputId": "3715b986-eb13-428a-dddf-3f5d6557c2ef"
      },
      "cell_type": "code",
      "source": [
        "autoencoder.fit(x_train_noisy, x_train,\n",
        "                epochs=100,\n",
        "                batch_size=128,\n",
        "                shuffle=True,\n",
        "                validation_data=(x_test_noisy, x_test),\n",
        "                callbacks=[TensorBoard(log_dir='/tmp/tb', histogram_freq=0, write_graph=False)])"
      ],
      "execution_count": 41,
      "outputs": [
        {
          "output_type": "stream",
          "text": [
            "Train on 60000 samples, validate on 10000 samples\n",
            "Epoch 1/100\n",
            "60000/60000 [==============================] - 5s 81us/step - loss: 0.1840 - val_loss: 0.1299\n",
            "Epoch 2/100\n",
            "60000/60000 [==============================] - 5s 76us/step - loss: 0.1209 - val_loss: 0.1149\n",
            "Epoch 3/100\n",
            "60000/60000 [==============================] - 5s 75us/step - loss: 0.1124 - val_loss: 0.1098\n",
            "Epoch 4/100\n",
            "60000/60000 [==============================] - 5s 76us/step - loss: 0.1086 - val_loss: 0.1048\n",
            "Epoch 5/100\n",
            "60000/60000 [==============================] - 5s 75us/step - loss: 0.1060 - val_loss: 0.1056\n",
            "Epoch 6/100\n",
            "60000/60000 [==============================] - 4s 75us/step - loss: 0.1044 - val_loss: 0.1022\n",
            "Epoch 7/100\n",
            "60000/60000 [==============================] - 5s 75us/step - loss: 0.1032 - val_loss: 0.1012\n",
            "Epoch 8/100\n",
            "60000/60000 [==============================] - 5s 75us/step - loss: 0.1023 - val_loss: 0.1024\n",
            "Epoch 9/100\n",
            "60000/60000 [==============================] - 5s 75us/step - loss: 0.1014 - val_loss: 0.0999\n",
            "Epoch 10/100\n",
            "60000/60000 [==============================] - 5s 75us/step - loss: 0.1009 - val_loss: 0.0990\n",
            "Epoch 11/100\n",
            "60000/60000 [==============================] - 5s 75us/step - loss: 0.1004 - val_loss: 0.0995\n",
            "Epoch 12/100\n",
            "60000/60000 [==============================] - 5s 75us/step - loss: 0.1000 - val_loss: 0.0987\n",
            "Epoch 13/100\n",
            "60000/60000 [==============================] - 5s 76us/step - loss: 0.0997 - val_loss: 0.0983\n",
            "Epoch 14/100\n",
            "60000/60000 [==============================] - 5s 75us/step - loss: 0.0994 - val_loss: 0.0982\n",
            "Epoch 15/100\n",
            "60000/60000 [==============================] - 5s 75us/step - loss: 0.0991 - val_loss: 0.0994\n",
            "Epoch 16/100\n",
            "60000/60000 [==============================] - 5s 75us/step - loss: 0.0987 - val_loss: 0.0973\n",
            "Epoch 17/100\n",
            "60000/60000 [==============================] - 5s 75us/step - loss: 0.0985 - val_loss: 0.0982\n",
            "Epoch 18/100\n",
            "60000/60000 [==============================] - 5s 75us/step - loss: 0.0982 - val_loss: 0.0979\n",
            "Epoch 19/100\n",
            "60000/60000 [==============================] - 5s 75us/step - loss: 0.0981 - val_loss: 0.0973\n",
            "Epoch 20/100\n",
            "60000/60000 [==============================] - 5s 75us/step - loss: 0.0978 - val_loss: 0.0978\n",
            "Epoch 21/100\n",
            "60000/60000 [==============================] - 5s 75us/step - loss: 0.0977 - val_loss: 0.0977\n",
            "Epoch 22/100\n",
            "60000/60000 [==============================] - 5s 76us/step - loss: 0.0975 - val_loss: 0.0977\n",
            "Epoch 23/100\n",
            "60000/60000 [==============================] - 5s 75us/step - loss: 0.0975 - val_loss: 0.0964\n",
            "Epoch 24/100\n",
            "60000/60000 [==============================] - 5s 75us/step - loss: 0.0973 - val_loss: 0.0983\n",
            "Epoch 25/100\n",
            "60000/60000 [==============================] - 5s 75us/step - loss: 0.0972 - val_loss: 0.0973\n",
            "Epoch 26/100\n",
            "60000/60000 [==============================] - 5s 75us/step - loss: 0.0971 - val_loss: 0.0964\n",
            "Epoch 27/100\n",
            "60000/60000 [==============================] - 5s 75us/step - loss: 0.0970 - val_loss: 0.0968\n",
            "Epoch 28/100\n",
            "60000/60000 [==============================] - 5s 76us/step - loss: 0.0967 - val_loss: 0.0961\n",
            "Epoch 29/100\n",
            "60000/60000 [==============================] - 5s 77us/step - loss: 0.0967 - val_loss: 0.0958\n",
            "Epoch 30/100\n",
            "60000/60000 [==============================] - 5s 77us/step - loss: 0.0967 - val_loss: 0.0959\n",
            "Epoch 31/100\n",
            "60000/60000 [==============================] - 5s 77us/step - loss: 0.0966 - val_loss: 0.0957\n",
            "Epoch 32/100\n",
            "60000/60000 [==============================] - 5s 77us/step - loss: 0.0964 - val_loss: 0.0968\n",
            "Epoch 33/100\n",
            "60000/60000 [==============================] - 5s 75us/step - loss: 0.0964 - val_loss: 0.0954\n",
            "Epoch 34/100\n",
            "60000/60000 [==============================] - 5s 75us/step - loss: 0.0964 - val_loss: 0.0962\n",
            "Epoch 35/100\n",
            "60000/60000 [==============================] - 5s 75us/step - loss: 0.0962 - val_loss: 0.0951\n",
            "Epoch 36/100\n",
            "60000/60000 [==============================] - 5s 76us/step - loss: 0.0962 - val_loss: 0.0951\n",
            "Epoch 37/100\n",
            "60000/60000 [==============================] - 5s 75us/step - loss: 0.0961 - val_loss: 0.0951\n",
            "Epoch 38/100\n",
            "60000/60000 [==============================] - 5s 75us/step - loss: 0.0960 - val_loss: 0.0962\n",
            "Epoch 39/100\n",
            "60000/60000 [==============================] - 5s 75us/step - loss: 0.0959 - val_loss: 0.0964\n",
            "Epoch 40/100\n",
            "60000/60000 [==============================] - 5s 76us/step - loss: 0.0959 - val_loss: 0.0952\n",
            "Epoch 41/100\n",
            "60000/60000 [==============================] - 5s 75us/step - loss: 0.0959 - val_loss: 0.0949\n",
            "Epoch 42/100\n",
            "60000/60000 [==============================] - 5s 75us/step - loss: 0.0958 - val_loss: 0.0948\n",
            "Epoch 43/100\n",
            "60000/60000 [==============================] - 5s 75us/step - loss: 0.0957 - val_loss: 0.0964\n",
            "Epoch 44/100\n",
            "60000/60000 [==============================] - 5s 75us/step - loss: 0.0956 - val_loss: 0.0958\n",
            "Epoch 45/100\n",
            "60000/60000 [==============================] - 5s 76us/step - loss: 0.0956 - val_loss: 0.0954\n",
            "Epoch 46/100\n",
            "60000/60000 [==============================] - 5s 75us/step - loss: 0.0956 - val_loss: 0.0949\n",
            "Epoch 47/100\n",
            "60000/60000 [==============================] - 5s 75us/step - loss: 0.0956 - val_loss: 0.0969\n",
            "Epoch 48/100\n",
            "60000/60000 [==============================] - 5s 75us/step - loss: 0.0954 - val_loss: 0.0947\n",
            "Epoch 49/100\n",
            "60000/60000 [==============================] - 5s 75us/step - loss: 0.0954 - val_loss: 0.0953\n",
            "Epoch 50/100\n",
            "60000/60000 [==============================] - 5s 75us/step - loss: 0.0954 - val_loss: 0.0948\n",
            "Epoch 51/100\n",
            "60000/60000 [==============================] - 5s 76us/step - loss: 0.0953 - val_loss: 0.0945\n",
            "Epoch 52/100\n",
            "60000/60000 [==============================] - 5s 75us/step - loss: 0.0954 - val_loss: 0.0944\n",
            "Epoch 53/100\n",
            "60000/60000 [==============================] - 5s 75us/step - loss: 0.0954 - val_loss: 0.0946\n",
            "Epoch 54/100\n",
            "60000/60000 [==============================] - 5s 75us/step - loss: 0.0953 - val_loss: 0.0947\n",
            "Epoch 55/100\n",
            "60000/60000 [==============================] - 5s 75us/step - loss: 0.0952 - val_loss: 0.0955\n",
            "Epoch 56/100\n",
            "60000/60000 [==============================] - 5s 75us/step - loss: 0.0952 - val_loss: 0.0948\n",
            "Epoch 57/100\n",
            "60000/60000 [==============================] - 5s 75us/step - loss: 0.0951 - val_loss: 0.0944\n",
            "Epoch 58/100\n",
            "60000/60000 [==============================] - 5s 75us/step - loss: 0.0951 - val_loss: 0.0947\n",
            "Epoch 59/100\n",
            "60000/60000 [==============================] - 5s 75us/step - loss: 0.0950 - val_loss: 0.0943\n",
            "Epoch 60/100\n",
            "60000/60000 [==============================] - 5s 76us/step - loss: 0.0950 - val_loss: 0.0944\n",
            "Epoch 61/100\n",
            "60000/60000 [==============================] - 5s 76us/step - loss: 0.0950 - val_loss: 0.0944\n",
            "Epoch 62/100\n",
            "60000/60000 [==============================] - 5s 75us/step - loss: 0.0950 - val_loss: 0.0948\n",
            "Epoch 63/100\n",
            "60000/60000 [==============================] - 5s 76us/step - loss: 0.0949 - val_loss: 0.0960\n",
            "Epoch 64/100\n",
            "60000/60000 [==============================] - 5s 75us/step - loss: 0.0949 - val_loss: 0.0941\n",
            "Epoch 65/100\n",
            "60000/60000 [==============================] - 5s 76us/step - loss: 0.0949 - val_loss: 0.0942\n",
            "Epoch 66/100\n",
            "60000/60000 [==============================] - 5s 76us/step - loss: 0.0949 - val_loss: 0.0947\n",
            "Epoch 67/100\n",
            "60000/60000 [==============================] - 5s 76us/step - loss: 0.0949 - val_loss: 0.0946\n",
            "Epoch 68/100\n",
            "60000/60000 [==============================] - 5s 76us/step - loss: 0.0948 - val_loss: 0.0945\n",
            "Epoch 69/100\n",
            "60000/60000 [==============================] - 5s 76us/step - loss: 0.0947 - val_loss: 0.0942\n",
            "Epoch 70/100\n",
            "60000/60000 [==============================] - 5s 76us/step - loss: 0.0948 - val_loss: 0.0944\n",
            "Epoch 71/100\n",
            "60000/60000 [==============================] - 5s 76us/step - loss: 0.0947 - val_loss: 0.0950\n",
            "Epoch 72/100\n",
            "60000/60000 [==============================] - 5s 75us/step - loss: 0.0947 - val_loss: 0.0940\n",
            "Epoch 73/100\n",
            "60000/60000 [==============================] - 5s 76us/step - loss: 0.0946 - val_loss: 0.0946\n",
            "Epoch 74/100\n",
            "60000/60000 [==============================] - 5s 75us/step - loss: 0.0947 - val_loss: 0.0941\n",
            "Epoch 75/100\n",
            "60000/60000 [==============================] - 5s 76us/step - loss: 0.0946 - val_loss: 0.0939\n",
            "Epoch 76/100\n",
            "60000/60000 [==============================] - 5s 75us/step - loss: 0.0946 - val_loss: 0.0938\n",
            "Epoch 77/100\n",
            "60000/60000 [==============================] - 5s 76us/step - loss: 0.0945 - val_loss: 0.0946\n",
            "Epoch 78/100\n",
            "60000/60000 [==============================] - 5s 76us/step - loss: 0.0946 - val_loss: 0.0938\n",
            "Epoch 79/100\n",
            "60000/60000 [==============================] - 5s 76us/step - loss: 0.0945 - val_loss: 0.0952\n",
            "Epoch 80/100\n",
            "60000/60000 [==============================] - 5s 76us/step - loss: 0.0945 - val_loss: 0.0939\n",
            "Epoch 81/100\n",
            "60000/60000 [==============================] - 5s 75us/step - loss: 0.0945 - val_loss: 0.0944\n",
            "Epoch 82/100\n",
            "60000/60000 [==============================] - 5s 75us/step - loss: 0.0945 - val_loss: 0.0947\n",
            "Epoch 83/100\n",
            "60000/60000 [==============================] - 5s 75us/step - loss: 0.0945 - val_loss: 0.0937\n",
            "Epoch 84/100\n",
            "60000/60000 [==============================] - 5s 75us/step - loss: 0.0944 - val_loss: 0.0939\n",
            "Epoch 85/100\n",
            "60000/60000 [==============================] - 5s 75us/step - loss: 0.0944 - val_loss: 0.0941\n",
            "Epoch 86/100\n",
            "60000/60000 [==============================] - 5s 75us/step - loss: 0.0944 - val_loss: 0.0941\n",
            "Epoch 87/100\n",
            "60000/60000 [==============================] - 5s 75us/step - loss: 0.0944 - val_loss: 0.0938\n",
            "Epoch 88/100\n",
            "60000/60000 [==============================] - 5s 75us/step - loss: 0.0943 - val_loss: 0.0946\n",
            "Epoch 89/100\n",
            "60000/60000 [==============================] - 5s 75us/step - loss: 0.0943 - val_loss: 0.0937\n",
            "Epoch 90/100\n",
            "60000/60000 [==============================] - 5s 75us/step - loss: 0.0943 - val_loss: 0.0940\n",
            "Epoch 91/100\n",
            "60000/60000 [==============================] - 5s 75us/step - loss: 0.0943 - val_loss: 0.0939\n",
            "Epoch 92/100\n",
            "60000/60000 [==============================] - 5s 75us/step - loss: 0.0943 - val_loss: 0.0937\n",
            "Epoch 93/100\n",
            "60000/60000 [==============================] - 5s 75us/step - loss: 0.0943 - val_loss: 0.0944\n",
            "Epoch 94/100\n",
            "60000/60000 [==============================] - 5s 75us/step - loss: 0.0942 - val_loss: 0.0939\n",
            "Epoch 95/100\n",
            "60000/60000 [==============================] - 5s 76us/step - loss: 0.0943 - val_loss: 0.0936\n",
            "Epoch 96/100\n",
            "60000/60000 [==============================] - 5s 75us/step - loss: 0.0942 - val_loss: 0.0936\n",
            "Epoch 97/100\n",
            "60000/60000 [==============================] - 5s 76us/step - loss: 0.0942 - val_loss: 0.0935\n",
            "Epoch 98/100\n",
            "60000/60000 [==============================] - 5s 76us/step - loss: 0.0941 - val_loss: 0.0943\n",
            "Epoch 99/100\n",
            "60000/60000 [==============================] - 5s 77us/step - loss: 0.0942 - val_loss: 0.0937\n",
            "Epoch 100/100\n",
            "60000/60000 [==============================] - 5s 76us/step - loss: 0.0941 - val_loss: 0.0936\n"
          ],
          "name": "stdout"
        },
        {
          "output_type": "execute_result",
          "data": {
            "text/plain": [
              "<keras.callbacks.History at 0x27758814ac8>"
            ]
          },
          "metadata": {
            "tags": []
          },
          "execution_count": 41
        }
      ]
    },
    {
      "metadata": {
        "id": "ayWu2Zs-__YS",
        "colab_type": "code",
        "colab": {
          "base_uri": "https://localhost:8080/",
          "height": 244
        },
        "outputId": "c273bc2b-a53b-4634-de79-9f8dc9d08298"
      },
      "cell_type": "code",
      "source": [
        "from keras.layers import Input, LSTM, RepeatVector\n",
        "from keras.models import Model\n",
        "\n",
        "inputs = Input(shape=(timesteps, input_dim))\n",
        "encoded = LSTM(latent_dim)(inputs)\n",
        "\n",
        "decoded = RepeatVector(timesteps)(encoded)\n",
        "decoded = LSTM(input_dim, return_sequences=True)(decoded)\n",
        "\n",
        "sequence_autoencoder = Model(inputs, decoded)\n",
        "encoder = Model(inputs, encoded)\n"
      ],
      "execution_count": 42,
      "outputs": [
        {
          "output_type": "error",
          "ename": "NameError",
          "evalue": "ignored",
          "traceback": [
            "\u001b[1;31m---------------------------------------------------------------------------\u001b[0m",
            "\u001b[1;31mNameError\u001b[0m                                 Traceback (most recent call last)",
            "\u001b[1;32m<ipython-input-42-85f7d3e6bc04>\u001b[0m in \u001b[0;36m<module>\u001b[1;34m()\u001b[0m\n\u001b[0;32m      2\u001b[0m \u001b[1;32mfrom\u001b[0m \u001b[0mkeras\u001b[0m\u001b[1;33m.\u001b[0m\u001b[0mmodels\u001b[0m \u001b[1;32mimport\u001b[0m \u001b[0mModel\u001b[0m\u001b[1;33m\u001b[0m\u001b[0m\n\u001b[0;32m      3\u001b[0m \u001b[1;33m\u001b[0m\u001b[0m\n\u001b[1;32m----> 4\u001b[1;33m \u001b[0minputs\u001b[0m \u001b[1;33m=\u001b[0m \u001b[0mInput\u001b[0m\u001b[1;33m(\u001b[0m\u001b[0mshape\u001b[0m\u001b[1;33m=\u001b[0m\u001b[1;33m(\u001b[0m\u001b[0mtimesteps\u001b[0m\u001b[1;33m,\u001b[0m \u001b[0minput_dim\u001b[0m\u001b[1;33m)\u001b[0m\u001b[1;33m)\u001b[0m\u001b[1;33m\u001b[0m\u001b[0m\n\u001b[0m\u001b[0;32m      5\u001b[0m \u001b[0mencoded\u001b[0m \u001b[1;33m=\u001b[0m \u001b[0mLSTM\u001b[0m\u001b[1;33m(\u001b[0m\u001b[0mlatent_dim\u001b[0m\u001b[1;33m)\u001b[0m\u001b[1;33m(\u001b[0m\u001b[0minputs\u001b[0m\u001b[1;33m)\u001b[0m\u001b[1;33m\u001b[0m\u001b[0m\n\u001b[0;32m      6\u001b[0m \u001b[1;33m\u001b[0m\u001b[0m\n",
            "\u001b[1;31mNameError\u001b[0m: name 'timesteps' is not defined"
          ]
        }
      ]
    },
    {
      "metadata": {
        "id": "j-4ogCti__tm",
        "colab_type": "code",
        "colab": {
          "base_uri": "https://localhost:8080/",
          "height": 226
        },
        "outputId": "7a9b697b-ab9b-40d0-afba-c22fef3fd00e"
      },
      "cell_type": "code",
      "source": [
        "x = Input(batch_shape=(batch_size, original_dim))\n",
        "h = Dense(intermediate_dim, activation='relu')(x)\n",
        "z_mean = Dense(latent_dim)(h)\n",
        "z_log_sigma = Dense(latent_dim)(h)"
      ],
      "execution_count": 43,
      "outputs": [
        {
          "output_type": "error",
          "ename": "NameError",
          "evalue": "ignored",
          "traceback": [
            "\u001b[1;31m---------------------------------------------------------------------------\u001b[0m",
            "\u001b[1;31mNameError\u001b[0m                                 Traceback (most recent call last)",
            "\u001b[1;32m<ipython-input-43-9e785c714a43>\u001b[0m in \u001b[0;36m<module>\u001b[1;34m()\u001b[0m\n\u001b[1;32m----> 1\u001b[1;33m \u001b[0mx\u001b[0m \u001b[1;33m=\u001b[0m \u001b[0mInput\u001b[0m\u001b[1;33m(\u001b[0m\u001b[0mbatch_shape\u001b[0m\u001b[1;33m=\u001b[0m\u001b[1;33m(\u001b[0m\u001b[0mbatch_size\u001b[0m\u001b[1;33m,\u001b[0m \u001b[0moriginal_dim\u001b[0m\u001b[1;33m)\u001b[0m\u001b[1;33m)\u001b[0m\u001b[1;33m\u001b[0m\u001b[0m\n\u001b[0m\u001b[0;32m      2\u001b[0m \u001b[0mh\u001b[0m \u001b[1;33m=\u001b[0m \u001b[0mDense\u001b[0m\u001b[1;33m(\u001b[0m\u001b[0mintermediate_dim\u001b[0m\u001b[1;33m,\u001b[0m \u001b[0mactivation\u001b[0m\u001b[1;33m=\u001b[0m\u001b[1;34m'relu'\u001b[0m\u001b[1;33m)\u001b[0m\u001b[1;33m(\u001b[0m\u001b[0mx\u001b[0m\u001b[1;33m)\u001b[0m\u001b[1;33m\u001b[0m\u001b[0m\n\u001b[0;32m      3\u001b[0m \u001b[0mz_mean\u001b[0m \u001b[1;33m=\u001b[0m \u001b[0mDense\u001b[0m\u001b[1;33m(\u001b[0m\u001b[0mlatent_dim\u001b[0m\u001b[1;33m)\u001b[0m\u001b[1;33m(\u001b[0m\u001b[0mh\u001b[0m\u001b[1;33m)\u001b[0m\u001b[1;33m\u001b[0m\u001b[0m\n\u001b[0;32m      4\u001b[0m \u001b[0mz_log_sigma\u001b[0m \u001b[1;33m=\u001b[0m \u001b[0mDense\u001b[0m\u001b[1;33m(\u001b[0m\u001b[0mlatent_dim\u001b[0m\u001b[1;33m)\u001b[0m\u001b[1;33m(\u001b[0m\u001b[0mh\u001b[0m\u001b[1;33m)\u001b[0m\u001b[1;33m\u001b[0m\u001b[0m\n",
            "\u001b[1;31mNameError\u001b[0m: name 'batch_size' is not defined"
          ]
        }
      ]
    },
    {
      "metadata": {
        "id": "0F5ujEqM__yN",
        "colab_type": "code",
        "colab": {}
      },
      "cell_type": "code",
      "source": [
        "def sampling(args):\n",
        "    z_mean, z_log_sigma = args\n",
        "    epsilon = K.random_normal(shape=(batch_size, latent_dim),\n",
        "                              mean=0., std=epsilon_std)\n",
        "    return z_mean + K.exp(z_log_sigma) * epsilon\n",
        "\n",
        "# note that \"output_shape\" isn't necessary with the TensorFlow backend\n",
        "# so you could write `Lambda(sampling)([z_mean, z_log_sigma])`\n",
        "z = Lambda(sampling, output_shape=(latent_dim,))([z_mean, z_log_sigma])"
      ],
      "execution_count": 0,
      "outputs": []
    },
    {
      "metadata": {
        "id": "WMWIJ_uyAGSJ",
        "colab_type": "code",
        "colab": {}
      },
      "cell_type": "code",
      "source": [
        "decoder_h = Dense(intermediate_dim, activation='relu')\n",
        "decoder_mean = Dense(original_dim, activation='sigmoid')\n",
        "h_decoded = decoder_h(z)\n",
        "x_decoded_mean = decoder_mean(h_decoded)"
      ],
      "execution_count": 0,
      "outputs": []
    },
    {
      "metadata": {
        "id": "PsIfPS74AGXn",
        "colab_type": "code",
        "colab": {}
      },
      "cell_type": "code",
      "source": [
        "# end-to-end autoencoder\n",
        "vae = Model(x, x_decoded_mean)\n",
        "\n",
        "# encoder, from inputs to latent space\n",
        "encoder = Model(x, z_mean)\n",
        "\n",
        "# generator, from latent space to reconstructed inputs\n",
        "decoder_input = Input(shape=(latent_dim,))\n",
        "_h_decoded = decoder_h(decoder_input)\n",
        "_x_decoded_mean = decoder_mean(_h_decoded)\n",
        "generator = Model(decoder_input, _x_decoded_mean)\n"
      ],
      "execution_count": 0,
      "outputs": []
    },
    {
      "metadata": {
        "id": "Bh-nJN6JAGdr",
        "colab_type": "code",
        "colab": {}
      },
      "cell_type": "code",
      "source": [
        "def vae_loss(x, x_decoded_mean):\n",
        "    xent_loss = objectives.binary_crossentropy(x, x_decoded_mean)\n",
        "    kl_loss = - 0.5 * K.mean(1 + z_log_sigma - K.square(z_mean) - K.exp(z_log_sigma), axis=-1)\n",
        "    return xent_loss + kl_loss\n",
        "\n",
        "vae.compile(optimizer='rmsprop', loss=vae_loss)"
      ],
      "execution_count": 0,
      "outputs": []
    },
    {
      "metadata": {
        "id": "UHcAfbVoAGka",
        "colab_type": "code",
        "colab": {}
      },
      "cell_type": "code",
      "source": [
        "(x_train, y_train), (x_test, y_test) = mnist.load_data()\n",
        "\n",
        "x_train = x_train.astype('float32') / 255.\n",
        "x_test = x_test.astype('float32') / 255.\n",
        "x_train = x_train.reshape((len(x_train), np.prod(x_train.shape[1:])))\n",
        "x_test = x_test.reshape((len(x_test), np.prod(x_test.shape[1:])))\n",
        "\n",
        "vae.fit(x_train, x_train,\n",
        "        shuffle=True,\n",
        "        epochs=epochs,\n",
        "        batch_size=batch_size,\n",
        "        validation_data=(x_test, x_test))"
      ],
      "execution_count": 0,
      "outputs": []
    },
    {
      "metadata": {
        "id": "kbFBGMeBAGq2",
        "colab_type": "code",
        "colab": {}
      },
      "cell_type": "code",
      "source": [
        "x_test_encoded = encoder.predict(x_test, batch_size=batch_size)\n",
        "plt.figure(figsize=(6, 6))\n",
        "plt.scatter(x_test_encoded[:, 0], x_test_encoded[:, 1], c=y_test)\n",
        "plt.colorbar()\n",
        "plt.show()"
      ],
      "execution_count": 0,
      "outputs": []
    },
    {
      "metadata": {
        "id": "AkhwMYEYAO4d",
        "colab_type": "code",
        "colab": {}
      },
      "cell_type": "code",
      "source": [
        "# display a 2D manifold of the digits\n",
        "n = 15  # figure with 15x15 digits\n",
        "digit_size = 28\n",
        "figure = np.zeros((digit_size * n, digit_size * n))\n",
        "# we will sample n points within [-15, 15] standard deviations\n",
        "grid_x = np.linspace(-15, 15, n)\n",
        "grid_y = np.linspace(-15, 15, n)\n",
        "\n",
        "for i, yi in enumerate(grid_x):\n",
        "    for j, xi in enumerate(grid_y):\n",
        "        z_sample = np.array([[xi, yi]]) * epsilon_std\n",
        "        x_decoded = generator.predict(z_sample)\n",
        "        digit = x_decoded[0].reshape(digit_size, digit_size)\n",
        "        figure[i * digit_size: (i + 1) * digit_size,\n",
        "               j * digit_size: (j + 1) * digit_size] = digit\n",
        "\n",
        "plt.figure(figsize=(10, 10))\n",
        "plt.imshow(figure)\n",
        "plt.show()"
      ],
      "execution_count": 0,
      "outputs": []
    },
    {
      "metadata": {
        "id": "BSvIsSQo-E_-",
        "colab_type": "text"
      },
      "cell_type": "markdown",
      "source": [
        "## References\n",
        "\n",
        "---\n",
        "\n",
        "\n",
        "### [1] [Building Autoencoders in Keras, The Keras Blog](https://blog.keras.io/building-autoencoders-in-keras.html)"
      ]
    }
  ]
}